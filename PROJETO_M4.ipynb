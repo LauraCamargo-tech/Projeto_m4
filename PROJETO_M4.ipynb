{
  "nbformat": 4,
  "nbformat_minor": 0,
  "metadata": {
    "colab": {
      "provenance": [],
      "collapsed_sections": [
        "aRXkjGeVRmza",
        "9VofM7PSDWzf"
      ],
      "include_colab_link": true
    },
    "kernelspec": {
      "name": "python3",
      "display_name": "Python 3"
    },
    "language_info": {
      "name": "python"
    }
  },
  "cells": [
    {
      "cell_type": "markdown",
      "metadata": {
        "id": "view-in-github",
        "colab_type": "text"
      },
      "source": [
        "<a href=\"https://colab.research.google.com/github/gustavovarella/Projeto_m4/blob/main/PROJETO_M4.ipynb\" target=\"_parent\"><img src=\"https://colab.research.google.com/assets/colab-badge.svg\" alt=\"Open In Colab\"/></a>"
      ]
    },
    {
      "cell_type": "markdown",
      "source": [
        "# Análise exploratória - Projeto M4 - Squad 7\n",
        "\n",
        "---\n"
      ],
      "metadata": {
        "id": "5OsbPQGfNr3T"
      }
    },
    {
      "cell_type": "markdown",
      "source": [
        "<left><img alt=\"Analisando Airbnb\" width=\"27%\" src=\"https://www.resilia.com.br/wp-content/uploads/2021/08/logo.png\"></left>\n",
        "<left><img alt=\"Squad7\" width=\"15%\" src=\"https://drive.google.com/uc?id=1DG9VkOly916qcx6w6CHGYjkeLXEewut4\"></left>\n",
        "<right><img alt=\"gov.br\" width=\"11%\" src=\"https://play-lh.googleusercontent.com/qn6t9aaqbxUJDl9SMRlBkgG6SArPRfk_g_m5lyG6SjhpUfiW1PsHuJ6jSuL9GVDqnA\"></right>\n",
        "\n"
      ],
      "metadata": {
        "id": "pGLHY0po587k"
      }
    },
    {
      "cell_type": "markdown",
      "source": [
        "### **1. Objetivo do projeto:**"
      ],
      "metadata": {
        "id": "v3oYPRX5ODsf"
      }
    },
    {
      "cell_type": "markdown",
      "source": [
        "Realizar uma análise exploratória relacionada à série\n",
        "histórica de preço de venda da gasolina e do etanol dos últimos dois meses do ano atual."
      ],
      "metadata": {
        "id": "CJgIRG2Frqor"
      }
    },
    {
      "cell_type": "markdown",
      "source": [
        "##### **1.1. Pacotes Python e coleta de dados**"
      ],
      "metadata": {
        "id": "9ysk1bBpOQg_"
      }
    },
    {
      "cell_type": "markdown",
      "source": [
        "Essa etapa tem como finalidade realizar a coleta dos dados sem nenhum tratatamento, descrever, explorar os mesmos e por fim avaliar a qualidade e integridade."
      ],
      "metadata": {
        "id": "gV6jb23W8yJC"
      }
    },
    {
      "cell_type": "code",
      "execution_count": null,
      "metadata": {
        "id": "fK9pa_veoNcO"
      },
      "outputs": [],
      "source": [
        "# Importação dos pacotes Python\n",
        "import pandas as pd \n",
        "import matplotlib.pyplot as plt \n",
        "import seaborn as sns \n",
        "import numpy as np "
      ]
    },
    {
      "cell_type": "markdown",
      "source": [
        "Neste projeto foram utilizados dados dos últimos dois meses do ano atual (Julho e Agosto de 2022)"
      ],
      "metadata": {
        "id": "5gZR0CGC9vF7"
      }
    },
    {
      "cell_type": "markdown",
      "source": [
        "#####**1.2 Criação do DataFrame do mês de julho (df_julho)**"
      ],
      "metadata": {
        "id": "ujYNbncq-ftj"
      }
    },
    {
      "cell_type": "code",
      "source": [
        "#Criação do DataFrame do mês de julho (df_julho)\n",
        "\n",
        "df_julho = pd.read_csv('https://www.gov.br/anp/pt-br/centrais-de-conteudo/dados-abertos/arquivos/shpc/dsan/2022/precos-gasolina-etanol-07.csv', sep=';', encoding='ISO-8859-1')\n",
        "df_julho.columns = ['Regiao', 'Estado','Municipio','Revenda','CNPJ','Rua','Numero','Complemento','Bairro','CEP','Produto','Data da Coleta','Valor_de_Venda','Valor de Compra','Unidade de Medida','Bandeira']"
      ],
      "metadata": {
        "id": "d9-nkVsRpOdo"
      },
      "execution_count": null,
      "outputs": []
    },
    {
      "cell_type": "markdown",
      "source": [
        "#####**1.3 Criação do DataFrame do mês de Agosto (df_agosto)**"
      ],
      "metadata": {
        "id": "v7osy8Mj-aU0"
      }
    },
    {
      "cell_type": "code",
      "source": [
        "\n",
        "df_agosto = pd.read_csv('https://www.gov.br/anp/pt-br/centrais-de-conteudo/dados-abertos/arquivos/shpc/dsan/2022/precos-gasolina-etanol-08.csv', sep=';', encoding='ISO-8859-1')\n",
        "df_agosto.columns = ['Regiao', 'Estado','Municipio','Revenda','CNPJ','Rua','Numero','Complemento','Bairro','CEP','Produto','Data da Coleta','Valor_de_Venda','Valor de Compra','Unidade de Medida','Bandeira']"
      ],
      "metadata": {
        "id": "6I1bFVAL4_7d"
      },
      "execution_count": null,
      "outputs": []
    },
    {
      "cell_type": "markdown",
      "source": [
        "#####**1.4 União dos meses  de Julho (df_julho) e Agosto (df_agosto) em um único DataFrame (df_completo)**"
      ],
      "metadata": {
        "id": "SpbWNvAEx4qP"
      }
    },
    {
      "cell_type": "code",
      "source": [
        "frames = [df_agosto,df_julho]\n",
        "df_completo = pd.concat(frames)"
      ],
      "metadata": {
        "id": "-cEWuvdG7o2n"
      },
      "execution_count": null,
      "outputs": []
    },
    {
      "cell_type": "markdown",
      "source": [
        "### **2. Descrevendo os dados**"
      ],
      "metadata": {
        "id": "Nqm7PwRfOYMe"
      }
    },
    {
      "cell_type": "markdown",
      "source": [
        "Uma vez que possuímos um Dataset com todas os dados que serão usados para o desenvolvimento do projeto, será avaliado a dimensão do Dataset e tipos de variáveis presentes."
      ],
      "metadata": {
        "id": "D156dLop-zyh"
      }
    },
    {
      "cell_type": "code",
      "source": [
        "df_completo.shape"
      ],
      "metadata": {
        "id": "lCC52mtCObDd",
        "outputId": "cb699c9a-7863-47a6-9a3b-c93b3e4ebb53",
        "colab": {
          "base_uri": "https://localhost:8080/"
        }
      },
      "execution_count": null,
      "outputs": [
        {
          "output_type": "execute_result",
          "data": {
            "text/plain": [
              "(127176, 16)"
            ]
          },
          "metadata": {},
          "execution_count": 85
        }
      ]
    },
    {
      "cell_type": "markdown",
      "source": [
        "Com a função .shape foi possível concluir que o Dataset possui incialmenteum total de **127176** linhas/entradas, e **16** colunas/variáveis. Em seguida, é realizada a análise do tipo de variável presente nas 16 colunas, e em seguida é apresentado um dicionário das variáveis presentes."
      ],
      "metadata": {
        "id": "MnJLVWeA_hoZ"
      }
    },
    {
      "cell_type": "code",
      "source": [
        "display(df_completo.dtypes)"
      ],
      "metadata": {
        "id": "WRhbeD1NO6PR",
        "outputId": "a110ad9d-f03c-4651-cc97-2ea01ebea393",
        "colab": {
          "base_uri": "https://localhost:8080/",
          "height": 312
        }
      },
      "execution_count": null,
      "outputs": [
        {
          "output_type": "display_data",
          "data": {
            "text/plain": [
              "Regiao                object\n",
              "Estado                object\n",
              "Municipio             object\n",
              "Revenda               object\n",
              "CNPJ                  object\n",
              "Rua                   object\n",
              "Numero                object\n",
              "Complemento           object\n",
              "Bairro                object\n",
              "CEP                   object\n",
              "Produto               object\n",
              "Data da Coleta        object\n",
              "Valor_de_Venda        object\n",
              "Valor de Compra      float64\n",
              "Unidade de Medida     object\n",
              "Bandeira              object\n",
              "dtype: object"
            ]
          },
          "metadata": {}
        }
      ]
    },
    {
      "cell_type": "markdown",
      "source": [
        "**Dicionário das variáveis**\n",
        "\n",
        "* `Região` - Região onde cada estabelecimento está localizado.\n",
        "* `Estado` - Estado onde cada estabelecimento está localizado.\n",
        "* `Municipio` - Município onde cada estabelecimento está localizado.\n",
        "* `Revenda` - Nome de cada estabelecimento.\n",
        "* `CNPJ` - Cadastro Nacional de Pessoas Jurídicas. Nesse caso, de cada estabelecimento.\n",
        "* `Rua` - Rua onde cada estabelecimento está localizado.\n",
        "* `Numero` - Número do endereço onde cada estabelecimento está localizado.\n",
        "* `Complemento` - Complemento ao endereço onde cada estabelecimento está localizado.\n",
        "* `Bairro` - Bairro onde cada estabelecimento está localizado.\n",
        "* `CEP` - Código de Endereço Postal de cada estabelecimento.\n",
        "* `Produto` - Tipo de produto vendido pelos estabelecimentos.\n",
        "* `Data de Coleta` - Data em que foi realizada a coleta do dado.\n",
        "* `Valor de Venda` - Valor de Venda do Produto para o cliente.\n",
        "* `Valor de Compra` - Valor de Compra do Produto pelo estabelecimento.\n",
        "* `Unidade de Medida` - Unidade de Medida usada na venda do produto.\n",
        "* `Bandeira` - Bandeira do estabelecimento que realiza a venda do produto."
      ],
      "metadata": {
        "id": "TbwnHrHMO_0j"
      }
    },
    {
      "cell_type": "markdown",
      "source": [
        "#### **2.1 - Estatísticas Descritivas**\n",
        "\n",
        "\n"
      ],
      "metadata": {
        "id": "aRXkjGeVRmza"
      }
    },
    {
      "cell_type": "markdown",
      "source": [
        "Primeiro será avaliado a qualidade dos dados presentes, e sua integridade (% de valores nulos dentro de cada variável)"
      ],
      "metadata": {
        "id": "QFqy4nqEtjzI"
      }
    },
    {
      "cell_type": "code",
      "source": [
        "(df_completo.isnull().sum() / df_completo.shape[0]).sort_values(ascending=False)"
      ],
      "metadata": {
        "id": "9Op-uATlRpk5",
        "outputId": "00a65e13-441f-45c9-ad0d-dc76759898eb",
        "colab": {
          "base_uri": "https://localhost:8080/"
        }
      },
      "execution_count": null,
      "outputs": [
        {
          "output_type": "execute_result",
          "data": {
            "text/plain": [
              "Valor de Compra      1.000000\n",
              "Complemento          0.787075\n",
              "Bairro               0.003240\n",
              "Numero               0.000558\n",
              "Regiao               0.000000\n",
              "Estado               0.000000\n",
              "Municipio            0.000000\n",
              "Revenda              0.000000\n",
              "CNPJ                 0.000000\n",
              "Rua                  0.000000\n",
              "CEP                  0.000000\n",
              "Produto              0.000000\n",
              "Data da Coleta       0.000000\n",
              "Valor_de_Venda       0.000000\n",
              "Unidade de Medida    0.000000\n",
              "Bandeira             0.000000\n",
              "dtype: float64"
            ]
          },
          "metadata": {},
          "execution_count": 87
        }
      ]
    },
    {
      "cell_type": "markdown",
      "source": [
        "**Quanto à questão de dados faltantes, em uma breve verificação podemos identificar que:**\n",
        "\n",
        "* A coluna **`Valor de Compra`** possui quase 100% dos seus valores faltantes.\n",
        "* A coluna **`Complemento`** possui cerca de 79% dos seus valores faltantes.\n",
        "* A coluna **`Bairro`** possui cerca de 0,3% dos seus valores faltantes.\n",
        "* A coluna **`Numero`** possui cerca de 0,06% dos seus valores faltantes.\n"
      ],
      "metadata": {
        "id": "elHmhqngSE7w"
      }
    },
    {
      "cell_type": "markdown",
      "source": [
        "Ao analisar as perguntas que serão respondidas pelo projeto (item 3.1) e o resultado da avaliação de variáveis com valores nulos é possível concluir que apenas 2 colunas possuem um valor expressivo de valores faltantes. No entanto, ambas não terão impacto no desenvolvimento do projeto, visto que trazem dados que não serão utilizados na solução das perguntas."
      ],
      "metadata": {
        "id": "hla7H8svA7RX"
      }
    },
    {
      "cell_type": "markdown",
      "source": [
        "Por fim, após análise inicial das variáveis e integridade dos dados, teremos o primeiro contato com o nosso Dataset."
      ],
      "metadata": {
        "id": "6zBZr5bICfHa"
      }
    },
    {
      "cell_type": "code",
      "source": [
        "#Visualização das primeiras cinco linhas do Dataset.\n",
        "df_completo.head()"
      ],
      "metadata": {
        "colab": {
          "base_uri": "https://localhost:8080/"
        },
        "id": "JeBzUQzkCuX-",
        "outputId": "f644593b-49c5-4163-acf2-95dd3fe8dba4"
      },
      "execution_count": null,
      "outputs": [
        {
          "output_type": "execute_result",
          "data": {
            "text/plain": [
              "  Regiao Estado  Municipio                        Revenda  \\\n",
              "0     NE     AL  ARAPIRACA    AUTO POSTO M M GARROTE LTDA   \n",
              "1     NE     AL  ARAPIRACA    AUTO POSTO M M GARROTE LTDA   \n",
              "2     NE     AL  ARAPIRACA  AUTO POSTO MASSARANDUBA LTDA.   \n",
              "3     NE     AL  ARAPIRACA  AUTO POSTO MASSARANDUBA LTDA.   \n",
              "4     NE     AL  ARAPIRACA  AUTO POSTO MASSARANDUBA LTDA.   \n",
              "\n",
              "                  CNPJ             Rua Numero Complemento       Bairro  \\\n",
              "0   08.738.994/0001-50  RODOVIA AL-220   5848    KM    96  BOM SUCESSO   \n",
              "1   08.738.994/0001-50  RODOVIA AL-220   5848    KM    96  BOM SUCESSO   \n",
              "2   07.248.398/0001-29  RODOVIA AL 220   4698         NaN     PLANALTO   \n",
              "3   07.248.398/0001-29  RODOVIA AL 220   4698         NaN     PLANALTO   \n",
              "4   07.248.398/0001-29  RODOVIA AL 220   4698         NaN     PLANALTO   \n",
              "\n",
              "         CEP             Produto Data da Coleta Valor_de_Venda  \\\n",
              "0  57309-035              ETANOL     01/08/2022           4,79   \n",
              "1  57309-035            GASOLINA     01/08/2022           5,59   \n",
              "2  57308-000  GASOLINA ADITIVADA     01/08/2022           5,99   \n",
              "3  57308-000              ETANOL     01/08/2022           4,99   \n",
              "4  57308-000            GASOLINA     01/08/2022           5,79   \n",
              "\n",
              "   Valor de Compra Unidade de Medida       Bandeira  \n",
              "0              NaN        R$ / litro  VIBRA ENERGIA  \n",
              "1              NaN        R$ / litro  VIBRA ENERGIA  \n",
              "2              NaN        R$ / litro         BRANCA  \n",
              "3              NaN        R$ / litro         BRANCA  \n",
              "4              NaN        R$ / litro         BRANCA  "
            ],
            "text/html": [
              "\n",
              "  <div id=\"df-1a178f22-4dcd-403e-ab6e-c0ae7a887bf3\">\n",
              "    <div class=\"colab-df-container\">\n",
              "      <div>\n",
              "<style scoped>\n",
              "    .dataframe tbody tr th:only-of-type {\n",
              "        vertical-align: middle;\n",
              "    }\n",
              "\n",
              "    .dataframe tbody tr th {\n",
              "        vertical-align: top;\n",
              "    }\n",
              "\n",
              "    .dataframe thead th {\n",
              "        text-align: right;\n",
              "    }\n",
              "</style>\n",
              "<table border=\"1\" class=\"dataframe\">\n",
              "  <thead>\n",
              "    <tr style=\"text-align: right;\">\n",
              "      <th></th>\n",
              "      <th>Regiao</th>\n",
              "      <th>Estado</th>\n",
              "      <th>Municipio</th>\n",
              "      <th>Revenda</th>\n",
              "      <th>CNPJ</th>\n",
              "      <th>Rua</th>\n",
              "      <th>Numero</th>\n",
              "      <th>Complemento</th>\n",
              "      <th>Bairro</th>\n",
              "      <th>CEP</th>\n",
              "      <th>Produto</th>\n",
              "      <th>Data da Coleta</th>\n",
              "      <th>Valor_de_Venda</th>\n",
              "      <th>Valor de Compra</th>\n",
              "      <th>Unidade de Medida</th>\n",
              "      <th>Bandeira</th>\n",
              "    </tr>\n",
              "  </thead>\n",
              "  <tbody>\n",
              "    <tr>\n",
              "      <th>0</th>\n",
              "      <td>NE</td>\n",
              "      <td>AL</td>\n",
              "      <td>ARAPIRACA</td>\n",
              "      <td>AUTO POSTO M M GARROTE LTDA</td>\n",
              "      <td>08.738.994/0001-50</td>\n",
              "      <td>RODOVIA AL-220</td>\n",
              "      <td>5848</td>\n",
              "      <td>KM    96</td>\n",
              "      <td>BOM SUCESSO</td>\n",
              "      <td>57309-035</td>\n",
              "      <td>ETANOL</td>\n",
              "      <td>01/08/2022</td>\n",
              "      <td>4,79</td>\n",
              "      <td>NaN</td>\n",
              "      <td>R$ / litro</td>\n",
              "      <td>VIBRA ENERGIA</td>\n",
              "    </tr>\n",
              "    <tr>\n",
              "      <th>1</th>\n",
              "      <td>NE</td>\n",
              "      <td>AL</td>\n",
              "      <td>ARAPIRACA</td>\n",
              "      <td>AUTO POSTO M M GARROTE LTDA</td>\n",
              "      <td>08.738.994/0001-50</td>\n",
              "      <td>RODOVIA AL-220</td>\n",
              "      <td>5848</td>\n",
              "      <td>KM    96</td>\n",
              "      <td>BOM SUCESSO</td>\n",
              "      <td>57309-035</td>\n",
              "      <td>GASOLINA</td>\n",
              "      <td>01/08/2022</td>\n",
              "      <td>5,59</td>\n",
              "      <td>NaN</td>\n",
              "      <td>R$ / litro</td>\n",
              "      <td>VIBRA ENERGIA</td>\n",
              "    </tr>\n",
              "    <tr>\n",
              "      <th>2</th>\n",
              "      <td>NE</td>\n",
              "      <td>AL</td>\n",
              "      <td>ARAPIRACA</td>\n",
              "      <td>AUTO POSTO MASSARANDUBA LTDA.</td>\n",
              "      <td>07.248.398/0001-29</td>\n",
              "      <td>RODOVIA AL 220</td>\n",
              "      <td>4698</td>\n",
              "      <td>NaN</td>\n",
              "      <td>PLANALTO</td>\n",
              "      <td>57308-000</td>\n",
              "      <td>GASOLINA ADITIVADA</td>\n",
              "      <td>01/08/2022</td>\n",
              "      <td>5,99</td>\n",
              "      <td>NaN</td>\n",
              "      <td>R$ / litro</td>\n",
              "      <td>BRANCA</td>\n",
              "    </tr>\n",
              "    <tr>\n",
              "      <th>3</th>\n",
              "      <td>NE</td>\n",
              "      <td>AL</td>\n",
              "      <td>ARAPIRACA</td>\n",
              "      <td>AUTO POSTO MASSARANDUBA LTDA.</td>\n",
              "      <td>07.248.398/0001-29</td>\n",
              "      <td>RODOVIA AL 220</td>\n",
              "      <td>4698</td>\n",
              "      <td>NaN</td>\n",
              "      <td>PLANALTO</td>\n",
              "      <td>57308-000</td>\n",
              "      <td>ETANOL</td>\n",
              "      <td>01/08/2022</td>\n",
              "      <td>4,99</td>\n",
              "      <td>NaN</td>\n",
              "      <td>R$ / litro</td>\n",
              "      <td>BRANCA</td>\n",
              "    </tr>\n",
              "    <tr>\n",
              "      <th>4</th>\n",
              "      <td>NE</td>\n",
              "      <td>AL</td>\n",
              "      <td>ARAPIRACA</td>\n",
              "      <td>AUTO POSTO MASSARANDUBA LTDA.</td>\n",
              "      <td>07.248.398/0001-29</td>\n",
              "      <td>RODOVIA AL 220</td>\n",
              "      <td>4698</td>\n",
              "      <td>NaN</td>\n",
              "      <td>PLANALTO</td>\n",
              "      <td>57308-000</td>\n",
              "      <td>GASOLINA</td>\n",
              "      <td>01/08/2022</td>\n",
              "      <td>5,79</td>\n",
              "      <td>NaN</td>\n",
              "      <td>R$ / litro</td>\n",
              "      <td>BRANCA</td>\n",
              "    </tr>\n",
              "  </tbody>\n",
              "</table>\n",
              "</div>\n",
              "      <button class=\"colab-df-convert\" onclick=\"convertToInteractive('df-1a178f22-4dcd-403e-ab6e-c0ae7a887bf3')\"\n",
              "              title=\"Convert this dataframe to an interactive table.\"\n",
              "              style=\"display:none;\">\n",
              "        \n",
              "  <svg xmlns=\"http://www.w3.org/2000/svg\" height=\"24px\"viewBox=\"0 0 24 24\"\n",
              "       width=\"24px\">\n",
              "    <path d=\"M0 0h24v24H0V0z\" fill=\"none\"/>\n",
              "    <path d=\"M18.56 5.44l.94 2.06.94-2.06 2.06-.94-2.06-.94-.94-2.06-.94 2.06-2.06.94zm-11 1L8.5 8.5l.94-2.06 2.06-.94-2.06-.94L8.5 2.5l-.94 2.06-2.06.94zm10 10l.94 2.06.94-2.06 2.06-.94-2.06-.94-.94-2.06-.94 2.06-2.06.94z\"/><path d=\"M17.41 7.96l-1.37-1.37c-.4-.4-.92-.59-1.43-.59-.52 0-1.04.2-1.43.59L10.3 9.45l-7.72 7.72c-.78.78-.78 2.05 0 2.83L4 21.41c.39.39.9.59 1.41.59.51 0 1.02-.2 1.41-.59l7.78-7.78 2.81-2.81c.8-.78.8-2.07 0-2.86zM5.41 20L4 18.59l7.72-7.72 1.47 1.35L5.41 20z\"/>\n",
              "  </svg>\n",
              "      </button>\n",
              "      \n",
              "  <style>\n",
              "    .colab-df-container {\n",
              "      display:flex;\n",
              "      flex-wrap:wrap;\n",
              "      gap: 12px;\n",
              "    }\n",
              "\n",
              "    .colab-df-convert {\n",
              "      background-color: #E8F0FE;\n",
              "      border: none;\n",
              "      border-radius: 50%;\n",
              "      cursor: pointer;\n",
              "      display: none;\n",
              "      fill: #1967D2;\n",
              "      height: 32px;\n",
              "      padding: 0 0 0 0;\n",
              "      width: 32px;\n",
              "    }\n",
              "\n",
              "    .colab-df-convert:hover {\n",
              "      background-color: #E2EBFA;\n",
              "      box-shadow: 0px 1px 2px rgba(60, 64, 67, 0.3), 0px 1px 3px 1px rgba(60, 64, 67, 0.15);\n",
              "      fill: #174EA6;\n",
              "    }\n",
              "\n",
              "    [theme=dark] .colab-df-convert {\n",
              "      background-color: #3B4455;\n",
              "      fill: #D2E3FC;\n",
              "    }\n",
              "\n",
              "    [theme=dark] .colab-df-convert:hover {\n",
              "      background-color: #434B5C;\n",
              "      box-shadow: 0px 1px 3px 1px rgba(0, 0, 0, 0.15);\n",
              "      filter: drop-shadow(0px 1px 2px rgba(0, 0, 0, 0.3));\n",
              "      fill: #FFFFFF;\n",
              "    }\n",
              "  </style>\n",
              "\n",
              "      <script>\n",
              "        const buttonEl =\n",
              "          document.querySelector('#df-1a178f22-4dcd-403e-ab6e-c0ae7a887bf3 button.colab-df-convert');\n",
              "        buttonEl.style.display =\n",
              "          google.colab.kernel.accessAllowed ? 'block' : 'none';\n",
              "\n",
              "        async function convertToInteractive(key) {\n",
              "          const element = document.querySelector('#df-1a178f22-4dcd-403e-ab6e-c0ae7a887bf3');\n",
              "          const dataTable =\n",
              "            await google.colab.kernel.invokeFunction('convertToInteractive',\n",
              "                                                     [key], {});\n",
              "          if (!dataTable) return;\n",
              "\n",
              "          const docLinkHtml = 'Like what you see? Visit the ' +\n",
              "            '<a target=\"_blank\" href=https://colab.research.google.com/notebooks/data_table.ipynb>data table notebook</a>'\n",
              "            + ' to learn more about interactive tables.';\n",
              "          element.innerHTML = '';\n",
              "          dataTable['output_type'] = 'display_data';\n",
              "          await google.colab.output.renderOutput(dataTable, element);\n",
              "          const docLink = document.createElement('div');\n",
              "          docLink.innerHTML = docLinkHtml;\n",
              "          element.appendChild(docLink);\n",
              "        }\n",
              "      </script>\n",
              "    </div>\n",
              "  </div>\n",
              "  "
            ]
          },
          "metadata": {},
          "execution_count": 88
        }
      ]
    },
    {
      "cell_type": "code",
      "source": [
        "#Visualização das últimas cinco linhas do Dataset.\n",
        "df_completo.tail()"
      ],
      "metadata": {
        "colab": {
          "base_uri": "https://localhost:8080/"
        },
        "id": "mFuSN9QRCzD2",
        "outputId": "7a3bab04-b53d-40c9-8cae-a43215babd7a"
      },
      "execution_count": null,
      "outputs": [
        {
          "output_type": "execute_result",
          "data": {
            "text/plain": [
              "      Regiao Estado     Municipio                                   Revenda  \\\n",
              "57627     SE     MG   DIVINOPOLIS  AUTO POSTO DE COMBUSTIVEIS ATACADAO LTDA   \n",
              "57628      S     RS  PORTO ALEGRE    LUIZ GUSTAVO DI LORENZO GARCIA SCHERER   \n",
              "57629      S     RS  PORTO ALEGRE    LUIZ GUSTAVO DI LORENZO GARCIA SCHERER   \n",
              "57630     NE     MA        CAXIAS      POSTAO COMERCIO DE COMBUSTIVEIS LTDA   \n",
              "57631     NE     MA        CAXIAS      POSTAO COMERCIO DE COMBUSTIVEIS LTDA   \n",
              "\n",
              "                      CNPJ                      Rua Numero  \\\n",
              "57627   32.924.614/0001-56         RUA CASTRO ALVES   2400   \n",
              "57628   34.792.562/0001-37  AVENIDA BENTO GONCALVES   2599   \n",
              "57629   34.792.562/0001-37  AVENIDA BENTO GONCALVES   2599   \n",
              "57630   31.597.569/0001-00           RODOVIA BR-316    S/N   \n",
              "57631   31.597.569/0001-00           RODOVIA BR-316    S/N   \n",
              "\n",
              "                             Complemento         Bairro        CEP  \\\n",
              "57627                                NaN        CATALAO  35501-205   \n",
              "57628                                NaN       PARTENON  90650-003   \n",
              "57629                                NaN       PARTENON  90650-003   \n",
              "57630  KM    552                 SALA  A  VOLTA REDONDA  65606-525   \n",
              "57631  KM    552                 SALA  A  VOLTA REDONDA  65606-525   \n",
              "\n",
              "                  Produto Data da Coleta Valor_de_Venda  Valor de Compra  \\\n",
              "57627            GASOLINA     29/07/2022           5,38              NaN   \n",
              "57628  GASOLINA ADITIVADA     29/07/2022           5,46              NaN   \n",
              "57629            GASOLINA     29/07/2022           5,46              NaN   \n",
              "57630  GASOLINA ADITIVADA     29/07/2022           5,68              NaN   \n",
              "57631            GASOLINA     29/07/2022           5,68              NaN   \n",
              "\n",
              "      Unidade de Medida Bandeira  \n",
              "57627        R$ / litro   BRANCA  \n",
              "57628        R$ / litro   BRANCA  \n",
              "57629        R$ / litro   BRANCA  \n",
              "57630        R$ / litro   BRANCA  \n",
              "57631        R$ / litro   BRANCA  "
            ],
            "text/html": [
              "\n",
              "  <div id=\"df-cf146941-b47b-4385-ae9d-e8c476b03de2\">\n",
              "    <div class=\"colab-df-container\">\n",
              "      <div>\n",
              "<style scoped>\n",
              "    .dataframe tbody tr th:only-of-type {\n",
              "        vertical-align: middle;\n",
              "    }\n",
              "\n",
              "    .dataframe tbody tr th {\n",
              "        vertical-align: top;\n",
              "    }\n",
              "\n",
              "    .dataframe thead th {\n",
              "        text-align: right;\n",
              "    }\n",
              "</style>\n",
              "<table border=\"1\" class=\"dataframe\">\n",
              "  <thead>\n",
              "    <tr style=\"text-align: right;\">\n",
              "      <th></th>\n",
              "      <th>Regiao</th>\n",
              "      <th>Estado</th>\n",
              "      <th>Municipio</th>\n",
              "      <th>Revenda</th>\n",
              "      <th>CNPJ</th>\n",
              "      <th>Rua</th>\n",
              "      <th>Numero</th>\n",
              "      <th>Complemento</th>\n",
              "      <th>Bairro</th>\n",
              "      <th>CEP</th>\n",
              "      <th>Produto</th>\n",
              "      <th>Data da Coleta</th>\n",
              "      <th>Valor_de_Venda</th>\n",
              "      <th>Valor de Compra</th>\n",
              "      <th>Unidade de Medida</th>\n",
              "      <th>Bandeira</th>\n",
              "    </tr>\n",
              "  </thead>\n",
              "  <tbody>\n",
              "    <tr>\n",
              "      <th>57627</th>\n",
              "      <td>SE</td>\n",
              "      <td>MG</td>\n",
              "      <td>DIVINOPOLIS</td>\n",
              "      <td>AUTO POSTO DE COMBUSTIVEIS ATACADAO LTDA</td>\n",
              "      <td>32.924.614/0001-56</td>\n",
              "      <td>RUA CASTRO ALVES</td>\n",
              "      <td>2400</td>\n",
              "      <td>NaN</td>\n",
              "      <td>CATALAO</td>\n",
              "      <td>35501-205</td>\n",
              "      <td>GASOLINA</td>\n",
              "      <td>29/07/2022</td>\n",
              "      <td>5,38</td>\n",
              "      <td>NaN</td>\n",
              "      <td>R$ / litro</td>\n",
              "      <td>BRANCA</td>\n",
              "    </tr>\n",
              "    <tr>\n",
              "      <th>57628</th>\n",
              "      <td>S</td>\n",
              "      <td>RS</td>\n",
              "      <td>PORTO ALEGRE</td>\n",
              "      <td>LUIZ GUSTAVO DI LORENZO GARCIA SCHERER</td>\n",
              "      <td>34.792.562/0001-37</td>\n",
              "      <td>AVENIDA BENTO GONCALVES</td>\n",
              "      <td>2599</td>\n",
              "      <td>NaN</td>\n",
              "      <td>PARTENON</td>\n",
              "      <td>90650-003</td>\n",
              "      <td>GASOLINA ADITIVADA</td>\n",
              "      <td>29/07/2022</td>\n",
              "      <td>5,46</td>\n",
              "      <td>NaN</td>\n",
              "      <td>R$ / litro</td>\n",
              "      <td>BRANCA</td>\n",
              "    </tr>\n",
              "    <tr>\n",
              "      <th>57629</th>\n",
              "      <td>S</td>\n",
              "      <td>RS</td>\n",
              "      <td>PORTO ALEGRE</td>\n",
              "      <td>LUIZ GUSTAVO DI LORENZO GARCIA SCHERER</td>\n",
              "      <td>34.792.562/0001-37</td>\n",
              "      <td>AVENIDA BENTO GONCALVES</td>\n",
              "      <td>2599</td>\n",
              "      <td>NaN</td>\n",
              "      <td>PARTENON</td>\n",
              "      <td>90650-003</td>\n",
              "      <td>GASOLINA</td>\n",
              "      <td>29/07/2022</td>\n",
              "      <td>5,46</td>\n",
              "      <td>NaN</td>\n",
              "      <td>R$ / litro</td>\n",
              "      <td>BRANCA</td>\n",
              "    </tr>\n",
              "    <tr>\n",
              "      <th>57630</th>\n",
              "      <td>NE</td>\n",
              "      <td>MA</td>\n",
              "      <td>CAXIAS</td>\n",
              "      <td>POSTAO COMERCIO DE COMBUSTIVEIS LTDA</td>\n",
              "      <td>31.597.569/0001-00</td>\n",
              "      <td>RODOVIA BR-316</td>\n",
              "      <td>S/N</td>\n",
              "      <td>KM    552                 SALA  A</td>\n",
              "      <td>VOLTA REDONDA</td>\n",
              "      <td>65606-525</td>\n",
              "      <td>GASOLINA ADITIVADA</td>\n",
              "      <td>29/07/2022</td>\n",
              "      <td>5,68</td>\n",
              "      <td>NaN</td>\n",
              "      <td>R$ / litro</td>\n",
              "      <td>BRANCA</td>\n",
              "    </tr>\n",
              "    <tr>\n",
              "      <th>57631</th>\n",
              "      <td>NE</td>\n",
              "      <td>MA</td>\n",
              "      <td>CAXIAS</td>\n",
              "      <td>POSTAO COMERCIO DE COMBUSTIVEIS LTDA</td>\n",
              "      <td>31.597.569/0001-00</td>\n",
              "      <td>RODOVIA BR-316</td>\n",
              "      <td>S/N</td>\n",
              "      <td>KM    552                 SALA  A</td>\n",
              "      <td>VOLTA REDONDA</td>\n",
              "      <td>65606-525</td>\n",
              "      <td>GASOLINA</td>\n",
              "      <td>29/07/2022</td>\n",
              "      <td>5,68</td>\n",
              "      <td>NaN</td>\n",
              "      <td>R$ / litro</td>\n",
              "      <td>BRANCA</td>\n",
              "    </tr>\n",
              "  </tbody>\n",
              "</table>\n",
              "</div>\n",
              "      <button class=\"colab-df-convert\" onclick=\"convertToInteractive('df-cf146941-b47b-4385-ae9d-e8c476b03de2')\"\n",
              "              title=\"Convert this dataframe to an interactive table.\"\n",
              "              style=\"display:none;\">\n",
              "        \n",
              "  <svg xmlns=\"http://www.w3.org/2000/svg\" height=\"24px\"viewBox=\"0 0 24 24\"\n",
              "       width=\"24px\">\n",
              "    <path d=\"M0 0h24v24H0V0z\" fill=\"none\"/>\n",
              "    <path d=\"M18.56 5.44l.94 2.06.94-2.06 2.06-.94-2.06-.94-.94-2.06-.94 2.06-2.06.94zm-11 1L8.5 8.5l.94-2.06 2.06-.94-2.06-.94L8.5 2.5l-.94 2.06-2.06.94zm10 10l.94 2.06.94-2.06 2.06-.94-2.06-.94-.94-2.06-.94 2.06-2.06.94z\"/><path d=\"M17.41 7.96l-1.37-1.37c-.4-.4-.92-.59-1.43-.59-.52 0-1.04.2-1.43.59L10.3 9.45l-7.72 7.72c-.78.78-.78 2.05 0 2.83L4 21.41c.39.39.9.59 1.41.59.51 0 1.02-.2 1.41-.59l7.78-7.78 2.81-2.81c.8-.78.8-2.07 0-2.86zM5.41 20L4 18.59l7.72-7.72 1.47 1.35L5.41 20z\"/>\n",
              "  </svg>\n",
              "      </button>\n",
              "      \n",
              "  <style>\n",
              "    .colab-df-container {\n",
              "      display:flex;\n",
              "      flex-wrap:wrap;\n",
              "      gap: 12px;\n",
              "    }\n",
              "\n",
              "    .colab-df-convert {\n",
              "      background-color: #E8F0FE;\n",
              "      border: none;\n",
              "      border-radius: 50%;\n",
              "      cursor: pointer;\n",
              "      display: none;\n",
              "      fill: #1967D2;\n",
              "      height: 32px;\n",
              "      padding: 0 0 0 0;\n",
              "      width: 32px;\n",
              "    }\n",
              "\n",
              "    .colab-df-convert:hover {\n",
              "      background-color: #E2EBFA;\n",
              "      box-shadow: 0px 1px 2px rgba(60, 64, 67, 0.3), 0px 1px 3px 1px rgba(60, 64, 67, 0.15);\n",
              "      fill: #174EA6;\n",
              "    }\n",
              "\n",
              "    [theme=dark] .colab-df-convert {\n",
              "      background-color: #3B4455;\n",
              "      fill: #D2E3FC;\n",
              "    }\n",
              "\n",
              "    [theme=dark] .colab-df-convert:hover {\n",
              "      background-color: #434B5C;\n",
              "      box-shadow: 0px 1px 3px 1px rgba(0, 0, 0, 0.15);\n",
              "      filter: drop-shadow(0px 1px 2px rgba(0, 0, 0, 0.3));\n",
              "      fill: #FFFFFF;\n",
              "    }\n",
              "  </style>\n",
              "\n",
              "      <script>\n",
              "        const buttonEl =\n",
              "          document.querySelector('#df-cf146941-b47b-4385-ae9d-e8c476b03de2 button.colab-df-convert');\n",
              "        buttonEl.style.display =\n",
              "          google.colab.kernel.accessAllowed ? 'block' : 'none';\n",
              "\n",
              "        async function convertToInteractive(key) {\n",
              "          const element = document.querySelector('#df-cf146941-b47b-4385-ae9d-e8c476b03de2');\n",
              "          const dataTable =\n",
              "            await google.colab.kernel.invokeFunction('convertToInteractive',\n",
              "                                                     [key], {});\n",
              "          if (!dataTable) return;\n",
              "\n",
              "          const docLinkHtml = 'Like what you see? Visit the ' +\n",
              "            '<a target=\"_blank\" href=https://colab.research.google.com/notebooks/data_table.ipynb>data table notebook</a>'\n",
              "            + ' to learn more about interactive tables.';\n",
              "          element.innerHTML = '';\n",
              "          dataTable['output_type'] = 'display_data';\n",
              "          await google.colab.output.renderOutput(dataTable, element);\n",
              "          const docLink = document.createElement('div');\n",
              "          docLink.innerHTML = docLinkHtml;\n",
              "          element.appendChild(docLink);\n",
              "        }\n",
              "      </script>\n",
              "    </div>\n",
              "  </div>\n",
              "  "
            ]
          },
          "metadata": {},
          "execution_count": 89
        }
      ]
    },
    {
      "cell_type": "markdown",
      "source": [
        "### **3 - Limpeza do Banco de Dados**"
      ],
      "metadata": {
        "id": "79wJEKgB4igf"
      }
    },
    {
      "cell_type": "markdown",
      "source": [
        "####**3.1. - Análise de Outliers**"
      ],
      "metadata": {
        "id": "9VofM7PSDWzf"
      }
    },
    {
      "cell_type": "markdown",
      "source": [
        "A verificação de Outliers será realizada em três passos:\n",
        "* 1 - Resumo Estatístico dos dados presentes utilizando a função .describe()\n",
        "* 2 - Visualização do gráfico de histograma\n",
        "* 3 - Análise da Amplitude Interquartil\n",
        "\n",
        "Para o desenvolvimento do Projeto, convertemos a formatação da variável 'Valor_de_Venda', alterando a separação entre a parte inteira e decimal de ',' para '.', e garantimos que o seu tipo seja 'float' (valor decimais)."
      ],
      "metadata": {
        "id": "tmSFft-TDaI7"
      }
    },
    {
      "cell_type": "code",
      "source": [
        "# alterando tipo da variável\n",
        "df_completo['Valor_de_Venda'] = df_completo['Valor_de_Venda'].str.replace(',', '.')\n",
        "df_completo['Valor_de_Venda']= df_completo['Valor_de_Venda'].astype(float)"
      ],
      "metadata": {
        "id": "WwLDWMlNlMUA"
      },
      "execution_count": null,
      "outputs": []
    },
    {
      "cell_type": "markdown",
      "source": [
        "##### **3.2 - Visualização do gráfico de histograma da variável 'Valor_de_Venda'**"
      ],
      "metadata": {
        "id": "O4QkNl6LwGHS"
      }
    },
    {
      "cell_type": "code",
      "source": [
        "plt.hist(x = df_completo['Valor_de_Venda']);"
      ],
      "metadata": {
        "colab": {
          "base_uri": "https://localhost:8080/",
          "height": 265
        },
        "id": "BYxliDieFGtn",
        "outputId": "3f7d157c-6a99-4db6-c047-195cc91460e4"
      },
      "execution_count": null,
      "outputs": [
        {
          "output_type": "display_data",
          "data": {
            "text/plain": [
              "<Figure size 432x288 with 1 Axes>"
            ],
            "image/png": "[encoded data removed]"
          },
          "metadata": {
            "needs_background": "light"
          }
        }
      ]
    },
    {
      "cell_type": "markdown",
      "source": [
        "Analisando o gráfico acima ainda não é possível concluir a análise de Outliers apesar da distruibuição aparentemente normal."
      ],
      "metadata": {
        "id": "QTOWodFpwUPA"
      }
    },
    {
      "cell_type": "code",
      "source": [
        "df_completo['Valor_de_Venda'].describe()"
      ],
      "metadata": {
        "colab": {
          "base_uri": "https://localhost:8080/"
        },
        "id": "jsAi3LvjDr_e",
        "outputId": "16de8658-c4a1-454b-d706-2534d8d53246"
      },
      "execution_count": null,
      "outputs": [
        {
          "output_type": "execute_result",
          "data": {
            "text/plain": [
              "count    127176.000000\n",
              "mean          5.355503\n",
              "std           0.860449\n",
              "min           2.890000\n",
              "25%           4.880000\n",
              "50%           5.490000\n",
              "75%           5.890000\n",
              "max           9.270000\n",
              "Name: Valor_de_Venda, dtype: float64"
            ]
          },
          "metadata": {},
          "execution_count": 92
        }
      ]
    },
    {
      "cell_type": "markdown",
      "source": [
        "Com a função .describe() encontramos os primeiros indícios de Outliers. Comparando, por exemplo, o valor máximo da variável 'Valor_de_Venda', **9.27**, com o Q3, **5.89**, observamos que o maior valor do nosso dataset é cerca de **58%** maior que 75% de todos os valores, e cerca de **73%** maior que a média dessa variável.\n"
      ],
      "metadata": {
        "id": "4BrNjENwwop4"
      }
    },
    {
      "cell_type": "markdown",
      "source": [
        "Encontrados os primeiros indícios, será utilizado o metódo **Análise da Amplitude Interquartil** para a avaliação de todos os valores que possam ou não se enquadrar como OutLiers. \n",
        "\n",
        "Esse método tem como parâmetros três variáveis, sendo elas: \n",
        "\n",
        "* IIQ - Intervalo InterQuartil (Q3 - Q1)\n",
        "* Q1 - Primerio Quartil (25%)\n",
        "* Q3 - Terceiro Quartil (75)\n",
        "\n",
        "Serão considerados valores OutLiers os que não respeitarem as seguintes regras:\n",
        "* Outlier abaixo: valor da variável < Q1 - FIG * 1.5\n",
        "* Outlier acima: valor da variável > Q3 + FIG * 1.5\n"
      ],
      "metadata": {
        "id": "p-r1PIl1ys3n"
      }
    },
    {
      "cell_type": "markdown",
      "source": [
        "#####  **3.3 - Desenvolvimento da Análise de Amplitude Interquartil**"
      ],
      "metadata": {
        "id": "qUcfOysNwol0"
      }
    },
    {
      "cell_type": "code",
      "source": [
        "#Geração das variáveis Q1, Q3 e FIG\n",
        "Q1 = df_completo['Valor_de_Venda'].quantile(0.25)\n",
        "Q3 = df_completo['Valor_de_Venda'].quantile(0.75)\n",
        "IIQ = Q3 - Q1\n",
        "IIQ\n"
      ],
      "metadata": {
        "colab": {
          "base_uri": "https://localhost:8080/"
        },
        "id": "o_puROoTdpU4",
        "outputId": "a13a913c-ce42-45ea-b9c8-11847130e830"
      },
      "execution_count": null,
      "outputs": [
        {
          "output_type": "execute_result",
          "data": {
            "text/plain": [
              "1.0099999999999998"
            ]
          },
          "metadata": {},
          "execution_count": 93
        }
      ]
    },
    {
      "cell_type": "code",
      "source": [
        "outlier_baixo = Q1 - (1.5 * IIQ)\n",
        "outlier_baixo"
      ],
      "metadata": {
        "colab": {
          "base_uri": "https://localhost:8080/"
        },
        "id": "wZSNW2gUgrCQ",
        "outputId": "84c2e4ec-32c5-4134-9d63-cf23d5722d39"
      },
      "execution_count": null,
      "outputs": [
        {
          "output_type": "execute_result",
          "data": {
            "text/plain": [
              "3.365"
            ]
          },
          "metadata": {},
          "execution_count": 94
        }
      ]
    },
    {
      "cell_type": "code",
      "source": [
        "outlier_alto = Q3 + (1.5 * IIQ)\n",
        "outlier_alto"
      ],
      "metadata": {
        "colab": {
          "base_uri": "https://localhost:8080/"
        },
        "id": "-DItKQGQl4LE",
        "outputId": "9c6e36b0-41d6-452e-f64c-4f64287d4b93"
      },
      "execution_count": null,
      "outputs": [
        {
          "output_type": "execute_result",
          "data": {
            "text/plain": [
              "7.404999999999999"
            ]
          },
          "metadata": {},
          "execution_count": 95
        }
      ]
    },
    {
      "cell_type": "code",
      "source": [
        "#Análise dos valores, e remoção dos que forem considerados Outliers.\n",
        "df_completo = df_completo.drop(df_completo[(df_completo.Valor_de_Venda < outlier_baixo) | (df_completo.Valor_de_Venda > outlier_alto)].index)\n",
        "df_completo"
      ],
      "metadata": {
        "colab": {
          "base_uri": "https://localhost:8080/",
          "height": 939
        },
        "id": "PzQ9M8wImDTl",
        "outputId": "42c4510d-b8cf-4340-8a31-cc390d2428d0"
      },
      "execution_count": null,
      "outputs": [
        {
          "output_type": "execute_result",
          "data": {
            "text/plain": [
              "      Regiao Estado     Municipio                                   Revenda  \\\n",
              "1         NE     AL     ARAPIRACA               AUTO POSTO M M GARROTE LTDA   \n",
              "2         NE     AL     ARAPIRACA             AUTO POSTO MASSARANDUBA LTDA.   \n",
              "3         NE     AL     ARAPIRACA             AUTO POSTO MASSARANDUBA LTDA.   \n",
              "4         NE     AL     ARAPIRACA             AUTO POSTO MASSARANDUBA LTDA.   \n",
              "5         NE     AL     ARAPIRACA                      POSTO ARAPIRACA LTDA   \n",
              "...      ...    ...           ...                                       ...   \n",
              "57627     SE     MG   DIVINOPOLIS  AUTO POSTO DE COMBUSTIVEIS ATACADAO LTDA   \n",
              "57628      S     RS  PORTO ALEGRE    LUIZ GUSTAVO DI LORENZO GARCIA SCHERER   \n",
              "57629      S     RS  PORTO ALEGRE    LUIZ GUSTAVO DI LORENZO GARCIA SCHERER   \n",
              "57630     NE     MA        CAXIAS      POSTAO COMERCIO DE COMBUSTIVEIS LTDA   \n",
              "57631     NE     MA        CAXIAS      POSTAO COMERCIO DE COMBUSTIVEIS LTDA   \n",
              "\n",
              "                      CNPJ                      Rua Numero  \\\n",
              "1       08.738.994/0001-50           RODOVIA AL-220   5848   \n",
              "2       07.248.398/0001-29           RODOVIA AL 220   4698   \n",
              "3       07.248.398/0001-29           RODOVIA AL 220   4698   \n",
              "4       07.248.398/0001-29           RODOVIA AL 220   4698   \n",
              "5       12.451.076/0004-65           RODOVIA AL 220    105   \n",
              "...                    ...                      ...    ...   \n",
              "57627   32.924.614/0001-56         RUA CASTRO ALVES   2400   \n",
              "57628   34.792.562/0001-37  AVENIDA BENTO GONCALVES   2599   \n",
              "57629   34.792.562/0001-37  AVENIDA BENTO GONCALVES   2599   \n",
              "57630   31.597.569/0001-00           RODOVIA BR-316    S/N   \n",
              "57631   31.597.569/0001-00           RODOVIA BR-316    S/N   \n",
              "\n",
              "                             Complemento         Bairro        CEP  \\\n",
              "1                               KM    96    BOM SUCESSO  57309-035   \n",
              "2                                    NaN       PLANALTO  57308-000   \n",
              "3                                    NaN       PLANALTO  57308-000   \n",
              "4                                    NaN       PLANALTO  57308-000   \n",
              "5                                  KM 68    CANAFISTULA  57302-605   \n",
              "...                                  ...            ...        ...   \n",
              "57627                                NaN        CATALAO  35501-205   \n",
              "57628                                NaN       PARTENON  90650-003   \n",
              "57629                                NaN       PARTENON  90650-003   \n",
              "57630  KM    552                 SALA  A  VOLTA REDONDA  65606-525   \n",
              "57631  KM    552                 SALA  A  VOLTA REDONDA  65606-525   \n",
              "\n",
              "                  Produto Data da Coleta  Valor_de_Venda  Valor de Compra  \\\n",
              "1                GASOLINA     01/08/2022            5.59              NaN   \n",
              "2      GASOLINA ADITIVADA     01/08/2022            5.99              NaN   \n",
              "3                  ETANOL     01/08/2022            4.99              NaN   \n",
              "4                GASOLINA     01/08/2022            5.79              NaN   \n",
              "5      GASOLINA ADITIVADA     01/08/2022            6.09              NaN   \n",
              "...                   ...            ...             ...              ...   \n",
              "57627            GASOLINA     29/07/2022            5.38              NaN   \n",
              "57628  GASOLINA ADITIVADA     29/07/2022            5.46              NaN   \n",
              "57629            GASOLINA     29/07/2022            5.46              NaN   \n",
              "57630  GASOLINA ADITIVADA     29/07/2022            5.68              NaN   \n",
              "57631            GASOLINA     29/07/2022            5.68              NaN   \n",
              "\n",
              "      Unidade de Medida       Bandeira  \n",
              "1            R$ / litro  VIBRA ENERGIA  \n",
              "2            R$ / litro         BRANCA  \n",
              "3            R$ / litro         BRANCA  \n",
              "4            R$ / litro         BRANCA  \n",
              "5            R$ / litro  VIBRA ENERGIA  \n",
              "...                 ...            ...  \n",
              "57627        R$ / litro         BRANCA  \n",
              "57628        R$ / litro         BRANCA  \n",
              "57629        R$ / litro         BRANCA  \n",
              "57630        R$ / litro         BRANCA  \n",
              "57631        R$ / litro         BRANCA  \n",
              "\n",
              "[124438 rows x 16 columns]"
            ],
            "text/html": [
              "\n",
              "  <div id=\"df-ece839c4-a00f-4cd2-bdac-e81f2785b73a\">\n",
              "    <div class=\"colab-df-container\">\n",
              "      <div>\n",
              "<style scoped>\n",
              "    .dataframe tbody tr th:only-of-type {\n",
              "        vertical-align: middle;\n",
              "    }\n",
              "\n",
              "    .dataframe tbody tr th {\n",
              "        vertical-align: top;\n",
              "    }\n",
              "\n",
              "    .dataframe thead th {\n",
              "        text-align: right;\n",
              "    }\n",
              "</style>\n",
              "<table border=\"1\" class=\"dataframe\">\n",
              "  <thead>\n",
              "    <tr style=\"text-align: right;\">\n",
              "      <th></th>\n",
              "      <th>Regiao</th>\n",
              "      <th>Estado</th>\n",
              "      <th>Municipio</th>\n",
              "      <th>Revenda</th>\n",
              "      <th>CNPJ</th>\n",
              "      <th>Rua</th>\n",
              "      <th>Numero</th>\n",
              "      <th>Complemento</th>\n",
              "      <th>Bairro</th>\n",
              "      <th>CEP</th>\n",
              "      <th>Produto</th>\n",
              "      <th>Data da Coleta</th>\n",
              "      <th>Valor_de_Venda</th>\n",
              "      <th>Valor de Compra</th>\n",
              "      <th>Unidade de Medida</th>\n",
              "      <th>Bandeira</th>\n",
              "    </tr>\n",
              "  </thead>\n",
              "  <tbody>\n",
              "    <tr>\n",
              "      <th>1</th>\n",
              "      <td>NE</td>\n",
              "      <td>AL</td>\n",
              "      <td>ARAPIRACA</td>\n",
              "      <td>AUTO POSTO M M GARROTE LTDA</td>\n",
              "      <td>08.738.994/0001-50</td>\n",
              "      <td>RODOVIA AL-220</td>\n",
              "      <td>5848</td>\n",
              "      <td>KM    96</td>\n",
              "      <td>BOM SUCESSO</td>\n",
              "      <td>57309-035</td>\n",
              "      <td>GASOLINA</td>\n",
              "      <td>01/08/2022</td>\n",
              "      <td>5.59</td>\n",
              "      <td>NaN</td>\n",
              "      <td>R$ / litro</td>\n",
              "      <td>VIBRA ENERGIA</td>\n",
              "    </tr>\n",
              "    <tr>\n",
              "      <th>2</th>\n",
              "      <td>NE</td>\n",
              "      <td>AL</td>\n",
              "      <td>ARAPIRACA</td>\n",
              "      <td>AUTO POSTO MASSARANDUBA LTDA.</td>\n",
              "      <td>07.248.398/0001-29</td>\n",
              "      <td>RODOVIA AL 220</td>\n",
              "      <td>4698</td>\n",
              "      <td>NaN</td>\n",
              "      <td>PLANALTO</td>\n",
              "      <td>57308-000</td>\n",
              "      <td>GASOLINA ADITIVADA</td>\n",
              "      <td>01/08/2022</td>\n",
              "      <td>5.99</td>\n",
              "      <td>NaN</td>\n",
              "      <td>R$ / litro</td>\n",
              "      <td>BRANCA</td>\n",
              "    </tr>\n",
              "    <tr>\n",
              "      <th>3</th>\n",
              "      <td>NE</td>\n",
              "      <td>AL</td>\n",
              "      <td>ARAPIRACA</td>\n",
              "      <td>AUTO POSTO MASSARANDUBA LTDA.</td>\n",
              "      <td>07.248.398/0001-29</td>\n",
              "      <td>RODOVIA AL 220</td>\n",
              "      <td>4698</td>\n",
              "      <td>NaN</td>\n",
              "      <td>PLANALTO</td>\n",
              "      <td>57308-000</td>\n",
              "      <td>ETANOL</td>\n",
              "      <td>01/08/2022</td>\n",
              "      <td>4.99</td>\n",
              "      <td>NaN</td>\n",
              "      <td>R$ / litro</td>\n",
              "      <td>BRANCA</td>\n",
              "    </tr>\n",
              "    <tr>\n",
              "      <th>4</th>\n",
              "      <td>NE</td>\n",
              "      <td>AL</td>\n",
              "      <td>ARAPIRACA</td>\n",
              "      <td>AUTO POSTO MASSARANDUBA LTDA.</td>\n",
              "      <td>07.248.398/0001-29</td>\n",
              "      <td>RODOVIA AL 220</td>\n",
              "      <td>4698</td>\n",
              "      <td>NaN</td>\n",
              "      <td>PLANALTO</td>\n",
              "      <td>57308-000</td>\n",
              "      <td>GASOLINA</td>\n",
              "      <td>01/08/2022</td>\n",
              "      <td>5.79</td>\n",
              "      <td>NaN</td>\n",
              "      <td>R$ / litro</td>\n",
              "      <td>BRANCA</td>\n",
              "    </tr>\n",
              "    <tr>\n",
              "      <th>5</th>\n",
              "      <td>NE</td>\n",
              "      <td>AL</td>\n",
              "      <td>ARAPIRACA</td>\n",
              "      <td>POSTO ARAPIRACA LTDA</td>\n",
              "      <td>12.451.076/0004-65</td>\n",
              "      <td>RODOVIA AL 220</td>\n",
              "      <td>105</td>\n",
              "      <td>KM 68</td>\n",
              "      <td>CANAFISTULA</td>\n",
              "      <td>57302-605</td>\n",
              "      <td>GASOLINA ADITIVADA</td>\n",
              "      <td>01/08/2022</td>\n",
              "      <td>6.09</td>\n",
              "      <td>NaN</td>\n",
              "      <td>R$ / litro</td>\n",
              "      <td>VIBRA ENERGIA</td>\n",
              "    </tr>\n",
              "    <tr>\n",
              "      <th>...</th>\n",
              "      <td>...</td>\n",
              "      <td>...</td>\n",
              "      <td>...</td>\n",
              "      <td>...</td>\n",
              "      <td>...</td>\n",
              "      <td>...</td>\n",
              "      <td>...</td>\n",
              "      <td>...</td>\n",
              "      <td>...</td>\n",
              "      <td>...</td>\n",
              "      <td>...</td>\n",
              "      <td>...</td>\n",
              "      <td>...</td>\n",
              "      <td>...</td>\n",
              "      <td>...</td>\n",
              "      <td>...</td>\n",
              "    </tr>\n",
              "    <tr>\n",
              "      <th>57627</th>\n",
              "      <td>SE</td>\n",
              "      <td>MG</td>\n",
              "      <td>DIVINOPOLIS</td>\n",
              "      <td>AUTO POSTO DE COMBUSTIVEIS ATACADAO LTDA</td>\n",
              "      <td>32.924.614/0001-56</td>\n",
              "      <td>RUA CASTRO ALVES</td>\n",
              "      <td>2400</td>\n",
              "      <td>NaN</td>\n",
              "      <td>CATALAO</td>\n",
              "      <td>35501-205</td>\n",
              "      <td>GASOLINA</td>\n",
              "      <td>29/07/2022</td>\n",
              "      <td>5.38</td>\n",
              "      <td>NaN</td>\n",
              "      <td>R$ / litro</td>\n",
              "      <td>BRANCA</td>\n",
              "    </tr>\n",
              "    <tr>\n",
              "      <th>57628</th>\n",
              "      <td>S</td>\n",
              "      <td>RS</td>\n",
              "      <td>PORTO ALEGRE</td>\n",
              "      <td>LUIZ GUSTAVO DI LORENZO GARCIA SCHERER</td>\n",
              "      <td>34.792.562/0001-37</td>\n",
              "      <td>AVENIDA BENTO GONCALVES</td>\n",
              "      <td>2599</td>\n",
              "      <td>NaN</td>\n",
              "      <td>PARTENON</td>\n",
              "      <td>90650-003</td>\n",
              "      <td>GASOLINA ADITIVADA</td>\n",
              "      <td>29/07/2022</td>\n",
              "      <td>5.46</td>\n",
              "      <td>NaN</td>\n",
              "      <td>R$ / litro</td>\n",
              "      <td>BRANCA</td>\n",
              "    </tr>\n",
              "    <tr>\n",
              "      <th>57629</th>\n",
              "      <td>S</td>\n",
              "      <td>RS</td>\n",
              "      <td>PORTO ALEGRE</td>\n",
              "      <td>LUIZ GUSTAVO DI LORENZO GARCIA SCHERER</td>\n",
              "      <td>34.792.562/0001-37</td>\n",
              "      <td>AVENIDA BENTO GONCALVES</td>\n",
              "      <td>2599</td>\n",
              "      <td>NaN</td>\n",
              "      <td>PARTENON</td>\n",
              "      <td>90650-003</td>\n",
              "      <td>GASOLINA</td>\n",
              "      <td>29/07/2022</td>\n",
              "      <td>5.46</td>\n",
              "      <td>NaN</td>\n",
              "      <td>R$ / litro</td>\n",
              "      <td>BRANCA</td>\n",
              "    </tr>\n",
              "    <tr>\n",
              "      <th>57630</th>\n",
              "      <td>NE</td>\n",
              "      <td>MA</td>\n",
              "      <td>CAXIAS</td>\n",
              "      <td>POSTAO COMERCIO DE COMBUSTIVEIS LTDA</td>\n",
              "      <td>31.597.569/0001-00</td>\n",
              "      <td>RODOVIA BR-316</td>\n",
              "      <td>S/N</td>\n",
              "      <td>KM    552                 SALA  A</td>\n",
              "      <td>VOLTA REDONDA</td>\n",
              "      <td>65606-525</td>\n",
              "      <td>GASOLINA ADITIVADA</td>\n",
              "      <td>29/07/2022</td>\n",
              "      <td>5.68</td>\n",
              "      <td>NaN</td>\n",
              "      <td>R$ / litro</td>\n",
              "      <td>BRANCA</td>\n",
              "    </tr>\n",
              "    <tr>\n",
              "      <th>57631</th>\n",
              "      <td>NE</td>\n",
              "      <td>MA</td>\n",
              "      <td>CAXIAS</td>\n",
              "      <td>POSTAO COMERCIO DE COMBUSTIVEIS LTDA</td>\n",
              "      <td>31.597.569/0001-00</td>\n",
              "      <td>RODOVIA BR-316</td>\n",
              "      <td>S/N</td>\n",
              "      <td>KM    552                 SALA  A</td>\n",
              "      <td>VOLTA REDONDA</td>\n",
              "      <td>65606-525</td>\n",
              "      <td>GASOLINA</td>\n",
              "      <td>29/07/2022</td>\n",
              "      <td>5.68</td>\n",
              "      <td>NaN</td>\n",
              "      <td>R$ / litro</td>\n",
              "      <td>BRANCA</td>\n",
              "    </tr>\n",
              "  </tbody>\n",
              "</table>\n",
              "<p>124438 rows × 16 columns</p>\n",
              "</div>\n",
              "      <button class=\"colab-df-convert\" onclick=\"convertToInteractive('df-ece839c4-a00f-4cd2-bdac-e81f2785b73a')\"\n",
              "              title=\"Convert this dataframe to an interactive table.\"\n",
              "              style=\"display:none;\">\n",
              "        \n",
              "  <svg xmlns=\"http://www.w3.org/2000/svg\" height=\"24px\"viewBox=\"0 0 24 24\"\n",
              "       width=\"24px\">\n",
              "    <path d=\"M0 0h24v24H0V0z\" fill=\"none\"/>\n",
              "    <path d=\"M18.56 5.44l.94 2.06.94-2.06 2.06-.94-2.06-.94-.94-2.06-.94 2.06-2.06.94zm-11 1L8.5 8.5l.94-2.06 2.06-.94-2.06-.94L8.5 2.5l-.94 2.06-2.06.94zm10 10l.94 2.06.94-2.06 2.06-.94-2.06-.94-.94-2.06-.94 2.06-2.06.94z\"/><path d=\"M17.41 7.96l-1.37-1.37c-.4-.4-.92-.59-1.43-.59-.52 0-1.04.2-1.43.59L10.3 9.45l-7.72 7.72c-.78.78-.78 2.05 0 2.83L4 21.41c.39.39.9.59 1.41.59.51 0 1.02-.2 1.41-.59l7.78-7.78 2.81-2.81c.8-.78.8-2.07 0-2.86zM5.41 20L4 18.59l7.72-7.72 1.47 1.35L5.41 20z\"/>\n",
              "  </svg>\n",
              "      </button>\n",
              "      \n",
              "  <style>\n",
              "    .colab-df-container {\n",
              "      display:flex;\n",
              "      flex-wrap:wrap;\n",
              "      gap: 12px;\n",
              "    }\n",
              "\n",
              "    .colab-df-convert {\n",
              "      background-color: #E8F0FE;\n",
              "      border: none;\n",
              "      border-radius: 50%;\n",
              "      cursor: pointer;\n",
              "      display: none;\n",
              "      fill: #1967D2;\n",
              "      height: 32px;\n",
              "      padding: 0 0 0 0;\n",
              "      width: 32px;\n",
              "    }\n",
              "\n",
              "    .colab-df-convert:hover {\n",
              "      background-color: #E2EBFA;\n",
              "      box-shadow: 0px 1px 2px rgba(60, 64, 67, 0.3), 0px 1px 3px 1px rgba(60, 64, 67, 0.15);\n",
              "      fill: #174EA6;\n",
              "    }\n",
              "\n",
              "    [theme=dark] .colab-df-convert {\n",
              "      background-color: #3B4455;\n",
              "      fill: #D2E3FC;\n",
              "    }\n",
              "\n",
              "    [theme=dark] .colab-df-convert:hover {\n",
              "      background-color: #434B5C;\n",
              "      box-shadow: 0px 1px 3px 1px rgba(0, 0, 0, 0.15);\n",
              "      filter: drop-shadow(0px 1px 2px rgba(0, 0, 0, 0.3));\n",
              "      fill: #FFFFFF;\n",
              "    }\n",
              "  </style>\n",
              "\n",
              "      <script>\n",
              "        const buttonEl =\n",
              "          document.querySelector('#df-ece839c4-a00f-4cd2-bdac-e81f2785b73a button.colab-df-convert');\n",
              "        buttonEl.style.display =\n",
              "          google.colab.kernel.accessAllowed ? 'block' : 'none';\n",
              "\n",
              "        async function convertToInteractive(key) {\n",
              "          const element = document.querySelector('#df-ece839c4-a00f-4cd2-bdac-e81f2785b73a');\n",
              "          const dataTable =\n",
              "            await google.colab.kernel.invokeFunction('convertToInteractive',\n",
              "                                                     [key], {});\n",
              "          if (!dataTable) return;\n",
              "\n",
              "          const docLinkHtml = 'Like what you see? Visit the ' +\n",
              "            '<a target=\"_blank\" href=https://colab.research.google.com/notebooks/data_table.ipynb>data table notebook</a>'\n",
              "            + ' to learn more about interactive tables.';\n",
              "          element.innerHTML = '';\n",
              "          dataTable['output_type'] = 'display_data';\n",
              "          await google.colab.output.renderOutput(dataTable, element);\n",
              "          const docLink = document.createElement('div');\n",
              "          docLink.innerHTML = docLinkHtml;\n",
              "          element.appendChild(docLink);\n",
              "        }\n",
              "      </script>\n",
              "    </div>\n",
              "  </div>\n",
              "  "
            ]
          },
          "metadata": {},
          "execution_count": 96
        }
      ]
    },
    {
      "cell_type": "code",
      "source": [
        "df_completo.shape"
      ],
      "metadata": {
        "colab": {
          "base_uri": "https://localhost:8080/"
        },
        "id": "DkVI9B4L2DDs",
        "outputId": "55eb4acf-56d8-4d47-b83d-45d0b5bfd3c5"
      },
      "execution_count": null,
      "outputs": [
        {
          "output_type": "execute_result",
          "data": {
            "text/plain": [
              "(124438, 16)"
            ]
          },
          "metadata": {},
          "execution_count": 97
        }
      ]
    },
    {
      "cell_type": "markdown",
      "source": [
        "Após a execução da Análise de Amplitude InterQuartil é possível observar que **2738** linhas foram removidas do nosso Dataset, eliminando assim possíveis disturbios na solução das perguntas."
      ],
      "metadata": {
        "id": "X16z-6qX2Hl8"
      }
    },
    {
      "cell_type": "markdown",
      "source": [
        "##### **3.4 - Remoção de colunas não relevantes para análise**"
      ],
      "metadata": {
        "id": "puoHJc6jujJc"
      }
    },
    {
      "cell_type": "markdown",
      "source": [
        "Agora serão eliminadas as variáveis/colunas que não serão utilizadas na solução das perguntas e/ou possuem uma quantidade expressiva de valores nulos com  objetivo de melhorar a execução do código."
      ],
      "metadata": {
        "id": "5pSU3laW2vAe"
      }
    },
    {
      "cell_type": "code",
      "source": [
        "df_completo.drop([\"Valor de Compra\",\"Unidade de Medida\",\"CNPJ\",\"Rua\",\"Numero\",\"Complemento\",\"CEP\"], axis=1, inplace=True)\n",
        "df_completo"
      ],
      "metadata": {
        "colab": {
          "base_uri": "https://localhost:8080/",
          "height": 711
        },
        "id": "vTInfzOeun_0",
        "outputId": "4afa7d29-c589-4781-86c4-64aa633cb2ff"
      },
      "execution_count": null,
      "outputs": [
        {
          "output_type": "stream",
          "name": "stderr",
          "text": [
            "/usr/local/lib/python3.7/dist-packages/pandas/core/frame.py:4913: SettingWithCopyWarning: \n",
            "A value is trying to be set on a copy of a slice from a DataFrame\n",
            "\n",
            "See the caveats in the documentation: https://pandas.pydata.org/pandas-docs/stable/user_guide/indexing.html#returning-a-view-versus-a-copy\n",
            "  errors=errors,\n"
          ]
        },
        {
          "output_type": "execute_result",
          "data": {
            "text/plain": [
              "      Regiao Estado     Municipio                                   Revenda  \\\n",
              "1         NE     AL     ARAPIRACA               AUTO POSTO M M GARROTE LTDA   \n",
              "2         NE     AL     ARAPIRACA             AUTO POSTO MASSARANDUBA LTDA.   \n",
              "3         NE     AL     ARAPIRACA             AUTO POSTO MASSARANDUBA LTDA.   \n",
              "4         NE     AL     ARAPIRACA             AUTO POSTO MASSARANDUBA LTDA.   \n",
              "5         NE     AL     ARAPIRACA                      POSTO ARAPIRACA LTDA   \n",
              "...      ...    ...           ...                                       ...   \n",
              "57627     SE     MG   DIVINOPOLIS  AUTO POSTO DE COMBUSTIVEIS ATACADAO LTDA   \n",
              "57628      S     RS  PORTO ALEGRE    LUIZ GUSTAVO DI LORENZO GARCIA SCHERER   \n",
              "57629      S     RS  PORTO ALEGRE    LUIZ GUSTAVO DI LORENZO GARCIA SCHERER   \n",
              "57630     NE     MA        CAXIAS      POSTAO COMERCIO DE COMBUSTIVEIS LTDA   \n",
              "57631     NE     MA        CAXIAS      POSTAO COMERCIO DE COMBUSTIVEIS LTDA   \n",
              "\n",
              "              Bairro             Produto Data da Coleta  Valor_de_Venda  \\\n",
              "1        BOM SUCESSO            GASOLINA     01/08/2022            5.59   \n",
              "2           PLANALTO  GASOLINA ADITIVADA     01/08/2022            5.99   \n",
              "3           PLANALTO              ETANOL     01/08/2022            4.99   \n",
              "4           PLANALTO            GASOLINA     01/08/2022            5.79   \n",
              "5        CANAFISTULA  GASOLINA ADITIVADA     01/08/2022            6.09   \n",
              "...              ...                 ...            ...             ...   \n",
              "57627        CATALAO            GASOLINA     29/07/2022            5.38   \n",
              "57628       PARTENON  GASOLINA ADITIVADA     29/07/2022            5.46   \n",
              "57629       PARTENON            GASOLINA     29/07/2022            5.46   \n",
              "57630  VOLTA REDONDA  GASOLINA ADITIVADA     29/07/2022            5.68   \n",
              "57631  VOLTA REDONDA            GASOLINA     29/07/2022            5.68   \n",
              "\n",
              "            Bandeira  \n",
              "1      VIBRA ENERGIA  \n",
              "2             BRANCA  \n",
              "3             BRANCA  \n",
              "4             BRANCA  \n",
              "5      VIBRA ENERGIA  \n",
              "...              ...  \n",
              "57627         BRANCA  \n",
              "57628         BRANCA  \n",
              "57629         BRANCA  \n",
              "57630         BRANCA  \n",
              "57631         BRANCA  \n",
              "\n",
              "[124438 rows x 9 columns]"
            ],
            "text/html": [
              "\n",
              "  <div id=\"df-027f70f8-4013-4942-9505-81b0d7d8eb27\">\n",
              "    <div class=\"colab-df-container\">\n",
              "      <div>\n",
              "<style scoped>\n",
              "    .dataframe tbody tr th:only-of-type {\n",
              "        vertical-align: middle;\n",
              "    }\n",
              "\n",
              "    .dataframe tbody tr th {\n",
              "        vertical-align: top;\n",
              "    }\n",
              "\n",
              "    .dataframe thead th {\n",
              "        text-align: right;\n",
              "    }\n",
              "</style>\n",
              "<table border=\"1\" class=\"dataframe\">\n",
              "  <thead>\n",
              "    <tr style=\"text-align: right;\">\n",
              "      <th></th>\n",
              "      <th>Regiao</th>\n",
              "      <th>Estado</th>\n",
              "      <th>Municipio</th>\n",
              "      <th>Revenda</th>\n",
              "      <th>Bairro</th>\n",
              "      <th>Produto</th>\n",
              "      <th>Data da Coleta</th>\n",
              "      <th>Valor_de_Venda</th>\n",
              "      <th>Bandeira</th>\n",
              "    </tr>\n",
              "  </thead>\n",
              "  <tbody>\n",
              "    <tr>\n",
              "      <th>1</th>\n",
              "      <td>NE</td>\n",
              "      <td>AL</td>\n",
              "      <td>ARAPIRACA</td>\n",
              "      <td>AUTO POSTO M M GARROTE LTDA</td>\n",
              "      <td>BOM SUCESSO</td>\n",
              "      <td>GASOLINA</td>\n",
              "      <td>01/08/2022</td>\n",
              "      <td>5.59</td>\n",
              "      <td>VIBRA ENERGIA</td>\n",
              "    </tr>\n",
              "    <tr>\n",
              "      <th>2</th>\n",
              "      <td>NE</td>\n",
              "      <td>AL</td>\n",
              "      <td>ARAPIRACA</td>\n",
              "      <td>AUTO POSTO MASSARANDUBA LTDA.</td>\n",
              "      <td>PLANALTO</td>\n",
              "      <td>GASOLINA ADITIVADA</td>\n",
              "      <td>01/08/2022</td>\n",
              "      <td>5.99</td>\n",
              "      <td>BRANCA</td>\n",
              "    </tr>\n",
              "    <tr>\n",
              "      <th>3</th>\n",
              "      <td>NE</td>\n",
              "      <td>AL</td>\n",
              "      <td>ARAPIRACA</td>\n",
              "      <td>AUTO POSTO MASSARANDUBA LTDA.</td>\n",
              "      <td>PLANALTO</td>\n",
              "      <td>ETANOL</td>\n",
              "      <td>01/08/2022</td>\n",
              "      <td>4.99</td>\n",
              "      <td>BRANCA</td>\n",
              "    </tr>\n",
              "    <tr>\n",
              "      <th>4</th>\n",
              "      <td>NE</td>\n",
              "      <td>AL</td>\n",
              "      <td>ARAPIRACA</td>\n",
              "      <td>AUTO POSTO MASSARANDUBA LTDA.</td>\n",
              "      <td>PLANALTO</td>\n",
              "      <td>GASOLINA</td>\n",
              "      <td>01/08/2022</td>\n",
              "      <td>5.79</td>\n",
              "      <td>BRANCA</td>\n",
              "    </tr>\n",
              "    <tr>\n",
              "      <th>5</th>\n",
              "      <td>NE</td>\n",
              "      <td>AL</td>\n",
              "      <td>ARAPIRACA</td>\n",
              "      <td>POSTO ARAPIRACA LTDA</td>\n",
              "      <td>CANAFISTULA</td>\n",
              "      <td>GASOLINA ADITIVADA</td>\n",
              "      <td>01/08/2022</td>\n",
              "      <td>6.09</td>\n",
              "      <td>VIBRA ENERGIA</td>\n",
              "    </tr>\n",
              "    <tr>\n",
              "      <th>...</th>\n",
              "      <td>...</td>\n",
              "      <td>...</td>\n",
              "      <td>...</td>\n",
              "      <td>...</td>\n",
              "      <td>...</td>\n",
              "      <td>...</td>\n",
              "      <td>...</td>\n",
              "      <td>...</td>\n",
              "      <td>...</td>\n",
              "    </tr>\n",
              "    <tr>\n",
              "      <th>57627</th>\n",
              "      <td>SE</td>\n",
              "      <td>MG</td>\n",
              "      <td>DIVINOPOLIS</td>\n",
              "      <td>AUTO POSTO DE COMBUSTIVEIS ATACADAO LTDA</td>\n",
              "      <td>CATALAO</td>\n",
              "      <td>GASOLINA</td>\n",
              "      <td>29/07/2022</td>\n",
              "      <td>5.38</td>\n",
              "      <td>BRANCA</td>\n",
              "    </tr>\n",
              "    <tr>\n",
              "      <th>57628</th>\n",
              "      <td>S</td>\n",
              "      <td>RS</td>\n",
              "      <td>PORTO ALEGRE</td>\n",
              "      <td>LUIZ GUSTAVO DI LORENZO GARCIA SCHERER</td>\n",
              "      <td>PARTENON</td>\n",
              "      <td>GASOLINA ADITIVADA</td>\n",
              "      <td>29/07/2022</td>\n",
              "      <td>5.46</td>\n",
              "      <td>BRANCA</td>\n",
              "    </tr>\n",
              "    <tr>\n",
              "      <th>57629</th>\n",
              "      <td>S</td>\n",
              "      <td>RS</td>\n",
              "      <td>PORTO ALEGRE</td>\n",
              "      <td>LUIZ GUSTAVO DI LORENZO GARCIA SCHERER</td>\n",
              "      <td>PARTENON</td>\n",
              "      <td>GASOLINA</td>\n",
              "      <td>29/07/2022</td>\n",
              "      <td>5.46</td>\n",
              "      <td>BRANCA</td>\n",
              "    </tr>\n",
              "    <tr>\n",
              "      <th>57630</th>\n",
              "      <td>NE</td>\n",
              "      <td>MA</td>\n",
              "      <td>CAXIAS</td>\n",
              "      <td>POSTAO COMERCIO DE COMBUSTIVEIS LTDA</td>\n",
              "      <td>VOLTA REDONDA</td>\n",
              "      <td>GASOLINA ADITIVADA</td>\n",
              "      <td>29/07/2022</td>\n",
              "      <td>5.68</td>\n",
              "      <td>BRANCA</td>\n",
              "    </tr>\n",
              "    <tr>\n",
              "      <th>57631</th>\n",
              "      <td>NE</td>\n",
              "      <td>MA</td>\n",
              "      <td>CAXIAS</td>\n",
              "      <td>POSTAO COMERCIO DE COMBUSTIVEIS LTDA</td>\n",
              "      <td>VOLTA REDONDA</td>\n",
              "      <td>GASOLINA</td>\n",
              "      <td>29/07/2022</td>\n",
              "      <td>5.68</td>\n",
              "      <td>BRANCA</td>\n",
              "    </tr>\n",
              "  </tbody>\n",
              "</table>\n",
              "<p>124438 rows × 9 columns</p>\n",
              "</div>\n",
              "      <button class=\"colab-df-convert\" onclick=\"convertToInteractive('df-027f70f8-4013-4942-9505-81b0d7d8eb27')\"\n",
              "              title=\"Convert this dataframe to an interactive table.\"\n",
              "              style=\"display:none;\">\n",
              "        \n",
              "  <svg xmlns=\"http://www.w3.org/2000/svg\" height=\"24px\"viewBox=\"0 0 24 24\"\n",
              "       width=\"24px\">\n",
              "    <path d=\"M0 0h24v24H0V0z\" fill=\"none\"/>\n",
              "    <path d=\"M18.56 5.44l.94 2.06.94-2.06 2.06-.94-2.06-.94-.94-2.06-.94 2.06-2.06.94zm-11 1L8.5 8.5l.94-2.06 2.06-.94-2.06-.94L8.5 2.5l-.94 2.06-2.06.94zm10 10l.94 2.06.94-2.06 2.06-.94-2.06-.94-.94-2.06-.94 2.06-2.06.94z\"/><path d=\"M17.41 7.96l-1.37-1.37c-.4-.4-.92-.59-1.43-.59-.52 0-1.04.2-1.43.59L10.3 9.45l-7.72 7.72c-.78.78-.78 2.05 0 2.83L4 21.41c.39.39.9.59 1.41.59.51 0 1.02-.2 1.41-.59l7.78-7.78 2.81-2.81c.8-.78.8-2.07 0-2.86zM5.41 20L4 18.59l7.72-7.72 1.47 1.35L5.41 20z\"/>\n",
              "  </svg>\n",
              "      </button>\n",
              "      \n",
              "  <style>\n",
              "    .colab-df-container {\n",
              "      display:flex;\n",
              "      flex-wrap:wrap;\n",
              "      gap: 12px;\n",
              "    }\n",
              "\n",
              "    .colab-df-convert {\n",
              "      background-color: #E8F0FE;\n",
              "      border: none;\n",
              "      border-radius: 50%;\n",
              "      cursor: pointer;\n",
              "      display: none;\n",
              "      fill: #1967D2;\n",
              "      height: 32px;\n",
              "      padding: 0 0 0 0;\n",
              "      width: 32px;\n",
              "    }\n",
              "\n",
              "    .colab-df-convert:hover {\n",
              "      background-color: #E2EBFA;\n",
              "      box-shadow: 0px 1px 2px rgba(60, 64, 67, 0.3), 0px 1px 3px 1px rgba(60, 64, 67, 0.15);\n",
              "      fill: #174EA6;\n",
              "    }\n",
              "\n",
              "    [theme=dark] .colab-df-convert {\n",
              "      background-color: #3B4455;\n",
              "      fill: #D2E3FC;\n",
              "    }\n",
              "\n",
              "    [theme=dark] .colab-df-convert:hover {\n",
              "      background-color: #434B5C;\n",
              "      box-shadow: 0px 1px 3px 1px rgba(0, 0, 0, 0.15);\n",
              "      filter: drop-shadow(0px 1px 2px rgba(0, 0, 0, 0.3));\n",
              "      fill: #FFFFFF;\n",
              "    }\n",
              "  </style>\n",
              "\n",
              "      <script>\n",
              "        const buttonEl =\n",
              "          document.querySelector('#df-027f70f8-4013-4942-9505-81b0d7d8eb27 button.colab-df-convert');\n",
              "        buttonEl.style.display =\n",
              "          google.colab.kernel.accessAllowed ? 'block' : 'none';\n",
              "\n",
              "        async function convertToInteractive(key) {\n",
              "          const element = document.querySelector('#df-027f70f8-4013-4942-9505-81b0d7d8eb27');\n",
              "          const dataTable =\n",
              "            await google.colab.kernel.invokeFunction('convertToInteractive',\n",
              "                                                     [key], {});\n",
              "          if (!dataTable) return;\n",
              "\n",
              "          const docLinkHtml = 'Like what you see? Visit the ' +\n",
              "            '<a target=\"_blank\" href=https://colab.research.google.com/notebooks/data_table.ipynb>data table notebook</a>'\n",
              "            + ' to learn more about interactive tables.';\n",
              "          element.innerHTML = '';\n",
              "          dataTable['output_type'] = 'display_data';\n",
              "          await google.colab.output.renderOutput(dataTable, element);\n",
              "          const docLink = document.createElement('div');\n",
              "          docLink.innerHTML = docLinkHtml;\n",
              "          element.appendChild(docLink);\n",
              "        }\n",
              "      </script>\n",
              "    </div>\n",
              "  </div>\n",
              "  "
            ]
          },
          "metadata": {},
          "execution_count": 98
        }
      ]
    },
    {
      "cell_type": "markdown",
      "source": [
        "#### **3.5 - Validando e Deletando duplicidades**"
      ],
      "metadata": {
        "id": "sdDbrFnR0Vek"
      }
    },
    {
      "cell_type": "markdown",
      "source": [
        "E por fim, serão removidos as linhas que possuem valores duplicados."
      ],
      "metadata": {
        "id": "VUYDWW023ptu"
      }
    },
    {
      "cell_type": "code",
      "source": [
        "duplicados = df_completo[df_completo.duplicated(keep='first')]\n",
        "print(duplicados)"
      ],
      "metadata": {
        "colab": {
          "base_uri": "https://localhost:8080/"
        },
        "id": "7kV1EVJi0YvV",
        "outputId": "e3f398bb-3ed2-49ee-aa7a-7a0627cfe5ac"
      },
      "execution_count": null,
      "outputs": [
        {
          "output_type": "stream",
          "name": "stdout",
          "text": [
            "      Regiao Estado     Municipio  \\\n",
            "2167       S     RS  SANTO ANGELO   \n",
            "2168       S     RS  SANTO ANGELO   \n",
            "2169       S     RS  SANTO ANGELO   \n",
            "3616      SE     SP     BEBEDOURO   \n",
            "3617      SE     SP     BEBEDOURO   \n",
            "...      ...    ...           ...   \n",
            "56965     SE     MG       CURVELO   \n",
            "57302      N     PA    ANANINDEUA   \n",
            "57319     NE     CE        IGUATU   \n",
            "57595      S     RS  PORTO ALEGRE   \n",
            "57597      S     RS  PORTO ALEGRE   \n",
            "\n",
            "                                                 Revenda    Bairro  \\\n",
            "2167                          POSTO SANTA TEREZINHA LTDA    CENTRO   \n",
            "2168                          POSTO SANTA TEREZINHA LTDA    CENTRO   \n",
            "2169                          POSTO SANTA TEREZINHA LTDA    CENTRO   \n",
            "3616                       POSTO DO LAGO BEBEDOURO LTDA.    CENTRO   \n",
            "3617                       POSTO DO LAGO BEBEDOURO LTDA.    CENTRO   \n",
            "...                                                  ...       ...   \n",
            "56965                       POSTO PASSOS & MONTEIRO LTDA    CENTRO   \n",
            "57302  POSTO IRMAS MARTINI COMERCIO VAREJISTA DE COMB...  COQUEIRO   \n",
            "57319                AIRTON PALACIO DE SOUZA JUNIOR - ME    CENTRO   \n",
            "57595                  POSTO DE COMBUSTIVEIS ALICAR LTDA  PARTENON   \n",
            "57597                  POSTO DE COMBUSTIVEIS ALICAR LTDA  PARTENON   \n",
            "\n",
            "                  Produto Data da Coleta  Valor_de_Venda  Bandeira  \n",
            "2167   GASOLINA ADITIVADA     01/08/2022            5.89    BRANCA  \n",
            "2168               ETANOL     01/08/2022            5.69    BRANCA  \n",
            "2169             GASOLINA     01/08/2022            5.80    BRANCA  \n",
            "3616               ETANOL     01/08/2022            3.89    BRANCA  \n",
            "3617             GASOLINA     01/08/2022            5.69    BRANCA  \n",
            "...                   ...            ...             ...       ...  \n",
            "56965  GASOLINA ADITIVADA     28/07/2022            5.77    BRANCA  \n",
            "57302            GASOLINA     28/07/2022            5.69    SABBÃ  \n",
            "57319            GASOLINA     28/07/2022            6.09        SP  \n",
            "57595  GASOLINA ADITIVADA     29/07/2022            6.49  IPIRANGA  \n",
            "57597            GASOLINA     29/07/2022            5.79  IPIRANGA  \n",
            "\n",
            "[473 rows x 9 columns]\n"
          ]
        }
      ]
    },
    {
      "cell_type": "code",
      "source": [
        "df_completo.drop_duplicates(keep='first', inplace=True)\n",
        "df_completo"
      ],
      "metadata": {
        "colab": {
          "base_uri": "https://localhost:8080/",
          "height": 624
        },
        "id": "NNEWDOt604bI",
        "outputId": "d9b84f14-bf43-4d70-f47a-e6f42a52224f"
      },
      "execution_count": null,
      "outputs": [
        {
          "output_type": "execute_result",
          "data": {
            "text/plain": [
              "      Regiao Estado     Municipio                                   Revenda  \\\n",
              "1         NE     AL     ARAPIRACA               AUTO POSTO M M GARROTE LTDA   \n",
              "2         NE     AL     ARAPIRACA             AUTO POSTO MASSARANDUBA LTDA.   \n",
              "3         NE     AL     ARAPIRACA             AUTO POSTO MASSARANDUBA LTDA.   \n",
              "4         NE     AL     ARAPIRACA             AUTO POSTO MASSARANDUBA LTDA.   \n",
              "5         NE     AL     ARAPIRACA                      POSTO ARAPIRACA LTDA   \n",
              "...      ...    ...           ...                                       ...   \n",
              "57627     SE     MG   DIVINOPOLIS  AUTO POSTO DE COMBUSTIVEIS ATACADAO LTDA   \n",
              "57628      S     RS  PORTO ALEGRE    LUIZ GUSTAVO DI LORENZO GARCIA SCHERER   \n",
              "57629      S     RS  PORTO ALEGRE    LUIZ GUSTAVO DI LORENZO GARCIA SCHERER   \n",
              "57630     NE     MA        CAXIAS      POSTAO COMERCIO DE COMBUSTIVEIS LTDA   \n",
              "57631     NE     MA        CAXIAS      POSTAO COMERCIO DE COMBUSTIVEIS LTDA   \n",
              "\n",
              "              Bairro             Produto Data da Coleta  Valor_de_Venda  \\\n",
              "1        BOM SUCESSO            GASOLINA     01/08/2022            5.59   \n",
              "2           PLANALTO  GASOLINA ADITIVADA     01/08/2022            5.99   \n",
              "3           PLANALTO              ETANOL     01/08/2022            4.99   \n",
              "4           PLANALTO            GASOLINA     01/08/2022            5.79   \n",
              "5        CANAFISTULA  GASOLINA ADITIVADA     01/08/2022            6.09   \n",
              "...              ...                 ...            ...             ...   \n",
              "57627        CATALAO            GASOLINA     29/07/2022            5.38   \n",
              "57628       PARTENON  GASOLINA ADITIVADA     29/07/2022            5.46   \n",
              "57629       PARTENON            GASOLINA     29/07/2022            5.46   \n",
              "57630  VOLTA REDONDA  GASOLINA ADITIVADA     29/07/2022            5.68   \n",
              "57631  VOLTA REDONDA            GASOLINA     29/07/2022            5.68   \n",
              "\n",
              "            Bandeira  \n",
              "1      VIBRA ENERGIA  \n",
              "2             BRANCA  \n",
              "3             BRANCA  \n",
              "4             BRANCA  \n",
              "5      VIBRA ENERGIA  \n",
              "...              ...  \n",
              "57627         BRANCA  \n",
              "57628         BRANCA  \n",
              "57629         BRANCA  \n",
              "57630         BRANCA  \n",
              "57631         BRANCA  \n",
              "\n",
              "[123965 rows x 9 columns]"
            ],
            "text/html": [
              "\n",
              "  <div id=\"df-31a219b4-a77b-4270-bdb6-2131e17dd4ec\">\n",
              "    <div class=\"colab-df-container\">\n",
              "      <div>\n",
              "<style scoped>\n",
              "    .dataframe tbody tr th:only-of-type {\n",
              "        vertical-align: middle;\n",
              "    }\n",
              "\n",
              "    .dataframe tbody tr th {\n",
              "        vertical-align: top;\n",
              "    }\n",
              "\n",
              "    .dataframe thead th {\n",
              "        text-align: right;\n",
              "    }\n",
              "</style>\n",
              "<table border=\"1\" class=\"dataframe\">\n",
              "  <thead>\n",
              "    <tr style=\"text-align: right;\">\n",
              "      <th></th>\n",
              "      <th>Regiao</th>\n",
              "      <th>Estado</th>\n",
              "      <th>Municipio</th>\n",
              "      <th>Revenda</th>\n",
              "      <th>Bairro</th>\n",
              "      <th>Produto</th>\n",
              "      <th>Data da Coleta</th>\n",
              "      <th>Valor_de_Venda</th>\n",
              "      <th>Bandeira</th>\n",
              "    </tr>\n",
              "  </thead>\n",
              "  <tbody>\n",
              "    <tr>\n",
              "      <th>1</th>\n",
              "      <td>NE</td>\n",
              "      <td>AL</td>\n",
              "      <td>ARAPIRACA</td>\n",
              "      <td>AUTO POSTO M M GARROTE LTDA</td>\n",
              "      <td>BOM SUCESSO</td>\n",
              "      <td>GASOLINA</td>\n",
              "      <td>01/08/2022</td>\n",
              "      <td>5.59</td>\n",
              "      <td>VIBRA ENERGIA</td>\n",
              "    </tr>\n",
              "    <tr>\n",
              "      <th>2</th>\n",
              "      <td>NE</td>\n",
              "      <td>AL</td>\n",
              "      <td>ARAPIRACA</td>\n",
              "      <td>AUTO POSTO MASSARANDUBA LTDA.</td>\n",
              "      <td>PLANALTO</td>\n",
              "      <td>GASOLINA ADITIVADA</td>\n",
              "      <td>01/08/2022</td>\n",
              "      <td>5.99</td>\n",
              "      <td>BRANCA</td>\n",
              "    </tr>\n",
              "    <tr>\n",
              "      <th>3</th>\n",
              "      <td>NE</td>\n",
              "      <td>AL</td>\n",
              "      <td>ARAPIRACA</td>\n",
              "      <td>AUTO POSTO MASSARANDUBA LTDA.</td>\n",
              "      <td>PLANALTO</td>\n",
              "      <td>ETANOL</td>\n",
              "      <td>01/08/2022</td>\n",
              "      <td>4.99</td>\n",
              "      <td>BRANCA</td>\n",
              "    </tr>\n",
              "    <tr>\n",
              "      <th>4</th>\n",
              "      <td>NE</td>\n",
              "      <td>AL</td>\n",
              "      <td>ARAPIRACA</td>\n",
              "      <td>AUTO POSTO MASSARANDUBA LTDA.</td>\n",
              "      <td>PLANALTO</td>\n",
              "      <td>GASOLINA</td>\n",
              "      <td>01/08/2022</td>\n",
              "      <td>5.79</td>\n",
              "      <td>BRANCA</td>\n",
              "    </tr>\n",
              "    <tr>\n",
              "      <th>5</th>\n",
              "      <td>NE</td>\n",
              "      <td>AL</td>\n",
              "      <td>ARAPIRACA</td>\n",
              "      <td>POSTO ARAPIRACA LTDA</td>\n",
              "      <td>CANAFISTULA</td>\n",
              "      <td>GASOLINA ADITIVADA</td>\n",
              "      <td>01/08/2022</td>\n",
              "      <td>6.09</td>\n",
              "      <td>VIBRA ENERGIA</td>\n",
              "    </tr>\n",
              "    <tr>\n",
              "      <th>...</th>\n",
              "      <td>...</td>\n",
              "      <td>...</td>\n",
              "      <td>...</td>\n",
              "      <td>...</td>\n",
              "      <td>...</td>\n",
              "      <td>...</td>\n",
              "      <td>...</td>\n",
              "      <td>...</td>\n",
              "      <td>...</td>\n",
              "    </tr>\n",
              "    <tr>\n",
              "      <th>57627</th>\n",
              "      <td>SE</td>\n",
              "      <td>MG</td>\n",
              "      <td>DIVINOPOLIS</td>\n",
              "      <td>AUTO POSTO DE COMBUSTIVEIS ATACADAO LTDA</td>\n",
              "      <td>CATALAO</td>\n",
              "      <td>GASOLINA</td>\n",
              "      <td>29/07/2022</td>\n",
              "      <td>5.38</td>\n",
              "      <td>BRANCA</td>\n",
              "    </tr>\n",
              "    <tr>\n",
              "      <th>57628</th>\n",
              "      <td>S</td>\n",
              "      <td>RS</td>\n",
              "      <td>PORTO ALEGRE</td>\n",
              "      <td>LUIZ GUSTAVO DI LORENZO GARCIA SCHERER</td>\n",
              "      <td>PARTENON</td>\n",
              "      <td>GASOLINA ADITIVADA</td>\n",
              "      <td>29/07/2022</td>\n",
              "      <td>5.46</td>\n",
              "      <td>BRANCA</td>\n",
              "    </tr>\n",
              "    <tr>\n",
              "      <th>57629</th>\n",
              "      <td>S</td>\n",
              "      <td>RS</td>\n",
              "      <td>PORTO ALEGRE</td>\n",
              "      <td>LUIZ GUSTAVO DI LORENZO GARCIA SCHERER</td>\n",
              "      <td>PARTENON</td>\n",
              "      <td>GASOLINA</td>\n",
              "      <td>29/07/2022</td>\n",
              "      <td>5.46</td>\n",
              "      <td>BRANCA</td>\n",
              "    </tr>\n",
              "    <tr>\n",
              "      <th>57630</th>\n",
              "      <td>NE</td>\n",
              "      <td>MA</td>\n",
              "      <td>CAXIAS</td>\n",
              "      <td>POSTAO COMERCIO DE COMBUSTIVEIS LTDA</td>\n",
              "      <td>VOLTA REDONDA</td>\n",
              "      <td>GASOLINA ADITIVADA</td>\n",
              "      <td>29/07/2022</td>\n",
              "      <td>5.68</td>\n",
              "      <td>BRANCA</td>\n",
              "    </tr>\n",
              "    <tr>\n",
              "      <th>57631</th>\n",
              "      <td>NE</td>\n",
              "      <td>MA</td>\n",
              "      <td>CAXIAS</td>\n",
              "      <td>POSTAO COMERCIO DE COMBUSTIVEIS LTDA</td>\n",
              "      <td>VOLTA REDONDA</td>\n",
              "      <td>GASOLINA</td>\n",
              "      <td>29/07/2022</td>\n",
              "      <td>5.68</td>\n",
              "      <td>BRANCA</td>\n",
              "    </tr>\n",
              "  </tbody>\n",
              "</table>\n",
              "<p>123965 rows × 9 columns</p>\n",
              "</div>\n",
              "      <button class=\"colab-df-convert\" onclick=\"convertToInteractive('df-31a219b4-a77b-4270-bdb6-2131e17dd4ec')\"\n",
              "              title=\"Convert this dataframe to an interactive table.\"\n",
              "              style=\"display:none;\">\n",
              "        \n",
              "  <svg xmlns=\"http://www.w3.org/2000/svg\" height=\"24px\"viewBox=\"0 0 24 24\"\n",
              "       width=\"24px\">\n",
              "    <path d=\"M0 0h24v24H0V0z\" fill=\"none\"/>\n",
              "    <path d=\"M18.56 5.44l.94 2.06.94-2.06 2.06-.94-2.06-.94-.94-2.06-.94 2.06-2.06.94zm-11 1L8.5 8.5l.94-2.06 2.06-.94-2.06-.94L8.5 2.5l-.94 2.06-2.06.94zm10 10l.94 2.06.94-2.06 2.06-.94-2.06-.94-.94-2.06-.94 2.06-2.06.94z\"/><path d=\"M17.41 7.96l-1.37-1.37c-.4-.4-.92-.59-1.43-.59-.52 0-1.04.2-1.43.59L10.3 9.45l-7.72 7.72c-.78.78-.78 2.05 0 2.83L4 21.41c.39.39.9.59 1.41.59.51 0 1.02-.2 1.41-.59l7.78-7.78 2.81-2.81c.8-.78.8-2.07 0-2.86zM5.41 20L4 18.59l7.72-7.72 1.47 1.35L5.41 20z\"/>\n",
              "  </svg>\n",
              "      </button>\n",
              "      \n",
              "  <style>\n",
              "    .colab-df-container {\n",
              "      display:flex;\n",
              "      flex-wrap:wrap;\n",
              "      gap: 12px;\n",
              "    }\n",
              "\n",
              "    .colab-df-convert {\n",
              "      background-color: #E8F0FE;\n",
              "      border: none;\n",
              "      border-radius: 50%;\n",
              "      cursor: pointer;\n",
              "      display: none;\n",
              "      fill: #1967D2;\n",
              "      height: 32px;\n",
              "      padding: 0 0 0 0;\n",
              "      width: 32px;\n",
              "    }\n",
              "\n",
              "    .colab-df-convert:hover {\n",
              "      background-color: #E2EBFA;\n",
              "      box-shadow: 0px 1px 2px rgba(60, 64, 67, 0.3), 0px 1px 3px 1px rgba(60, 64, 67, 0.15);\n",
              "      fill: #174EA6;\n",
              "    }\n",
              "\n",
              "    [theme=dark] .colab-df-convert {\n",
              "      background-color: #3B4455;\n",
              "      fill: #D2E3FC;\n",
              "    }\n",
              "\n",
              "    [theme=dark] .colab-df-convert:hover {\n",
              "      background-color: #434B5C;\n",
              "      box-shadow: 0px 1px 3px 1px rgba(0, 0, 0, 0.15);\n",
              "      filter: drop-shadow(0px 1px 2px rgba(0, 0, 0, 0.3));\n",
              "      fill: #FFFFFF;\n",
              "    }\n",
              "  </style>\n",
              "\n",
              "      <script>\n",
              "        const buttonEl =\n",
              "          document.querySelector('#df-31a219b4-a77b-4270-bdb6-2131e17dd4ec button.colab-df-convert');\n",
              "        buttonEl.style.display =\n",
              "          google.colab.kernel.accessAllowed ? 'block' : 'none';\n",
              "\n",
              "        async function convertToInteractive(key) {\n",
              "          const element = document.querySelector('#df-31a219b4-a77b-4270-bdb6-2131e17dd4ec');\n",
              "          const dataTable =\n",
              "            await google.colab.kernel.invokeFunction('convertToInteractive',\n",
              "                                                     [key], {});\n",
              "          if (!dataTable) return;\n",
              "\n",
              "          const docLinkHtml = 'Like what you see? Visit the ' +\n",
              "            '<a target=\"_blank\" href=https://colab.research.google.com/notebooks/data_table.ipynb>data table notebook</a>'\n",
              "            + ' to learn more about interactive tables.';\n",
              "          element.innerHTML = '';\n",
              "          dataTable['output_type'] = 'display_data';\n",
              "          await google.colab.output.renderOutput(dataTable, element);\n",
              "          const docLink = document.createElement('div');\n",
              "          docLink.innerHTML = docLinkHtml;\n",
              "          element.appendChild(docLink);\n",
              "        }\n",
              "      </script>\n",
              "    </div>\n",
              "  </div>\n",
              "  "
            ]
          },
          "metadata": {},
          "execution_count": 100
        }
      ]
    },
    {
      "cell_type": "markdown",
      "source": [
        "##### **4.1. Análise Exploratória de Dados - Problemas Investigados no Projeto de DS**\n",
        "\n",
        "* 1. Como se comportaram o preço dos combustíveis durante os dois meses citados? Os valores do etanol e\n",
        "da gasolina tiveram uma de queda ou diminuição?\n",
        "* 2. Qual o preço médio da gasolina e do etanol nesses dois meses?\n",
        "* 3. Quais os 5 estados com o preço médio da gasolina e do etanol mais caros?\n",
        "* 4. Qual o preço médio da gasolina e do etanol por estado?\n",
        "* 5. Qual o município que possui o menor preço para a gasolina e para o etanol?\n",
        "* 6. Qual o município que possui o maior preço para a gasolina e para o etanol?\n",
        "* 7. Qual a região que possui o maior valor médio da gasolina?\n",
        "* 8. Qual a região que possui o menor valor médio do etanol?\n",
        "* 9. Há alguma correlação entre o valor do combustível (gasolina e etanol) e a região onde ele é vendido?\n",
        "* 10. Há alguma correlação entre o valor do combustível (gasolina e etanol) e a bandeira que vende ele?"
      ],
      "metadata": {
        "id": "ygqgHygIlcBE"
      }
    },
    {
      "cell_type": "markdown",
      "source": [
        "1. Como se comportaram o preço dos combustíveis durante os dois meses citados? Os valores do etanol e da gasolina tiveram uma de queda ou diminuição?\n",
        "\n",
        "Comportamento dos preços de julho ao final de agosto."
      ],
      "metadata": {
        "id": "MZ_qTtJH4J8h"
      }
    },
    {
      "cell_type": "code",
      "source": [
        "df_completo_comb = df_completo\n",
        "df_completo_comb.groupby(['Data da Coleta'])['Valor_de_Venda'].agg(['max','min']).plot(kind='bar', figsize=(20,10));"
      ],
      "metadata": {
        "id": "lenSs_xX4UaR",
        "colab": {
          "base_uri": "https://localhost:8080/",
          "height": 653
        },
        "outputId": "1d8f7349-d970-468e-ebff-6dc68d19fda2"
      },
      "execution_count": 62,
      "outputs": [
        {
          "output_type": "display_data",
          "data": {
            "text/plain": [
              "<Figure size 1440x720 with 1 Axes>"
            ],
            "image/png": "[encoded data removed]"
          },
          "metadata": {
            "needs_background": "light"
          }
        }
      ]
    },
    {
      "cell_type": "markdown",
      "source": [
        "1.1 Os valores do etanol e da gasolina tiveram uma de queda ou diminuição?\n",
        "\n",
        "Tivemos uma diminuição nos preços dos combustíveis"
      ],
      "metadata": {
        "id": "f1ZdcpS43475"
      }
    },
    {
      "cell_type": "code",
      "source": [
        "df_completo_comb.groupby(['Data da Coleta','Produto'])['Valor_de_Venda'].agg(['max','min'])"
      ],
      "metadata": {
        "id": "hDQotIEt34i6",
        "colab": {
          "base_uri": "https://localhost:8080/",
          "height": 455
        },
        "outputId": "cba19844-323d-4481-a967-c876c565c13a"
      },
      "execution_count": 63,
      "outputs": [
        {
          "output_type": "execute_result",
          "data": {
            "text/plain": [
              "                                    max   min\n",
              "Data da Coleta Produto                       \n",
              "01/07/2022     ETANOL              6.29  4.09\n",
              "               GASOLINA            7.39  5.99\n",
              "               GASOLINA ADITIVADA  6.99  6.04\n",
              "01/08/2022     ETANOL              7.19  3.49\n",
              "               GASOLINA            7.39  4.93\n",
              "...                                 ...   ...\n",
              "30/08/2022     GASOLINA            6.99  4.45\n",
              "               GASOLINA ADITIVADA  7.30  4.47\n",
              "31/08/2022     ETANOL              6.96  3.37\n",
              "               GASOLINA            7.00  4.19\n",
              "               GASOLINA ADITIVADA  6.99  4.29\n",
              "\n",
              "[132 rows x 2 columns]"
            ],
            "text/html": [
              "\n",
              "  <div id=\"df-4d0c8098-201d-4330-8b7e-75caf598df7a\">\n",
              "    <div class=\"colab-df-container\">\n",
              "      <div>\n",
              "<style scoped>\n",
              "    .dataframe tbody tr th:only-of-type {\n",
              "        vertical-align: middle;\n",
              "    }\n",
              "\n",
              "    .dataframe tbody tr th {\n",
              "        vertical-align: top;\n",
              "    }\n",
              "\n",
              "    .dataframe thead th {\n",
              "        text-align: right;\n",
              "    }\n",
              "</style>\n",
              "<table border=\"1\" class=\"dataframe\">\n",
              "  <thead>\n",
              "    <tr style=\"text-align: right;\">\n",
              "      <th></th>\n",
              "      <th></th>\n",
              "      <th>max</th>\n",
              "      <th>min</th>\n",
              "    </tr>\n",
              "    <tr>\n",
              "      <th>Data da Coleta</th>\n",
              "      <th>Produto</th>\n",
              "      <th></th>\n",
              "      <th></th>\n",
              "    </tr>\n",
              "  </thead>\n",
              "  <tbody>\n",
              "    <tr>\n",
              "      <th rowspan=\"3\" valign=\"top\">01/07/2022</th>\n",
              "      <th>ETANOL</th>\n",
              "      <td>6.29</td>\n",
              "      <td>4.09</td>\n",
              "    </tr>\n",
              "    <tr>\n",
              "      <th>GASOLINA</th>\n",
              "      <td>7.39</td>\n",
              "      <td>5.99</td>\n",
              "    </tr>\n",
              "    <tr>\n",
              "      <th>GASOLINA ADITIVADA</th>\n",
              "      <td>6.99</td>\n",
              "      <td>6.04</td>\n",
              "    </tr>\n",
              "    <tr>\n",
              "      <th rowspan=\"2\" valign=\"top\">01/08/2022</th>\n",
              "      <th>ETANOL</th>\n",
              "      <td>7.19</td>\n",
              "      <td>3.49</td>\n",
              "    </tr>\n",
              "    <tr>\n",
              "      <th>GASOLINA</th>\n",
              "      <td>7.39</td>\n",
              "      <td>4.93</td>\n",
              "    </tr>\n",
              "    <tr>\n",
              "      <th>...</th>\n",
              "      <th>...</th>\n",
              "      <td>...</td>\n",
              "      <td>...</td>\n",
              "    </tr>\n",
              "    <tr>\n",
              "      <th rowspan=\"2\" valign=\"top\">30/08/2022</th>\n",
              "      <th>GASOLINA</th>\n",
              "      <td>6.99</td>\n",
              "      <td>4.45</td>\n",
              "    </tr>\n",
              "    <tr>\n",
              "      <th>GASOLINA ADITIVADA</th>\n",
              "      <td>7.30</td>\n",
              "      <td>4.47</td>\n",
              "    </tr>\n",
              "    <tr>\n",
              "      <th rowspan=\"3\" valign=\"top\">31/08/2022</th>\n",
              "      <th>ETANOL</th>\n",
              "      <td>6.96</td>\n",
              "      <td>3.37</td>\n",
              "    </tr>\n",
              "    <tr>\n",
              "      <th>GASOLINA</th>\n",
              "      <td>7.00</td>\n",
              "      <td>4.19</td>\n",
              "    </tr>\n",
              "    <tr>\n",
              "      <th>GASOLINA ADITIVADA</th>\n",
              "      <td>6.99</td>\n",
              "      <td>4.29</td>\n",
              "    </tr>\n",
              "  </tbody>\n",
              "</table>\n",
              "<p>132 rows × 2 columns</p>\n",
              "</div>\n",
              "      <button class=\"colab-df-convert\" onclick=\"convertToInteractive('df-4d0c8098-201d-4330-8b7e-75caf598df7a')\"\n",
              "              title=\"Convert this dataframe to an interactive table.\"\n",
              "              style=\"display:none;\">\n",
              "        \n",
              "  <svg xmlns=\"http://www.w3.org/2000/svg\" height=\"24px\"viewBox=\"0 0 24 24\"\n",
              "       width=\"24px\">\n",
              "    <path d=\"M0 0h24v24H0V0z\" fill=\"none\"/>\n",
              "    <path d=\"M18.56 5.44l.94 2.06.94-2.06 2.06-.94-2.06-.94-.94-2.06-.94 2.06-2.06.94zm-11 1L8.5 8.5l.94-2.06 2.06-.94-2.06-.94L8.5 2.5l-.94 2.06-2.06.94zm10 10l.94 2.06.94-2.06 2.06-.94-2.06-.94-.94-2.06-.94 2.06-2.06.94z\"/><path d=\"M17.41 7.96l-1.37-1.37c-.4-.4-.92-.59-1.43-.59-.52 0-1.04.2-1.43.59L10.3 9.45l-7.72 7.72c-.78.78-.78 2.05 0 2.83L4 21.41c.39.39.9.59 1.41.59.51 0 1.02-.2 1.41-.59l7.78-7.78 2.81-2.81c.8-.78.8-2.07 0-2.86zM5.41 20L4 18.59l7.72-7.72 1.47 1.35L5.41 20z\"/>\n",
              "  </svg>\n",
              "      </button>\n",
              "      \n",
              "  <style>\n",
              "    .colab-df-container {\n",
              "      display:flex;\n",
              "      flex-wrap:wrap;\n",
              "      gap: 12px;\n",
              "    }\n",
              "\n",
              "    .colab-df-convert {\n",
              "      background-color: #E8F0FE;\n",
              "      border: none;\n",
              "      border-radius: 50%;\n",
              "      cursor: pointer;\n",
              "      display: none;\n",
              "      fill: #1967D2;\n",
              "      height: 32px;\n",
              "      padding: 0 0 0 0;\n",
              "      width: 32px;\n",
              "    }\n",
              "\n",
              "    .colab-df-convert:hover {\n",
              "      background-color: #E2EBFA;\n",
              "      box-shadow: 0px 1px 2px rgba(60, 64, 67, 0.3), 0px 1px 3px 1px rgba(60, 64, 67, 0.15);\n",
              "      fill: #174EA6;\n",
              "    }\n",
              "\n",
              "    [theme=dark] .colab-df-convert {\n",
              "      background-color: #3B4455;\n",
              "      fill: #D2E3FC;\n",
              "    }\n",
              "\n",
              "    [theme=dark] .colab-df-convert:hover {\n",
              "      background-color: #434B5C;\n",
              "      box-shadow: 0px 1px 3px 1px rgba(0, 0, 0, 0.15);\n",
              "      filter: drop-shadow(0px 1px 2px rgba(0, 0, 0, 0.3));\n",
              "      fill: #FFFFFF;\n",
              "    }\n",
              "  </style>\n",
              "\n",
              "      <script>\n",
              "        const buttonEl =\n",
              "          document.querySelector('#df-4d0c8098-201d-4330-8b7e-75caf598df7a button.colab-df-convert');\n",
              "        buttonEl.style.display =\n",
              "          google.colab.kernel.accessAllowed ? 'block' : 'none';\n",
              "\n",
              "        async function convertToInteractive(key) {\n",
              "          const element = document.querySelector('#df-4d0c8098-201d-4330-8b7e-75caf598df7a');\n",
              "          const dataTable =\n",
              "            await google.colab.kernel.invokeFunction('convertToInteractive',\n",
              "                                                     [key], {});\n",
              "          if (!dataTable) return;\n",
              "\n",
              "          const docLinkHtml = 'Like what you see? Visit the ' +\n",
              "            '<a target=\"_blank\" href=https://colab.research.google.com/notebooks/data_table.ipynb>data table notebook</a>'\n",
              "            + ' to learn more about interactive tables.';\n",
              "          element.innerHTML = '';\n",
              "          dataTable['output_type'] = 'display_data';\n",
              "          await google.colab.output.renderOutput(dataTable, element);\n",
              "          const docLink = document.createElement('div');\n",
              "          docLink.innerHTML = docLinkHtml;\n",
              "          element.appendChild(docLink);\n",
              "        }\n",
              "      </script>\n",
              "    </div>\n",
              "  </div>\n",
              "  "
            ]
          },
          "metadata": {},
          "execution_count": 63
        }
      ]
    },
    {
      "cell_type": "markdown",
      "source": [
        "2. Qual o preço médio da gasolina e do etanol nesses dois meses?\n"
      ],
      "metadata": {
        "id": "nmJUEo5m4m14"
      }
    },
    {
      "cell_type": "code",
      "source": [
        "df_combustivel = df_completo\n",
        "df_completo_comb.groupby(['Produto'])['Valor_de_Venda'].agg(['mean'])"
      ],
      "metadata": {
        "id": "LY98WB714l0p",
        "colab": {
          "base_uri": "https://localhost:8080/",
          "height": 175
        },
        "outputId": "0f8e3e8d-7694-4959-94bb-4782ca68c2d8"
      },
      "execution_count": 64,
      "outputs": [
        {
          "output_type": "execute_result",
          "data": {
            "text/plain": [
              "                        mean\n",
              "Produto                     \n",
              "ETANOL              4.522676\n",
              "GASOLINA            5.695714\n",
              "GASOLINA ADITIVADA  5.858833"
            ],
            "text/html": [
              "\n",
              "  <div id=\"df-8188434c-6c97-4171-af5a-770d22a5d958\">\n",
              "    <div class=\"colab-df-container\">\n",
              "      <div>\n",
              "<style scoped>\n",
              "    .dataframe tbody tr th:only-of-type {\n",
              "        vertical-align: middle;\n",
              "    }\n",
              "\n",
              "    .dataframe tbody tr th {\n",
              "        vertical-align: top;\n",
              "    }\n",
              "\n",
              "    .dataframe thead th {\n",
              "        text-align: right;\n",
              "    }\n",
              "</style>\n",
              "<table border=\"1\" class=\"dataframe\">\n",
              "  <thead>\n",
              "    <tr style=\"text-align: right;\">\n",
              "      <th></th>\n",
              "      <th>mean</th>\n",
              "    </tr>\n",
              "    <tr>\n",
              "      <th>Produto</th>\n",
              "      <th></th>\n",
              "    </tr>\n",
              "  </thead>\n",
              "  <tbody>\n",
              "    <tr>\n",
              "      <th>ETANOL</th>\n",
              "      <td>4.522676</td>\n",
              "    </tr>\n",
              "    <tr>\n",
              "      <th>GASOLINA</th>\n",
              "      <td>5.695714</td>\n",
              "    </tr>\n",
              "    <tr>\n",
              "      <th>GASOLINA ADITIVADA</th>\n",
              "      <td>5.858833</td>\n",
              "    </tr>\n",
              "  </tbody>\n",
              "</table>\n",
              "</div>\n",
              "      <button class=\"colab-df-convert\" onclick=\"convertToInteractive('df-8188434c-6c97-4171-af5a-770d22a5d958')\"\n",
              "              title=\"Convert this dataframe to an interactive table.\"\n",
              "              style=\"display:none;\">\n",
              "        \n",
              "  <svg xmlns=\"http://www.w3.org/2000/svg\" height=\"24px\"viewBox=\"0 0 24 24\"\n",
              "       width=\"24px\">\n",
              "    <path d=\"M0 0h24v24H0V0z\" fill=\"none\"/>\n",
              "    <path d=\"M18.56 5.44l.94 2.06.94-2.06 2.06-.94-2.06-.94-.94-2.06-.94 2.06-2.06.94zm-11 1L8.5 8.5l.94-2.06 2.06-.94-2.06-.94L8.5 2.5l-.94 2.06-2.06.94zm10 10l.94 2.06.94-2.06 2.06-.94-2.06-.94-.94-2.06-.94 2.06-2.06.94z\"/><path d=\"M17.41 7.96l-1.37-1.37c-.4-.4-.92-.59-1.43-.59-.52 0-1.04.2-1.43.59L10.3 9.45l-7.72 7.72c-.78.78-.78 2.05 0 2.83L4 21.41c.39.39.9.59 1.41.59.51 0 1.02-.2 1.41-.59l7.78-7.78 2.81-2.81c.8-.78.8-2.07 0-2.86zM5.41 20L4 18.59l7.72-7.72 1.47 1.35L5.41 20z\"/>\n",
              "  </svg>\n",
              "      </button>\n",
              "      \n",
              "  <style>\n",
              "    .colab-df-container {\n",
              "      display:flex;\n",
              "      flex-wrap:wrap;\n",
              "      gap: 12px;\n",
              "    }\n",
              "\n",
              "    .colab-df-convert {\n",
              "      background-color: #E8F0FE;\n",
              "      border: none;\n",
              "      border-radius: 50%;\n",
              "      cursor: pointer;\n",
              "      display: none;\n",
              "      fill: #1967D2;\n",
              "      height: 32px;\n",
              "      padding: 0 0 0 0;\n",
              "      width: 32px;\n",
              "    }\n",
              "\n",
              "    .colab-df-convert:hover {\n",
              "      background-color: #E2EBFA;\n",
              "      box-shadow: 0px 1px 2px rgba(60, 64, 67, 0.3), 0px 1px 3px 1px rgba(60, 64, 67, 0.15);\n",
              "      fill: #174EA6;\n",
              "    }\n",
              "\n",
              "    [theme=dark] .colab-df-convert {\n",
              "      background-color: #3B4455;\n",
              "      fill: #D2E3FC;\n",
              "    }\n",
              "\n",
              "    [theme=dark] .colab-df-convert:hover {\n",
              "      background-color: #434B5C;\n",
              "      box-shadow: 0px 1px 3px 1px rgba(0, 0, 0, 0.15);\n",
              "      filter: drop-shadow(0px 1px 2px rgba(0, 0, 0, 0.3));\n",
              "      fill: #FFFFFF;\n",
              "    }\n",
              "  </style>\n",
              "\n",
              "      <script>\n",
              "        const buttonEl =\n",
              "          document.querySelector('#df-8188434c-6c97-4171-af5a-770d22a5d958 button.colab-df-convert');\n",
              "        buttonEl.style.display =\n",
              "          google.colab.kernel.accessAllowed ? 'block' : 'none';\n",
              "\n",
              "        async function convertToInteractive(key) {\n",
              "          const element = document.querySelector('#df-8188434c-6c97-4171-af5a-770d22a5d958');\n",
              "          const dataTable =\n",
              "            await google.colab.kernel.invokeFunction('convertToInteractive',\n",
              "                                                     [key], {});\n",
              "          if (!dataTable) return;\n",
              "\n",
              "          const docLinkHtml = 'Like what you see? Visit the ' +\n",
              "            '<a target=\"_blank\" href=https://colab.research.google.com/notebooks/data_table.ipynb>data table notebook</a>'\n",
              "            + ' to learn more about interactive tables.';\n",
              "          element.innerHTML = '';\n",
              "          dataTable['output_type'] = 'display_data';\n",
              "          await google.colab.output.renderOutput(dataTable, element);\n",
              "          const docLink = document.createElement('div');\n",
              "          docLink.innerHTML = docLinkHtml;\n",
              "          element.appendChild(docLink);\n",
              "        }\n",
              "      </script>\n",
              "    </div>\n",
              "  </div>\n",
              "  "
            ]
          },
          "metadata": {},
          "execution_count": 64
        }
      ]
    },
    {
      "cell_type": "code",
      "source": [
        "df_completo_comb = df_completo\n",
        "df_completo_comb.groupby(['Produto'])['Valor_de_Venda'].agg(['mean']).plot(kind='bar', figsize=(20,5));"
      ],
      "metadata": {
        "id": "4m1Is5yA41qM",
        "colab": {
          "base_uri": "https://localhost:8080/",
          "height": 432
        },
        "outputId": "85bbc1a4-a8e5-4438-ce6b-48454e42fe4b"
      },
      "execution_count": 65,
      "outputs": [
        {
          "output_type": "display_data",
          "data": {
            "text/plain": [
              "<Figure size 1440x360 with 1 Axes>"
            ],
            "image/png": "[encoded data removed]"
          },
          "metadata": {
            "needs_background": "light"
          }
        }
      ]
    },
    {
      "cell_type": "markdown",
      "source": [
        "Media e Mediana"
      ],
      "metadata": {
        "id": "jVr4izqbg_Cc"
      }
    },
    {
      "cell_type": "code",
      "source": [
        "df_completo_comb = df_completo\n",
        "df_completo_comb.groupby(['Produto'])['Valor_de_Venda'].agg(['median','mean']).plot(kind='bar', figsize=(20,5));"
      ],
      "metadata": {
        "id": "wzcXg4EZg8qE",
        "outputId": "af33d154-bb09-4215-a4fe-2782171faa82",
        "colab": {
          "base_uri": "https://localhost:8080/",
          "height": 432
        }
      },
      "execution_count": 66,
      "outputs": [
        {
          "output_type": "display_data",
          "data": {
            "text/plain": [
              "<Figure size 1440x360 with 1 Axes>"
            ],
            "image/png": "[encoded data removed]"
          },
          "metadata": {
            "needs_background": "light"
          }
        }
      ]
    },
    {
      "cell_type": "markdown",
      "source": [
        "*3*. **Quais os 5 estados com o preço médio da gasolina e do etanol mais caros?**"
      ],
      "metadata": {
        "id": "YEPgUV0v8rMK"
      }
    },
    {
      "cell_type": "code",
      "source": [
        "df_completo.query('Produto== \"GASOLINA\"').groupby(['Estado','Produto'])['Valor_de_Venda'].agg(['mean']).head(5).plot(kind='bar', figsize=(10,5));"
      ],
      "metadata": {
        "colab": {
          "base_uri": "https://localhost:8080/",
          "height": 405
        },
        "id": "vKtJqeKz2-FR",
        "outputId": "e069c393-e1a5-4d67-ee5e-a1143518ad7f"
      },
      "execution_count": null,
      "outputs": [
        {
          "output_type": "display_data",
          "data": {
            "text/plain": [
              "<Figure size 720x360 with 1 Axes>"
            ],
            "image/png": "[encoded data removed]"
          },
          "metadata": {
            "needs_background": "light"
          }
        }
      ]
    },
    {
      "cell_type": "code",
      "source": [
        "df_completo.query('Produto== \"GASOLINA ADITIVADA\"').groupby(['Estado','Produto'])['Valor_de_Venda'].agg(['mean']).head(5).plot(kind='bar', figsize=(10,5));"
      ],
      "metadata": {
        "colab": {
          "base_uri": "https://localhost:8080/",
          "height": 462
        },
        "id": "lx85ihWFNbdy",
        "outputId": "f6566421-4886-47b0-a65a-0b05c13660e2"
      },
      "execution_count": null,
      "outputs": [
        {
          "output_type": "display_data",
          "data": {
            "text/plain": [
              "<Figure size 720x360 with 1 Axes>"
            ],
            "image/png": "[encoded data removed]"
          },
          "metadata": {
            "needs_background": "light"
          }
        }
      ]
    },
    {
      "cell_type": "code",
      "source": [
        "df_completo.query('Produto== \"ETANOL\"').groupby(['Estado','Produto'])['Valor_de_Venda'].agg(['mean']).head(5).plot(kind='bar', figsize=(10,5));"
      ],
      "metadata": {
        "colab": {
          "base_uri": "https://localhost:8080/",
          "height": 392
        },
        "id": "iTi_oZoFNbsh",
        "outputId": "98e2d1c4-d8d7-4569-d324-6d0f4ba2d546"
      },
      "execution_count": null,
      "outputs": [
        {
          "output_type": "display_data",
          "data": {
            "text/plain": [
              "<Figure size 720x360 with 1 Axes>"
            ],
            "image/png": "[encoded data removed]"
          },
          "metadata": {
            "needs_background": "light"
          }
        }
      ]
    },
    {
      "cell_type": "markdown",
      "source": [
        "*4*. **Qual o preço médio da gasolina e do etanol por estado?**"
      ],
      "metadata": {
        "id": "aehEnQ8e2okp"
      }
    },
    {
      "cell_type": "code",
      "source": [
        "# valor de venda máximo, minimo, medio e mediana de combustível por estado\n",
        "df_completo_comb = df_completo\n",
        "df_completo_comb.groupby(['Regiao','Produto'])['Valor_de_Venda'].agg(['mean']).plot(kind='bar', figsize=(20,5));"
      ],
      "metadata": {
        "colab": {
          "base_uri": "https://localhost:8080/",
          "height": 461
        },
        "id": "SUGvnt9y2-qg",
        "outputId": "18e11bf5-170f-49a9-8439-51292c71ad3e"
      },
      "execution_count": null,
      "outputs": [
        {
          "output_type": "display_data",
          "data": {
            "text/plain": [
              "<Figure size 1440x360 with 1 Axes>"
            ],
            "image/png": "[encoded data removed]"
          },
          "metadata": {
            "needs_background": "light"
          }
        }
      ]
    },
    {
      "cell_type": "markdown",
      "source": [
        "*5*. **Qual o município que possui o menor preço para a gasolina e para o etanol?**"
      ],
      "metadata": {
        "id": "V8k79TN_7ee9"
      }
    },
    {
      "cell_type": "code",
      "source": [
        "#5. Qual municipio possui o menor preço para a gasolina e para o etanol?\n",
        "\n",
        "df_produto_municipio = df_completo.groupby(['Produto', 'Municipio'])\n",
        "df_minima_municipio = df_produto_municipio[['Valor_de_Venda']].min()\n",
        "\n",
        "#Etanol\n",
        "\n",
        "df_min_municipio_etanol = df_minima_municipio.loc['ETANOL'].sort_values(by = 'Valor_de_Venda')\n",
        "df_min_municipio_etanol = df_min_municipio_etanol.reset_index().head(1)\n",
        "df_min_municipio_etanol['Produto'] = 'Etanol'\n",
        "\n",
        "#Gasolina\n",
        "\n",
        "df_min_municipio_gasolina = df_minima_municipio.loc['GASOLINA'].sort_values(by = 'Valor_de_Venda')\n",
        "df_min_municipio_gasolina = df_min_municipio_gasolina.reset_index().head(1)\n",
        "df_min_municipio_gasolina['Produto'] = 'Gasolina'\n",
        "\n",
        "#Gasolina Aditivada\n",
        "\n",
        "df_min_municipio_gasolina_adt = df_minima_municipio.loc['GASOLINA ADITIVADA'].sort_values(by = 'Valor_de_Venda')\n",
        "df_min_municipio_gasolina_adt = df_min_municipio_gasolina_adt.reset_index().head(1)\n",
        "df_min_municipio_gasolina_adt['Produto'] = 'Gasolina Aditivada'\n",
        "\n",
        "df_minimos_municipio = pd.concat([df_min_municipio_etanol,df_min_municipio_gasolina,df_min_municipio_gasolina_adt])\n",
        "\n",
        "#criando tabela final (minimas)com resultados\n",
        "minimas_por_municipio = df_minimos_municipio[['Produto','Municipio','Valor_de_Venda']]\n",
        "minimas_por_municipio"
      ],
      "metadata": {
        "colab": {
          "base_uri": "https://localhost:8080/",
          "height": 143
        },
        "id": "jzYzFAN97cpL",
        "outputId": "e0d77aff-6696-4718-bf3f-e52a5994f9b4"
      },
      "execution_count": null,
      "outputs": [
        {
          "output_type": "execute_result",
          "data": {
            "text/plain": [
              "              Produto    Municipio  Valor_de_Venda\n",
              "0              Etanol      TAUBATE            3.37\n",
              "0            Gasolina  PASSO FUNDO            4.13\n",
              "0  Gasolina Aditivada  PASSO FUNDO            4.13"
            ],
            "text/html": [
              "\n",
              "  <div id=\"df-9937759a-40f1-4a0c-ba66-136081d2cfaf\">\n",
              "    <div class=\"colab-df-container\">\n",
              "      <div>\n",
              "<style scoped>\n",
              "    .dataframe tbody tr th:only-of-type {\n",
              "        vertical-align: middle;\n",
              "    }\n",
              "\n",
              "    .dataframe tbody tr th {\n",
              "        vertical-align: top;\n",
              "    }\n",
              "\n",
              "    .dataframe thead th {\n",
              "        text-align: right;\n",
              "    }\n",
              "</style>\n",
              "<table border=\"1\" class=\"dataframe\">\n",
              "  <thead>\n",
              "    <tr style=\"text-align: right;\">\n",
              "      <th></th>\n",
              "      <th>Produto</th>\n",
              "      <th>Municipio</th>\n",
              "      <th>Valor_de_Venda</th>\n",
              "    </tr>\n",
              "  </thead>\n",
              "  <tbody>\n",
              "    <tr>\n",
              "      <th>0</th>\n",
              "      <td>Etanol</td>\n",
              "      <td>TAUBATE</td>\n",
              "      <td>3.37</td>\n",
              "    </tr>\n",
              "    <tr>\n",
              "      <th>0</th>\n",
              "      <td>Gasolina</td>\n",
              "      <td>PASSO FUNDO</td>\n",
              "      <td>4.13</td>\n",
              "    </tr>\n",
              "    <tr>\n",
              "      <th>0</th>\n",
              "      <td>Gasolina Aditivada</td>\n",
              "      <td>PASSO FUNDO</td>\n",
              "      <td>4.13</td>\n",
              "    </tr>\n",
              "  </tbody>\n",
              "</table>\n",
              "</div>\n",
              "      <button class=\"colab-df-convert\" onclick=\"convertToInteractive('df-9937759a-40f1-4a0c-ba66-136081d2cfaf')\"\n",
              "              title=\"Convert this dataframe to an interactive table.\"\n",
              "              style=\"display:none;\">\n",
              "        \n",
              "  <svg xmlns=\"http://www.w3.org/2000/svg\" height=\"24px\"viewBox=\"0 0 24 24\"\n",
              "       width=\"24px\">\n",
              "    <path d=\"M0 0h24v24H0V0z\" fill=\"none\"/>\n",
              "    <path d=\"M18.56 5.44l.94 2.06.94-2.06 2.06-.94-2.06-.94-.94-2.06-.94 2.06-2.06.94zm-11 1L8.5 8.5l.94-2.06 2.06-.94-2.06-.94L8.5 2.5l-.94 2.06-2.06.94zm10 10l.94 2.06.94-2.06 2.06-.94-2.06-.94-.94-2.06-.94 2.06-2.06.94z\"/><path d=\"M17.41 7.96l-1.37-1.37c-.4-.4-.92-.59-1.43-.59-.52 0-1.04.2-1.43.59L10.3 9.45l-7.72 7.72c-.78.78-.78 2.05 0 2.83L4 21.41c.39.39.9.59 1.41.59.51 0 1.02-.2 1.41-.59l7.78-7.78 2.81-2.81c.8-.78.8-2.07 0-2.86zM5.41 20L4 18.59l7.72-7.72 1.47 1.35L5.41 20z\"/>\n",
              "  </svg>\n",
              "      </button>\n",
              "      \n",
              "  <style>\n",
              "    .colab-df-container {\n",
              "      display:flex;\n",
              "      flex-wrap:wrap;\n",
              "      gap: 12px;\n",
              "    }\n",
              "\n",
              "    .colab-df-convert {\n",
              "      background-color: #E8F0FE;\n",
              "      border: none;\n",
              "      border-radius: 50%;\n",
              "      cursor: pointer;\n",
              "      display: none;\n",
              "      fill: #1967D2;\n",
              "      height: 32px;\n",
              "      padding: 0 0 0 0;\n",
              "      width: 32px;\n",
              "    }\n",
              "\n",
              "    .colab-df-convert:hover {\n",
              "      background-color: #E2EBFA;\n",
              "      box-shadow: 0px 1px 2px rgba(60, 64, 67, 0.3), 0px 1px 3px 1px rgba(60, 64, 67, 0.15);\n",
              "      fill: #174EA6;\n",
              "    }\n",
              "\n",
              "    [theme=dark] .colab-df-convert {\n",
              "      background-color: #3B4455;\n",
              "      fill: #D2E3FC;\n",
              "    }\n",
              "\n",
              "    [theme=dark] .colab-df-convert:hover {\n",
              "      background-color: #434B5C;\n",
              "      box-shadow: 0px 1px 3px 1px rgba(0, 0, 0, 0.15);\n",
              "      filter: drop-shadow(0px 1px 2px rgba(0, 0, 0, 0.3));\n",
              "      fill: #FFFFFF;\n",
              "    }\n",
              "  </style>\n",
              "\n",
              "      <script>\n",
              "        const buttonEl =\n",
              "          document.querySelector('#df-9937759a-40f1-4a0c-ba66-136081d2cfaf button.colab-df-convert');\n",
              "        buttonEl.style.display =\n",
              "          google.colab.kernel.accessAllowed ? 'block' : 'none';\n",
              "\n",
              "        async function convertToInteractive(key) {\n",
              "          const element = document.querySelector('#df-9937759a-40f1-4a0c-ba66-136081d2cfaf');\n",
              "          const dataTable =\n",
              "            await google.colab.kernel.invokeFunction('convertToInteractive',\n",
              "                                                     [key], {});\n",
              "          if (!dataTable) return;\n",
              "\n",
              "          const docLinkHtml = 'Like what you see? Visit the ' +\n",
              "            '<a target=\"_blank\" href=https://colab.research.google.com/notebooks/data_table.ipynb>data table notebook</a>'\n",
              "            + ' to learn more about interactive tables.';\n",
              "          element.innerHTML = '';\n",
              "          dataTable['output_type'] = 'display_data';\n",
              "          await google.colab.output.renderOutput(dataTable, element);\n",
              "          const docLink = document.createElement('div');\n",
              "          docLink.innerHTML = docLinkHtml;\n",
              "          element.appendChild(docLink);\n",
              "        }\n",
              "      </script>\n",
              "    </div>\n",
              "  </div>\n",
              "  "
            ]
          },
          "metadata": {},
          "execution_count": 110
        }
      ]
    },
    {
      "cell_type": "markdown",
      "source": [
        "*6*. **Qual o município que possui o maior preço para a gasolina e para o etanol?**"
      ],
      "metadata": {
        "id": "D4-hWEgu7kBN"
      }
    },
    {
      "cell_type": "code",
      "source": [
        "df_maxima_municipio = df_produto_municipio[['Valor_de_Venda']].max()\n",
        "\n",
        "#Etanol\n",
        "\n",
        "df_max_municipio_etanol = df_maxima_municipio.loc['ETANOL'].sort_values(by = 'Valor_de_Venda')\n",
        "df_max_municipio_etanol = df_max_municipio_etanol.reset_index().head(1)\n",
        "df_max_municipio_etanol['Produto'] = 'Etanol'\n",
        "\n",
        "#Gasolina\n",
        "\n",
        "df_max_municipio_gasolina = df_maxima_municipio.loc['GASOLINA'].sort_values(by = 'Valor_de_Venda')\n",
        "df_max_municipio_gasolina = df_max_municipio_gasolina.reset_index().head(1)\n",
        "df_max_municipio_gasolina['Produto'] = 'Gasolina'\n",
        "\n",
        "#Gasolina Aditivada\n",
        "\n",
        "df_max_municipio_gasolina_adt = df_maxima_municipio.loc['GASOLINA ADITIVADA'].sort_values(by = 'Valor_de_Venda')\n",
        "df_max_municipio_gasolina_adt = df_max_municipio_gasolina_adt.reset_index().head(1)\n",
        "df_max_municipio_gasolina_adt['Produto'] = 'Gasolina Aditivada'\n",
        "\n",
        "df_maximas_municipio = pd.concat([df_max_municipio_etanol,df_max_municipio_gasolina,df_max_municipio_gasolina_adt])\n",
        "\n",
        "#criando tabela final (minimas)com resultados\n",
        "maximas_por_municipio = df_maximas_municipio[['Produto','Municipio','Valor_de_Venda']]\n",
        "maximas_por_municipio"
      ],
      "metadata": {
        "colab": {
          "base_uri": "https://localhost:8080/",
          "height": 143
        },
        "id": "i-vD7OkS7p9E",
        "outputId": "b8510ce8-2636-4ccb-8bc7-570eac803f10"
      },
      "execution_count": null,
      "outputs": [
        {
          "output_type": "execute_result",
          "data": {
            "text/plain": [
              "              Produto      Municipio  Valor_de_Venda\n",
              "0              Etanol  VARZEA GRANDE            3.99\n",
              "0            Gasolina        SANTANA            5.59\n",
              "0  Gasolina Aditivada        SANTANA            5.53"
            ],
            "text/html": [
              "\n",
              "  <div id=\"df-6c4e7145-60de-41b5-9617-58deacabaddf\">\n",
              "    <div class=\"colab-df-container\">\n",
              "      <div>\n",
              "<style scoped>\n",
              "    .dataframe tbody tr th:only-of-type {\n",
              "        vertical-align: middle;\n",
              "    }\n",
              "\n",
              "    .dataframe tbody tr th {\n",
              "        vertical-align: top;\n",
              "    }\n",
              "\n",
              "    .dataframe thead th {\n",
              "        text-align: right;\n",
              "    }\n",
              "</style>\n",
              "<table border=\"1\" class=\"dataframe\">\n",
              "  <thead>\n",
              "    <tr style=\"text-align: right;\">\n",
              "      <th></th>\n",
              "      <th>Produto</th>\n",
              "      <th>Municipio</th>\n",
              "      <th>Valor_de_Venda</th>\n",
              "    </tr>\n",
              "  </thead>\n",
              "  <tbody>\n",
              "    <tr>\n",
              "      <th>0</th>\n",
              "      <td>Etanol</td>\n",
              "      <td>VARZEA GRANDE</td>\n",
              "      <td>3.99</td>\n",
              "    </tr>\n",
              "    <tr>\n",
              "      <th>0</th>\n",
              "      <td>Gasolina</td>\n",
              "      <td>SANTANA</td>\n",
              "      <td>5.59</td>\n",
              "    </tr>\n",
              "    <tr>\n",
              "      <th>0</th>\n",
              "      <td>Gasolina Aditivada</td>\n",
              "      <td>SANTANA</td>\n",
              "      <td>5.53</td>\n",
              "    </tr>\n",
              "  </tbody>\n",
              "</table>\n",
              "</div>\n",
              "      <button class=\"colab-df-convert\" onclick=\"convertToInteractive('df-6c4e7145-60de-41b5-9617-58deacabaddf')\"\n",
              "              title=\"Convert this dataframe to an interactive table.\"\n",
              "              style=\"display:none;\">\n",
              "        \n",
              "  <svg xmlns=\"http://www.w3.org/2000/svg\" height=\"24px\"viewBox=\"0 0 24 24\"\n",
              "       width=\"24px\">\n",
              "    <path d=\"M0 0h24v24H0V0z\" fill=\"none\"/>\n",
              "    <path d=\"M18.56 5.44l.94 2.06.94-2.06 2.06-.94-2.06-.94-.94-2.06-.94 2.06-2.06.94zm-11 1L8.5 8.5l.94-2.06 2.06-.94-2.06-.94L8.5 2.5l-.94 2.06-2.06.94zm10 10l.94 2.06.94-2.06 2.06-.94-2.06-.94-.94-2.06-.94 2.06-2.06.94z\"/><path d=\"M17.41 7.96l-1.37-1.37c-.4-.4-.92-.59-1.43-.59-.52 0-1.04.2-1.43.59L10.3 9.45l-7.72 7.72c-.78.78-.78 2.05 0 2.83L4 21.41c.39.39.9.59 1.41.59.51 0 1.02-.2 1.41-.59l7.78-7.78 2.81-2.81c.8-.78.8-2.07 0-2.86zM5.41 20L4 18.59l7.72-7.72 1.47 1.35L5.41 20z\"/>\n",
              "  </svg>\n",
              "      </button>\n",
              "      \n",
              "  <style>\n",
              "    .colab-df-container {\n",
              "      display:flex;\n",
              "      flex-wrap:wrap;\n",
              "      gap: 12px;\n",
              "    }\n",
              "\n",
              "    .colab-df-convert {\n",
              "      background-color: #E8F0FE;\n",
              "      border: none;\n",
              "      border-radius: 50%;\n",
              "      cursor: pointer;\n",
              "      display: none;\n",
              "      fill: #1967D2;\n",
              "      height: 32px;\n",
              "      padding: 0 0 0 0;\n",
              "      width: 32px;\n",
              "    }\n",
              "\n",
              "    .colab-df-convert:hover {\n",
              "      background-color: #E2EBFA;\n",
              "      box-shadow: 0px 1px 2px rgba(60, 64, 67, 0.3), 0px 1px 3px 1px rgba(60, 64, 67, 0.15);\n",
              "      fill: #174EA6;\n",
              "    }\n",
              "\n",
              "    [theme=dark] .colab-df-convert {\n",
              "      background-color: #3B4455;\n",
              "      fill: #D2E3FC;\n",
              "    }\n",
              "\n",
              "    [theme=dark] .colab-df-convert:hover {\n",
              "      background-color: #434B5C;\n",
              "      box-shadow: 0px 1px 3px 1px rgba(0, 0, 0, 0.15);\n",
              "      filter: drop-shadow(0px 1px 2px rgba(0, 0, 0, 0.3));\n",
              "      fill: #FFFFFF;\n",
              "    }\n",
              "  </style>\n",
              "\n",
              "      <script>\n",
              "        const buttonEl =\n",
              "          document.querySelector('#df-6c4e7145-60de-41b5-9617-58deacabaddf button.colab-df-convert');\n",
              "        buttonEl.style.display =\n",
              "          google.colab.kernel.accessAllowed ? 'block' : 'none';\n",
              "\n",
              "        async function convertToInteractive(key) {\n",
              "          const element = document.querySelector('#df-6c4e7145-60de-41b5-9617-58deacabaddf');\n",
              "          const dataTable =\n",
              "            await google.colab.kernel.invokeFunction('convertToInteractive',\n",
              "                                                     [key], {});\n",
              "          if (!dataTable) return;\n",
              "\n",
              "          const docLinkHtml = 'Like what you see? Visit the ' +\n",
              "            '<a target=\"_blank\" href=https://colab.research.google.com/notebooks/data_table.ipynb>data table notebook</a>'\n",
              "            + ' to learn more about interactive tables.';\n",
              "          element.innerHTML = '';\n",
              "          dataTable['output_type'] = 'display_data';\n",
              "          await google.colab.output.renderOutput(dataTable, element);\n",
              "          const docLink = document.createElement('div');\n",
              "          docLink.innerHTML = docLinkHtml;\n",
              "          element.appendChild(docLink);\n",
              "        }\n",
              "      </script>\n",
              "    </div>\n",
              "  </div>\n",
              "  "
            ]
          },
          "metadata": {},
          "execution_count": 111
        }
      ]
    },
    {
      "cell_type": "markdown",
      "source": [
        "*7*. Qual a região que possui o maior valor médio da gasolina?"
      ],
      "metadata": {
        "id": "7OtX2uNBl1NY"
      }
    },
    {
      "cell_type": "code",
      "source": [
        "# Media do valor de venda de Gasolina por região ordenado de forma descrescente\n",
        "mean_gasolina = pd.DataFrame (df_completo.query('Produto == \"GASOLINA\"').groupby(['Regiao'])['Valor_de_Venda'].mean())\n",
        "mean_gasolina.sort_values(by = 'Valor_de_Venda', ascending = False).style.format({'Valor_de_Venda':'R$ {:.3F}'})"
      ],
      "metadata": {
        "colab": {
          "base_uri": "https://localhost:8080/",
          "height": 238
        },
        "id": "oEQ00Fddl0xf",
        "outputId": "405406be-3617-41c3-b85f-c6aa07346d68"
      },
      "execution_count": null,
      "outputs": [
        {
          "output_type": "execute_result",
          "data": {
            "text/plain": [
              "<pandas.io.formats.style.Styler at 0x7f4a64b42e90>"
            ],
            "text/html": [
              "<style type=\"text/css\">\n",
              "</style>\n",
              "<table id=\"T_f7335_\" class=\"dataframe\">\n",
              "  <thead>\n",
              "    <tr>\n",
              "      <th class=\"blank level0\" >&nbsp;</th>\n",
              "      <th class=\"col_heading level0 col0\" >Valor_de_Venda</th>\n",
              "    </tr>\n",
              "    <tr>\n",
              "      <th class=\"index_name level0\" >Regiao</th>\n",
              "      <th class=\"blank col0\" >&nbsp;</th>\n",
              "    </tr>\n",
              "  </thead>\n",
              "  <tbody>\n",
              "    <tr>\n",
              "      <th id=\"T_f7335_level0_row0\" class=\"row_heading level0 row0\" >N</th>\n",
              "      <td id=\"T_f7335_row0_col0\" class=\"data row0 col0\" >R$ 5.921</td>\n",
              "    </tr>\n",
              "    <tr>\n",
              "      <th id=\"T_f7335_level0_row1\" class=\"row_heading level0 row1\" >NE</th>\n",
              "      <td id=\"T_f7335_row1_col0\" class=\"data row1 col0\" >R$ 5.913</td>\n",
              "    </tr>\n",
              "    <tr>\n",
              "      <th id=\"T_f7335_level0_row2\" class=\"row_heading level0 row2\" >S</th>\n",
              "      <td id=\"T_f7335_row2_col0\" class=\"data row2 col0\" >R$ 5.641</td>\n",
              "    </tr>\n",
              "    <tr>\n",
              "      <th id=\"T_f7335_level0_row3\" class=\"row_heading level0 row3\" >SE</th>\n",
              "      <td id=\"T_f7335_row3_col0\" class=\"data row3 col0\" >R$ 5.612</td>\n",
              "    </tr>\n",
              "    <tr>\n",
              "      <th id=\"T_f7335_level0_row4\" class=\"row_heading level0 row4\" >CO</th>\n",
              "      <td id=\"T_f7335_row4_col0\" class=\"data row4 col0\" >R$ 5.581</td>\n",
              "    </tr>\n",
              "  </tbody>\n",
              "</table>\n"
            ]
          },
          "metadata": {},
          "execution_count": 112
        }
      ]
    },
    {
      "cell_type": "markdown",
      "source": [
        "Como os valores foram ordenados em forma decrescente, chega-se a conclusão de que a Região do Nordeste possui o maior valor médio de venda e a região do Centro-Oeste possui a menor."
      ],
      "metadata": {
        "id": "kfQxV9qTmZZ_"
      }
    },
    {
      "cell_type": "markdown",
      "source": [
        "*9*. Qual a região que possui o menor valor médio do etanol?"
      ],
      "metadata": {
        "id": "ylmc9FWRmdce"
      }
    },
    {
      "cell_type": "code",
      "source": [
        "# Media do valor de venda do etanol por região ordenado de forma crescente\n",
        "mean_etanol = pd.DataFrame (df_completo.query('Produto == \"ETANOL\"'  ).groupby(['Regiao'])['Valor_de_Venda'].mean())\n",
        "grafic_mean_etanol= mean_etanol.sort_values(by ='Valor_de_Venda', ascending = True)\n",
        "grafic_mean_etanol"
      ],
      "metadata": {
        "colab": {
          "base_uri": "https://localhost:8080/",
          "height": 238
        },
        "id": "SZvIdavGmit3",
        "outputId": "a6cb1533-c0af-4785-85dc-f34ec7918f20"
      },
      "execution_count": null,
      "outputs": [
        {
          "output_type": "execute_result",
          "data": {
            "text/plain": [
              "        Valor_de_Venda\n",
              "Regiao                \n",
              "CO            4.126812\n",
              "SE            4.171078\n",
              "S             4.839431\n",
              "NE            5.246057\n",
              "N             5.343142"
            ],
            "text/html": [
              "\n",
              "  <div id=\"df-49a1bd0b-346c-498c-ba58-ca2918d79928\">\n",
              "    <div class=\"colab-df-container\">\n",
              "      <div>\n",
              "<style scoped>\n",
              "    .dataframe tbody tr th:only-of-type {\n",
              "        vertical-align: middle;\n",
              "    }\n",
              "\n",
              "    .dataframe tbody tr th {\n",
              "        vertical-align: top;\n",
              "    }\n",
              "\n",
              "    .dataframe thead th {\n",
              "        text-align: right;\n",
              "    }\n",
              "</style>\n",
              "<table border=\"1\" class=\"dataframe\">\n",
              "  <thead>\n",
              "    <tr style=\"text-align: right;\">\n",
              "      <th></th>\n",
              "      <th>Valor_de_Venda</th>\n",
              "    </tr>\n",
              "    <tr>\n",
              "      <th>Regiao</th>\n",
              "      <th></th>\n",
              "    </tr>\n",
              "  </thead>\n",
              "  <tbody>\n",
              "    <tr>\n",
              "      <th>CO</th>\n",
              "      <td>4.126812</td>\n",
              "    </tr>\n",
              "    <tr>\n",
              "      <th>SE</th>\n",
              "      <td>4.171078</td>\n",
              "    </tr>\n",
              "    <tr>\n",
              "      <th>S</th>\n",
              "      <td>4.839431</td>\n",
              "    </tr>\n",
              "    <tr>\n",
              "      <th>NE</th>\n",
              "      <td>5.246057</td>\n",
              "    </tr>\n",
              "    <tr>\n",
              "      <th>N</th>\n",
              "      <td>5.343142</td>\n",
              "    </tr>\n",
              "  </tbody>\n",
              "</table>\n",
              "</div>\n",
              "      <button class=\"colab-df-convert\" onclick=\"convertToInteractive('df-49a1bd0b-346c-498c-ba58-ca2918d79928')\"\n",
              "              title=\"Convert this dataframe to an interactive table.\"\n",
              "              style=\"display:none;\">\n",
              "        \n",
              "  <svg xmlns=\"http://www.w3.org/2000/svg\" height=\"24px\"viewBox=\"0 0 24 24\"\n",
              "       width=\"24px\">\n",
              "    <path d=\"M0 0h24v24H0V0z\" fill=\"none\"/>\n",
              "    <path d=\"M18.56 5.44l.94 2.06.94-2.06 2.06-.94-2.06-.94-.94-2.06-.94 2.06-2.06.94zm-11 1L8.5 8.5l.94-2.06 2.06-.94-2.06-.94L8.5 2.5l-.94 2.06-2.06.94zm10 10l.94 2.06.94-2.06 2.06-.94-2.06-.94-.94-2.06-.94 2.06-2.06.94z\"/><path d=\"M17.41 7.96l-1.37-1.37c-.4-.4-.92-.59-1.43-.59-.52 0-1.04.2-1.43.59L10.3 9.45l-7.72 7.72c-.78.78-.78 2.05 0 2.83L4 21.41c.39.39.9.59 1.41.59.51 0 1.02-.2 1.41-.59l7.78-7.78 2.81-2.81c.8-.78.8-2.07 0-2.86zM5.41 20L4 18.59l7.72-7.72 1.47 1.35L5.41 20z\"/>\n",
              "  </svg>\n",
              "      </button>\n",
              "      \n",
              "  <style>\n",
              "    .colab-df-container {\n",
              "      display:flex;\n",
              "      flex-wrap:wrap;\n",
              "      gap: 12px;\n",
              "    }\n",
              "\n",
              "    .colab-df-convert {\n",
              "      background-color: #E8F0FE;\n",
              "      border: none;\n",
              "      border-radius: 50%;\n",
              "      cursor: pointer;\n",
              "      display: none;\n",
              "      fill: #1967D2;\n",
              "      height: 32px;\n",
              "      padding: 0 0 0 0;\n",
              "      width: 32px;\n",
              "    }\n",
              "\n",
              "    .colab-df-convert:hover {\n",
              "      background-color: #E2EBFA;\n",
              "      box-shadow: 0px 1px 2px rgba(60, 64, 67, 0.3), 0px 1px 3px 1px rgba(60, 64, 67, 0.15);\n",
              "      fill: #174EA6;\n",
              "    }\n",
              "\n",
              "    [theme=dark] .colab-df-convert {\n",
              "      background-color: #3B4455;\n",
              "      fill: #D2E3FC;\n",
              "    }\n",
              "\n",
              "    [theme=dark] .colab-df-convert:hover {\n",
              "      background-color: #434B5C;\n",
              "      box-shadow: 0px 1px 3px 1px rgba(0, 0, 0, 0.15);\n",
              "      filter: drop-shadow(0px 1px 2px rgba(0, 0, 0, 0.3));\n",
              "      fill: #FFFFFF;\n",
              "    }\n",
              "  </style>\n",
              "\n",
              "      <script>\n",
              "        const buttonEl =\n",
              "          document.querySelector('#df-49a1bd0b-346c-498c-ba58-ca2918d79928 button.colab-df-convert');\n",
              "        buttonEl.style.display =\n",
              "          google.colab.kernel.accessAllowed ? 'block' : 'none';\n",
              "\n",
              "        async function convertToInteractive(key) {\n",
              "          const element = document.querySelector('#df-49a1bd0b-346c-498c-ba58-ca2918d79928');\n",
              "          const dataTable =\n",
              "            await google.colab.kernel.invokeFunction('convertToInteractive',\n",
              "                                                     [key], {});\n",
              "          if (!dataTable) return;\n",
              "\n",
              "          const docLinkHtml = 'Like what you see? Visit the ' +\n",
              "            '<a target=\"_blank\" href=https://colab.research.google.com/notebooks/data_table.ipynb>data table notebook</a>'\n",
              "            + ' to learn more about interactive tables.';\n",
              "          element.innerHTML = '';\n",
              "          dataTable['output_type'] = 'display_data';\n",
              "          await google.colab.output.renderOutput(dataTable, element);\n",
              "          const docLink = document.createElement('div');\n",
              "          docLink.innerHTML = docLinkHtml;\n",
              "          element.appendChild(docLink);\n",
              "        }\n",
              "      </script>\n",
              "    </div>\n",
              "  </div>\n",
              "  "
            ]
          },
          "metadata": {},
          "execution_count": 113
        }
      ]
    },
    {
      "cell_type": "markdown",
      "source": [
        "A região Centro-Oeste possui o menor valor médio do etanol, enquanto a região Nordeste possui o maior."
      ],
      "metadata": {
        "id": "W1UMNi4hnx43"
      }
    },
    {
      "cell_type": "markdown",
      "source": [
        "**>**.  Média dos valores da Gasolina Aditivada por estado: "
      ],
      "metadata": {
        "id": "jj5Xzk9WnjIe"
      }
    },
    {
      "cell_type": "code",
      "source": [
        "mean_gasolina_adt = pd.DataFrame (df_completo.query('Produto == \"GASOLINA ADITIVADA\"').groupby(['Regiao'])['Valor_de_Venda'].mean())\n",
        "mean_gasolina_adt.sort_values(by = 'Valor_de_Venda', ascending = True).style.format({'Valor_de_Venda':'R$ {:.3F}'})"
      ],
      "metadata": {
        "colab": {
          "base_uri": "https://localhost:8080/",
          "height": 238
        },
        "id": "ImQ4k9w9nVd-",
        "outputId": "1dbdae87-a69f-4e8d-b4c1-4a248d8fd869"
      },
      "execution_count": null,
      "outputs": [
        {
          "output_type": "execute_result",
          "data": {
            "text/plain": [
              "<pandas.io.formats.style.Styler at 0x7f4a6394cad0>"
            ],
            "text/html": [
              "<style type=\"text/css\">\n",
              "</style>\n",
              "<table id=\"T_33237_\" class=\"dataframe\">\n",
              "  <thead>\n",
              "    <tr>\n",
              "      <th class=\"blank level0\" >&nbsp;</th>\n",
              "      <th class=\"col_heading level0 col0\" >Valor_de_Venda</th>\n",
              "    </tr>\n",
              "    <tr>\n",
              "      <th class=\"index_name level0\" >Regiao</th>\n",
              "      <th class=\"blank col0\" >&nbsp;</th>\n",
              "    </tr>\n",
              "  </thead>\n",
              "  <tbody>\n",
              "    <tr>\n",
              "      <th id=\"T_33237_level0_row0\" class=\"row_heading level0 row0\" >CO</th>\n",
              "      <td id=\"T_33237_row0_col0\" class=\"data row0 col0\" >R$ 5.716</td>\n",
              "    </tr>\n",
              "    <tr>\n",
              "      <th id=\"T_33237_level0_row1\" class=\"row_heading level0 row1\" >S</th>\n",
              "      <td id=\"T_33237_row1_col0\" class=\"data row1 col0\" >R$ 5.774</td>\n",
              "    </tr>\n",
              "    <tr>\n",
              "      <th id=\"T_33237_level0_row2\" class=\"row_heading level0 row2\" >SE</th>\n",
              "      <td id=\"T_33237_row2_col0\" class=\"data row2 col0\" >R$ 5.811</td>\n",
              "    </tr>\n",
              "    <tr>\n",
              "      <th id=\"T_33237_level0_row3\" class=\"row_heading level0 row3\" >NE</th>\n",
              "      <td id=\"T_33237_row3_col0\" class=\"data row3 col0\" >R$ 6.034</td>\n",
              "    </tr>\n",
              "    <tr>\n",
              "      <th id=\"T_33237_level0_row4\" class=\"row_heading level0 row4\" >N</th>\n",
              "      <td id=\"T_33237_row4_col0\" class=\"data row4 col0\" >R$ 6.068</td>\n",
              "    </tr>\n",
              "  </tbody>\n",
              "</table>\n"
            ]
          },
          "metadata": {},
          "execution_count": 114
        }
      ]
    },
    {
      "cell_type": "markdown",
      "source": [
        "Após ser feita a ánalise da média de venda dos 3 biocombustíveis disponíveis, pode-se concluir que o Centro-Oeste é a região com as menores médias tanto da gasolina e gasolina aditivada, quanto do etanol, já Nordeste, possui as médias mais altas. "
      ],
      "metadata": {
        "id": "HSjjpjGin0H5"
      }
    },
    {
      "cell_type": "markdown",
      "source": [
        "*9*. **Há alguma correlação entre o valor do combustível (gasolina e etanol) e a região onde ele é vendido?**"
      ],
      "metadata": {
        "id": "gh6VICZN2z2X"
      }
    },
    {
      "cell_type": "code",
      "source": [
        "prod_corr_max = df_completo.query('Produto == \"GASOLINA\" | Produto == \"ETANOL\" | Produto == \"GASOLINA ADITIVADA\"').groupby(['Regiao','Produto'])['Valor_de_Venda'].max()\n",
        "prod_corr_max.columns=['Máxima']"
      ],
      "metadata": {
        "id": "08xbrlvhoiEv"
      },
      "execution_count": null,
      "outputs": []
    },
    {
      "cell_type": "code",
      "source": [
        "prod_corr_min = df_completo.query('Produto == \"GASOLINA\" | Produto == \"ETANOL\" | Produto == \"GASOLINA ADITIVADA\"').groupby(['Regiao','Produto'])['Valor_de_Venda'].min()\n",
        "prod_corr_min.columns=['Mínima']"
      ],
      "metadata": {
        "id": "Z0OpeZfWonF5"
      },
      "execution_count": null,
      "outputs": []
    },
    {
      "cell_type": "code",
      "source": [
        "prod_corr_mean = df_completo.query('Produto == \"GASOLINA\" | Produto == \"ETANOL\" | Produto == \"GASOLINA ADITIVADA\"').groupby(['Regiao','Produto'])['Valor_de_Venda'].mean()\n",
        "prod_corr_mean.columns =['Valor médio']"
      ],
      "metadata": {
        "id": "aN7hyr5MosxH"
      },
      "execution_count": null,
      "outputs": []
    },
    {
      "cell_type": "code",
      "source": [
        "valores_cor = pd.concat([prod_corr_mean, prod_corr_min,prod_corr_max], axis=1).round(3)\n",
        "valores_cor.columns = [['Média','Mínima','Máxima']]\n",
        "valores_cor"
      ],
      "metadata": {
        "colab": {
          "base_uri": "https://localhost:8080/",
          "height": 551
        },
        "id": "S8molR61ozaf",
        "outputId": "527ffb47-e8e1-4f16-bc1f-3fc3102d5de5"
      },
      "execution_count": null,
      "outputs": [
        {
          "output_type": "execute_result",
          "data": {
            "text/plain": [
              "                           Média Mínima Máxima\n",
              "Regiao Produto                                \n",
              "CO     ETANOL              4.127   3.37   6.25\n",
              "       GASOLINA            5.581   4.63   7.27\n",
              "       GASOLINA ADITIVADA  5.716   4.63   7.39\n",
              "N      ETANOL              5.343   4.26   7.29\n",
              "       GASOLINA            5.921   4.69   7.40\n",
              "       GASOLINA ADITIVADA  6.068   4.97   7.40\n",
              "NE     ETANOL              5.246   3.94   7.04\n",
              "       GASOLINA            5.913   4.49   7.40\n",
              "       GASOLINA ADITIVADA  6.034   4.49   7.40\n",
              "S      ETANOL              4.839   3.39   7.36\n",
              "       GASOLINA            5.641   4.13   7.39\n",
              "       GASOLINA ADITIVADA  5.774   4.13   7.39\n",
              "SE     ETANOL              4.171   3.37   7.35\n",
              "       GASOLINA            5.612   4.15   7.40\n",
              "       GASOLINA ADITIVADA  5.811   4.47   7.40"
            ],
            "text/html": [
              "\n",
              "  <div id=\"df-1c472b98-d150-435c-978d-6e9a2834115f\">\n",
              "    <div class=\"colab-df-container\">\n",
              "      <div>\n",
              "<style scoped>\n",
              "    .dataframe tbody tr th:only-of-type {\n",
              "        vertical-align: middle;\n",
              "    }\n",
              "\n",
              "    .dataframe tbody tr th {\n",
              "        vertical-align: top;\n",
              "    }\n",
              "\n",
              "    .dataframe thead tr th {\n",
              "        text-align: left;\n",
              "    }\n",
              "\n",
              "    .dataframe thead tr:last-of-type th {\n",
              "        text-align: right;\n",
              "    }\n",
              "</style>\n",
              "<table border=\"1\" class=\"dataframe\">\n",
              "  <thead>\n",
              "    <tr>\n",
              "      <th></th>\n",
              "      <th></th>\n",
              "      <th>Média</th>\n",
              "      <th>Mínima</th>\n",
              "      <th>Máxima</th>\n",
              "    </tr>\n",
              "    <tr>\n",
              "      <th>Regiao</th>\n",
              "      <th>Produto</th>\n",
              "      <th></th>\n",
              "      <th></th>\n",
              "      <th></th>\n",
              "    </tr>\n",
              "  </thead>\n",
              "  <tbody>\n",
              "    <tr>\n",
              "      <th rowspan=\"3\" valign=\"top\">CO</th>\n",
              "      <th>ETANOL</th>\n",
              "      <td>4.127</td>\n",
              "      <td>3.37</td>\n",
              "      <td>6.25</td>\n",
              "    </tr>\n",
              "    <tr>\n",
              "      <th>GASOLINA</th>\n",
              "      <td>5.581</td>\n",
              "      <td>4.63</td>\n",
              "      <td>7.27</td>\n",
              "    </tr>\n",
              "    <tr>\n",
              "      <th>GASOLINA ADITIVADA</th>\n",
              "      <td>5.716</td>\n",
              "      <td>4.63</td>\n",
              "      <td>7.39</td>\n",
              "    </tr>\n",
              "    <tr>\n",
              "      <th rowspan=\"3\" valign=\"top\">N</th>\n",
              "      <th>ETANOL</th>\n",
              "      <td>5.343</td>\n",
              "      <td>4.26</td>\n",
              "      <td>7.29</td>\n",
              "    </tr>\n",
              "    <tr>\n",
              "      <th>GASOLINA</th>\n",
              "      <td>5.921</td>\n",
              "      <td>4.69</td>\n",
              "      <td>7.40</td>\n",
              "    </tr>\n",
              "    <tr>\n",
              "      <th>GASOLINA ADITIVADA</th>\n",
              "      <td>6.068</td>\n",
              "      <td>4.97</td>\n",
              "      <td>7.40</td>\n",
              "    </tr>\n",
              "    <tr>\n",
              "      <th rowspan=\"3\" valign=\"top\">NE</th>\n",
              "      <th>ETANOL</th>\n",
              "      <td>5.246</td>\n",
              "      <td>3.94</td>\n",
              "      <td>7.04</td>\n",
              "    </tr>\n",
              "    <tr>\n",
              "      <th>GASOLINA</th>\n",
              "      <td>5.913</td>\n",
              "      <td>4.49</td>\n",
              "      <td>7.40</td>\n",
              "    </tr>\n",
              "    <tr>\n",
              "      <th>GASOLINA ADITIVADA</th>\n",
              "      <td>6.034</td>\n",
              "      <td>4.49</td>\n",
              "      <td>7.40</td>\n",
              "    </tr>\n",
              "    <tr>\n",
              "      <th rowspan=\"3\" valign=\"top\">S</th>\n",
              "      <th>ETANOL</th>\n",
              "      <td>4.839</td>\n",
              "      <td>3.39</td>\n",
              "      <td>7.36</td>\n",
              "    </tr>\n",
              "    <tr>\n",
              "      <th>GASOLINA</th>\n",
              "      <td>5.641</td>\n",
              "      <td>4.13</td>\n",
              "      <td>7.39</td>\n",
              "    </tr>\n",
              "    <tr>\n",
              "      <th>GASOLINA ADITIVADA</th>\n",
              "      <td>5.774</td>\n",
              "      <td>4.13</td>\n",
              "      <td>7.39</td>\n",
              "    </tr>\n",
              "    <tr>\n",
              "      <th rowspan=\"3\" valign=\"top\">SE</th>\n",
              "      <th>ETANOL</th>\n",
              "      <td>4.171</td>\n",
              "      <td>3.37</td>\n",
              "      <td>7.35</td>\n",
              "    </tr>\n",
              "    <tr>\n",
              "      <th>GASOLINA</th>\n",
              "      <td>5.612</td>\n",
              "      <td>4.15</td>\n",
              "      <td>7.40</td>\n",
              "    </tr>\n",
              "    <tr>\n",
              "      <th>GASOLINA ADITIVADA</th>\n",
              "      <td>5.811</td>\n",
              "      <td>4.47</td>\n",
              "      <td>7.40</td>\n",
              "    </tr>\n",
              "  </tbody>\n",
              "</table>\n",
              "</div>\n",
              "      <button class=\"colab-df-convert\" onclick=\"convertToInteractive('df-1c472b98-d150-435c-978d-6e9a2834115f')\"\n",
              "              title=\"Convert this dataframe to an interactive table.\"\n",
              "              style=\"display:none;\">\n",
              "        \n",
              "  <svg xmlns=\"http://www.w3.org/2000/svg\" height=\"24px\"viewBox=\"0 0 24 24\"\n",
              "       width=\"24px\">\n",
              "    <path d=\"M0 0h24v24H0V0z\" fill=\"none\"/>\n",
              "    <path d=\"M18.56 5.44l.94 2.06.94-2.06 2.06-.94-2.06-.94-.94-2.06-.94 2.06-2.06.94zm-11 1L8.5 8.5l.94-2.06 2.06-.94-2.06-.94L8.5 2.5l-.94 2.06-2.06.94zm10 10l.94 2.06.94-2.06 2.06-.94-2.06-.94-.94-2.06-.94 2.06-2.06.94z\"/><path d=\"M17.41 7.96l-1.37-1.37c-.4-.4-.92-.59-1.43-.59-.52 0-1.04.2-1.43.59L10.3 9.45l-7.72 7.72c-.78.78-.78 2.05 0 2.83L4 21.41c.39.39.9.59 1.41.59.51 0 1.02-.2 1.41-.59l7.78-7.78 2.81-2.81c.8-.78.8-2.07 0-2.86zM5.41 20L4 18.59l7.72-7.72 1.47 1.35L5.41 20z\"/>\n",
              "  </svg>\n",
              "      </button>\n",
              "      \n",
              "  <style>\n",
              "    .colab-df-container {\n",
              "      display:flex;\n",
              "      flex-wrap:wrap;\n",
              "      gap: 12px;\n",
              "    }\n",
              "\n",
              "    .colab-df-convert {\n",
              "      background-color: #E8F0FE;\n",
              "      border: none;\n",
              "      border-radius: 50%;\n",
              "      cursor: pointer;\n",
              "      display: none;\n",
              "      fill: #1967D2;\n",
              "      height: 32px;\n",
              "      padding: 0 0 0 0;\n",
              "      width: 32px;\n",
              "    }\n",
              "\n",
              "    .colab-df-convert:hover {\n",
              "      background-color: #E2EBFA;\n",
              "      box-shadow: 0px 1px 2px rgba(60, 64, 67, 0.3), 0px 1px 3px 1px rgba(60, 64, 67, 0.15);\n",
              "      fill: #174EA6;\n",
              "    }\n",
              "\n",
              "    [theme=dark] .colab-df-convert {\n",
              "      background-color: #3B4455;\n",
              "      fill: #D2E3FC;\n",
              "    }\n",
              "\n",
              "    [theme=dark] .colab-df-convert:hover {\n",
              "      background-color: #434B5C;\n",
              "      box-shadow: 0px 1px 3px 1px rgba(0, 0, 0, 0.15);\n",
              "      filter: drop-shadow(0px 1px 2px rgba(0, 0, 0, 0.3));\n",
              "      fill: #FFFFFF;\n",
              "    }\n",
              "  </style>\n",
              "\n",
              "      <script>\n",
              "        const buttonEl =\n",
              "          document.querySelector('#df-1c472b98-d150-435c-978d-6e9a2834115f button.colab-df-convert');\n",
              "        buttonEl.style.display =\n",
              "          google.colab.kernel.accessAllowed ? 'block' : 'none';\n",
              "\n",
              "        async function convertToInteractive(key) {\n",
              "          const element = document.querySelector('#df-1c472b98-d150-435c-978d-6e9a2834115f');\n",
              "          const dataTable =\n",
              "            await google.colab.kernel.invokeFunction('convertToInteractive',\n",
              "                                                     [key], {});\n",
              "          if (!dataTable) return;\n",
              "\n",
              "          const docLinkHtml = 'Like what you see? Visit the ' +\n",
              "            '<a target=\"_blank\" href=https://colab.research.google.com/notebooks/data_table.ipynb>data table notebook</a>'\n",
              "            + ' to learn more about interactive tables.';\n",
              "          element.innerHTML = '';\n",
              "          dataTable['output_type'] = 'display_data';\n",
              "          await google.colab.output.renderOutput(dataTable, element);\n",
              "          const docLink = document.createElement('div');\n",
              "          docLink.innerHTML = docLinkHtml;\n",
              "          element.appendChild(docLink);\n",
              "        }\n",
              "      </script>\n",
              "    </div>\n",
              "  </div>\n",
              "  "
            ]
          },
          "metadata": {},
          "execution_count": 118
        }
      ]
    },
    {
      "cell_type": "code",
      "source": [
        "funcao = lambda x: 1 if x == 'CO' else 2 if x == 'N' else 3 if x == 'NE' else 4 if x =='S' else 5"
      ],
      "metadata": {
        "id": "9UcrPaVHo5Me"
      },
      "execution_count": null,
      "outputs": []
    },
    {
      "cell_type": "code",
      "source": [
        "valores_cor_copy = valores_cor.copy()\n",
        "valores_cor_copy.reset_index(inplace = True)"
      ],
      "metadata": {
        "id": "uMcJY1FGo8e_"
      },
      "execution_count": null,
      "outputs": []
    },
    {
      "cell_type": "code",
      "source": [
        "valores_cor_copy['Regiao'] =  valores_cor_copy['Regiao'].applymap(funcao)\n",
        "\n",
        "valores_cor_copy"
      ],
      "metadata": {
        "colab": {
          "base_uri": "https://localhost:8080/",
          "height": 520
        },
        "id": "kNoIwz6gpEmu",
        "outputId": "6bf194fc-b030-4f0b-fc8b-e09748e18a78"
      },
      "execution_count": null,
      "outputs": [
        {
          "output_type": "execute_result",
          "data": {
            "text/plain": [
              "   Regiao             Produto  Média Mínima Máxima\n",
              "0       1              ETANOL  4.127   3.37   6.25\n",
              "1       1            GASOLINA  5.581   4.63   7.27\n",
              "2       1  GASOLINA ADITIVADA  5.716   4.63   7.39\n",
              "3       2              ETANOL  5.343   4.26   7.29\n",
              "4       2            GASOLINA  5.921   4.69   7.40\n",
              "5       2  GASOLINA ADITIVADA  6.068   4.97   7.40\n",
              "6       3              ETANOL  5.246   3.94   7.04\n",
              "7       3            GASOLINA  5.913   4.49   7.40\n",
              "8       3  GASOLINA ADITIVADA  6.034   4.49   7.40\n",
              "9       4              ETANOL  4.839   3.39   7.36\n",
              "10      4            GASOLINA  5.641   4.13   7.39\n",
              "11      4  GASOLINA ADITIVADA  5.774   4.13   7.39\n",
              "12      5              ETANOL  4.171   3.37   7.35\n",
              "13      5            GASOLINA  5.612   4.15   7.40\n",
              "14      5  GASOLINA ADITIVADA  5.811   4.47   7.40"
            ],
            "text/html": [
              "\n",
              "  <div id=\"df-d4758161-214e-45cd-a72f-9a605a0f71da\">\n",
              "    <div class=\"colab-df-container\">\n",
              "      <div>\n",
              "<style scoped>\n",
              "    .dataframe tbody tr th:only-of-type {\n",
              "        vertical-align: middle;\n",
              "    }\n",
              "\n",
              "    .dataframe tbody tr th {\n",
              "        vertical-align: top;\n",
              "    }\n",
              "\n",
              "    .dataframe thead tr th {\n",
              "        text-align: left;\n",
              "    }\n",
              "</style>\n",
              "<table border=\"1\" class=\"dataframe\">\n",
              "  <thead>\n",
              "    <tr>\n",
              "      <th></th>\n",
              "      <th>Regiao</th>\n",
              "      <th>Produto</th>\n",
              "      <th>Média</th>\n",
              "      <th>Mínima</th>\n",
              "      <th>Máxima</th>\n",
              "    </tr>\n",
              "  </thead>\n",
              "  <tbody>\n",
              "    <tr>\n",
              "      <th>0</th>\n",
              "      <td>1</td>\n",
              "      <td>ETANOL</td>\n",
              "      <td>4.127</td>\n",
              "      <td>3.37</td>\n",
              "      <td>6.25</td>\n",
              "    </tr>\n",
              "    <tr>\n",
              "      <th>1</th>\n",
              "      <td>1</td>\n",
              "      <td>GASOLINA</td>\n",
              "      <td>5.581</td>\n",
              "      <td>4.63</td>\n",
              "      <td>7.27</td>\n",
              "    </tr>\n",
              "    <tr>\n",
              "      <th>2</th>\n",
              "      <td>1</td>\n",
              "      <td>GASOLINA ADITIVADA</td>\n",
              "      <td>5.716</td>\n",
              "      <td>4.63</td>\n",
              "      <td>7.39</td>\n",
              "    </tr>\n",
              "    <tr>\n",
              "      <th>3</th>\n",
              "      <td>2</td>\n",
              "      <td>ETANOL</td>\n",
              "      <td>5.343</td>\n",
              "      <td>4.26</td>\n",
              "      <td>7.29</td>\n",
              "    </tr>\n",
              "    <tr>\n",
              "      <th>4</th>\n",
              "      <td>2</td>\n",
              "      <td>GASOLINA</td>\n",
              "      <td>5.921</td>\n",
              "      <td>4.69</td>\n",
              "      <td>7.40</td>\n",
              "    </tr>\n",
              "    <tr>\n",
              "      <th>5</th>\n",
              "      <td>2</td>\n",
              "      <td>GASOLINA ADITIVADA</td>\n",
              "      <td>6.068</td>\n",
              "      <td>4.97</td>\n",
              "      <td>7.40</td>\n",
              "    </tr>\n",
              "    <tr>\n",
              "      <th>6</th>\n",
              "      <td>3</td>\n",
              "      <td>ETANOL</td>\n",
              "      <td>5.246</td>\n",
              "      <td>3.94</td>\n",
              "      <td>7.04</td>\n",
              "    </tr>\n",
              "    <tr>\n",
              "      <th>7</th>\n",
              "      <td>3</td>\n",
              "      <td>GASOLINA</td>\n",
              "      <td>5.913</td>\n",
              "      <td>4.49</td>\n",
              "      <td>7.40</td>\n",
              "    </tr>\n",
              "    <tr>\n",
              "      <th>8</th>\n",
              "      <td>3</td>\n",
              "      <td>GASOLINA ADITIVADA</td>\n",
              "      <td>6.034</td>\n",
              "      <td>4.49</td>\n",
              "      <td>7.40</td>\n",
              "    </tr>\n",
              "    <tr>\n",
              "      <th>9</th>\n",
              "      <td>4</td>\n",
              "      <td>ETANOL</td>\n",
              "      <td>4.839</td>\n",
              "      <td>3.39</td>\n",
              "      <td>7.36</td>\n",
              "    </tr>\n",
              "    <tr>\n",
              "      <th>10</th>\n",
              "      <td>4</td>\n",
              "      <td>GASOLINA</td>\n",
              "      <td>5.641</td>\n",
              "      <td>4.13</td>\n",
              "      <td>7.39</td>\n",
              "    </tr>\n",
              "    <tr>\n",
              "      <th>11</th>\n",
              "      <td>4</td>\n",
              "      <td>GASOLINA ADITIVADA</td>\n",
              "      <td>5.774</td>\n",
              "      <td>4.13</td>\n",
              "      <td>7.39</td>\n",
              "    </tr>\n",
              "    <tr>\n",
              "      <th>12</th>\n",
              "      <td>5</td>\n",
              "      <td>ETANOL</td>\n",
              "      <td>4.171</td>\n",
              "      <td>3.37</td>\n",
              "      <td>7.35</td>\n",
              "    </tr>\n",
              "    <tr>\n",
              "      <th>13</th>\n",
              "      <td>5</td>\n",
              "      <td>GASOLINA</td>\n",
              "      <td>5.612</td>\n",
              "      <td>4.15</td>\n",
              "      <td>7.40</td>\n",
              "    </tr>\n",
              "    <tr>\n",
              "      <th>14</th>\n",
              "      <td>5</td>\n",
              "      <td>GASOLINA ADITIVADA</td>\n",
              "      <td>5.811</td>\n",
              "      <td>4.47</td>\n",
              "      <td>7.40</td>\n",
              "    </tr>\n",
              "  </tbody>\n",
              "</table>\n",
              "</div>\n",
              "      <button class=\"colab-df-convert\" onclick=\"convertToInteractive('df-d4758161-214e-45cd-a72f-9a605a0f71da')\"\n",
              "              title=\"Convert this dataframe to an interactive table.\"\n",
              "              style=\"display:none;\">\n",
              "        \n",
              "  <svg xmlns=\"http://www.w3.org/2000/svg\" height=\"24px\"viewBox=\"0 0 24 24\"\n",
              "       width=\"24px\">\n",
              "    <path d=\"M0 0h24v24H0V0z\" fill=\"none\"/>\n",
              "    <path d=\"M18.56 5.44l.94 2.06.94-2.06 2.06-.94-2.06-.94-.94-2.06-.94 2.06-2.06.94zm-11 1L8.5 8.5l.94-2.06 2.06-.94-2.06-.94L8.5 2.5l-.94 2.06-2.06.94zm10 10l.94 2.06.94-2.06 2.06-.94-2.06-.94-.94-2.06-.94 2.06-2.06.94z\"/><path d=\"M17.41 7.96l-1.37-1.37c-.4-.4-.92-.59-1.43-.59-.52 0-1.04.2-1.43.59L10.3 9.45l-7.72 7.72c-.78.78-.78 2.05 0 2.83L4 21.41c.39.39.9.59 1.41.59.51 0 1.02-.2 1.41-.59l7.78-7.78 2.81-2.81c.8-.78.8-2.07 0-2.86zM5.41 20L4 18.59l7.72-7.72 1.47 1.35L5.41 20z\"/>\n",
              "  </svg>\n",
              "      </button>\n",
              "      \n",
              "  <style>\n",
              "    .colab-df-container {\n",
              "      display:flex;\n",
              "      flex-wrap:wrap;\n",
              "      gap: 12px;\n",
              "    }\n",
              "\n",
              "    .colab-df-convert {\n",
              "      background-color: #E8F0FE;\n",
              "      border: none;\n",
              "      border-radius: 50%;\n",
              "      cursor: pointer;\n",
              "      display: none;\n",
              "      fill: #1967D2;\n",
              "      height: 32px;\n",
              "      padding: 0 0 0 0;\n",
              "      width: 32px;\n",
              "    }\n",
              "\n",
              "    .colab-df-convert:hover {\n",
              "      background-color: #E2EBFA;\n",
              "      box-shadow: 0px 1px 2px rgba(60, 64, 67, 0.3), 0px 1px 3px 1px rgba(60, 64, 67, 0.15);\n",
              "      fill: #174EA6;\n",
              "    }\n",
              "\n",
              "    [theme=dark] .colab-df-convert {\n",
              "      background-color: #3B4455;\n",
              "      fill: #D2E3FC;\n",
              "    }\n",
              "\n",
              "    [theme=dark] .colab-df-convert:hover {\n",
              "      background-color: #434B5C;\n",
              "      box-shadow: 0px 1px 3px 1px rgba(0, 0, 0, 0.15);\n",
              "      filter: drop-shadow(0px 1px 2px rgba(0, 0, 0, 0.3));\n",
              "      fill: #FFFFFF;\n",
              "    }\n",
              "  </style>\n",
              "\n",
              "      <script>\n",
              "        const buttonEl =\n",
              "          document.querySelector('#df-d4758161-214e-45cd-a72f-9a605a0f71da button.colab-df-convert');\n",
              "        buttonEl.style.display =\n",
              "          google.colab.kernel.accessAllowed ? 'block' : 'none';\n",
              "\n",
              "        async function convertToInteractive(key) {\n",
              "          const element = document.querySelector('#df-d4758161-214e-45cd-a72f-9a605a0f71da');\n",
              "          const dataTable =\n",
              "            await google.colab.kernel.invokeFunction('convertToInteractive',\n",
              "                                                     [key], {});\n",
              "          if (!dataTable) return;\n",
              "\n",
              "          const docLinkHtml = 'Like what you see? Visit the ' +\n",
              "            '<a target=\"_blank\" href=https://colab.research.google.com/notebooks/data_table.ipynb>data table notebook</a>'\n",
              "            + ' to learn more about interactive tables.';\n",
              "          element.innerHTML = '';\n",
              "          dataTable['output_type'] = 'display_data';\n",
              "          await google.colab.output.renderOutput(dataTable, element);\n",
              "          const docLink = document.createElement('div');\n",
              "          docLink.innerHTML = docLinkHtml;\n",
              "          element.appendChild(docLink);\n",
              "        }\n",
              "      </script>\n",
              "    </div>\n",
              "  </div>\n",
              "  "
            ]
          },
          "metadata": {},
          "execution_count": 121
        }
      ]
    },
    {
      "cell_type": "code",
      "source": [
        "valores_cor_copy.corr()"
      ],
      "metadata": {
        "colab": {
          "base_uri": "https://localhost:8080/",
          "height": 175
        },
        "id": "rMi_5evtpLBm",
        "outputId": "200c6d4a-03d8-450f-f12f-24052c9df8ec"
      },
      "execution_count": null,
      "outputs": [
        {
          "output_type": "execute_result",
          "data": {
            "text/plain": [
              "          Regiao     Média    Mínima    Máxima\n",
              "Regiao  1.000000 -0.058212 -0.343489  0.412756\n",
              "Média  -0.058212  1.000000  0.900999  0.647057\n",
              "Mínima -0.343489  0.900999  1.000000  0.506861\n",
              "Máxima  0.412756  0.647057  0.506861  1.000000"
            ],
            "text/html": [
              "\n",
              "  <div id=\"df-e9d8f1c7-35c5-495d-9b1d-7526ad8cc1cc\">\n",
              "    <div class=\"colab-df-container\">\n",
              "      <div>\n",
              "<style scoped>\n",
              "    .dataframe tbody tr th:only-of-type {\n",
              "        vertical-align: middle;\n",
              "    }\n",
              "\n",
              "    .dataframe tbody tr th {\n",
              "        vertical-align: top;\n",
              "    }\n",
              "\n",
              "    .dataframe thead tr th {\n",
              "        text-align: left;\n",
              "    }\n",
              "</style>\n",
              "<table border=\"1\" class=\"dataframe\">\n",
              "  <thead>\n",
              "    <tr>\n",
              "      <th></th>\n",
              "      <th>Regiao</th>\n",
              "      <th>Média</th>\n",
              "      <th>Mínima</th>\n",
              "      <th>Máxima</th>\n",
              "    </tr>\n",
              "  </thead>\n",
              "  <tbody>\n",
              "    <tr>\n",
              "      <th>Regiao</th>\n",
              "      <td>1.000000</td>\n",
              "      <td>-0.058212</td>\n",
              "      <td>-0.343489</td>\n",
              "      <td>0.412756</td>\n",
              "    </tr>\n",
              "    <tr>\n",
              "      <th>Média</th>\n",
              "      <td>-0.058212</td>\n",
              "      <td>1.000000</td>\n",
              "      <td>0.900999</td>\n",
              "      <td>0.647057</td>\n",
              "    </tr>\n",
              "    <tr>\n",
              "      <th>Mínima</th>\n",
              "      <td>-0.343489</td>\n",
              "      <td>0.900999</td>\n",
              "      <td>1.000000</td>\n",
              "      <td>0.506861</td>\n",
              "    </tr>\n",
              "    <tr>\n",
              "      <th>Máxima</th>\n",
              "      <td>0.412756</td>\n",
              "      <td>0.647057</td>\n",
              "      <td>0.506861</td>\n",
              "      <td>1.000000</td>\n",
              "    </tr>\n",
              "  </tbody>\n",
              "</table>\n",
              "</div>\n",
              "      <button class=\"colab-df-convert\" onclick=\"convertToInteractive('df-e9d8f1c7-35c5-495d-9b1d-7526ad8cc1cc')\"\n",
              "              title=\"Convert this dataframe to an interactive table.\"\n",
              "              style=\"display:none;\">\n",
              "        \n",
              "  <svg xmlns=\"http://www.w3.org/2000/svg\" height=\"24px\"viewBox=\"0 0 24 24\"\n",
              "       width=\"24px\">\n",
              "    <path d=\"M0 0h24v24H0V0z\" fill=\"none\"/>\n",
              "    <path d=\"M18.56 5.44l.94 2.06.94-2.06 2.06-.94-2.06-.94-.94-2.06-.94 2.06-2.06.94zm-11 1L8.5 8.5l.94-2.06 2.06-.94-2.06-.94L8.5 2.5l-.94 2.06-2.06.94zm10 10l.94 2.06.94-2.06 2.06-.94-2.06-.94-.94-2.06-.94 2.06-2.06.94z\"/><path d=\"M17.41 7.96l-1.37-1.37c-.4-.4-.92-.59-1.43-.59-.52 0-1.04.2-1.43.59L10.3 9.45l-7.72 7.72c-.78.78-.78 2.05 0 2.83L4 21.41c.39.39.9.59 1.41.59.51 0 1.02-.2 1.41-.59l7.78-7.78 2.81-2.81c.8-.78.8-2.07 0-2.86zM5.41 20L4 18.59l7.72-7.72 1.47 1.35L5.41 20z\"/>\n",
              "  </svg>\n",
              "      </button>\n",
              "      \n",
              "  <style>\n",
              "    .colab-df-container {\n",
              "      display:flex;\n",
              "      flex-wrap:wrap;\n",
              "      gap: 12px;\n",
              "    }\n",
              "\n",
              "    .colab-df-convert {\n",
              "      background-color: #E8F0FE;\n",
              "      border: none;\n",
              "      border-radius: 50%;\n",
              "      cursor: pointer;\n",
              "      display: none;\n",
              "      fill: #1967D2;\n",
              "      height: 32px;\n",
              "      padding: 0 0 0 0;\n",
              "      width: 32px;\n",
              "    }\n",
              "\n",
              "    .colab-df-convert:hover {\n",
              "      background-color: #E2EBFA;\n",
              "      box-shadow: 0px 1px 2px rgba(60, 64, 67, 0.3), 0px 1px 3px 1px rgba(60, 64, 67, 0.15);\n",
              "      fill: #174EA6;\n",
              "    }\n",
              "\n",
              "    [theme=dark] .colab-df-convert {\n",
              "      background-color: #3B4455;\n",
              "      fill: #D2E3FC;\n",
              "    }\n",
              "\n",
              "    [theme=dark] .colab-df-convert:hover {\n",
              "      background-color: #434B5C;\n",
              "      box-shadow: 0px 1px 3px 1px rgba(0, 0, 0, 0.15);\n",
              "      filter: drop-shadow(0px 1px 2px rgba(0, 0, 0, 0.3));\n",
              "      fill: #FFFFFF;\n",
              "    }\n",
              "  </style>\n",
              "\n",
              "      <script>\n",
              "        const buttonEl =\n",
              "          document.querySelector('#df-e9d8f1c7-35c5-495d-9b1d-7526ad8cc1cc button.colab-df-convert');\n",
              "        buttonEl.style.display =\n",
              "          google.colab.kernel.accessAllowed ? 'block' : 'none';\n",
              "\n",
              "        async function convertToInteractive(key) {\n",
              "          const element = document.querySelector('#df-e9d8f1c7-35c5-495d-9b1d-7526ad8cc1cc');\n",
              "          const dataTable =\n",
              "            await google.colab.kernel.invokeFunction('convertToInteractive',\n",
              "                                                     [key], {});\n",
              "          if (!dataTable) return;\n",
              "\n",
              "          const docLinkHtml = 'Like what you see? Visit the ' +\n",
              "            '<a target=\"_blank\" href=https://colab.research.google.com/notebooks/data_table.ipynb>data table notebook</a>'\n",
              "            + ' to learn more about interactive tables.';\n",
              "          element.innerHTML = '';\n",
              "          dataTable['output_type'] = 'display_data';\n",
              "          await google.colab.output.renderOutput(dataTable, element);\n",
              "          const docLink = document.createElement('div');\n",
              "          docLink.innerHTML = docLinkHtml;\n",
              "          element.appendChild(docLink);\n",
              "        }\n",
              "      </script>\n",
              "    </div>\n",
              "  </div>\n",
              "  "
            ]
          },
          "metadata": {},
          "execution_count": 122
        }
      ]
    },
    {
      "cell_type": "code",
      "source": [
        "plt.figure(figsize=(10,5))\n",
        "sns.heatmap(valores_cor_copy.corr(), vmin=-1.0, vmax=1.0, cmap='PuOr', annot=True)\n",
        "print()"
      ],
      "metadata": {
        "colab": {
          "base_uri": "https://localhost:8080/",
          "height": 355
        },
        "id": "pnhEav_SpCDG",
        "outputId": "7fbf0f0f-ba7d-420b-a7b5-eac819132d64"
      },
      "execution_count": null,
      "outputs": [
        {
          "output_type": "stream",
          "name": "stdout",
          "text": [
            "\n"
          ]
        },
        {
          "output_type": "display_data",
          "data": {
            "text/plain": [
              "<Figure size 720x360 with 2 Axes>"
            ],
            "image/png": "[encoded data removed]"
          },
          "metadata": {
            "needs_background": "light"
          }
        }
      ]
    },
    {
      "cell_type": "markdown",
      "source": [
        "*10*. Há alguma correlação entre o valor do combustível (gasolina e etanol) e a bandeira que vende ele?"
      ],
      "metadata": {
        "id": "I9a3wYv-q_Kh"
      }
    },
    {
      "cell_type": "code",
      "source": [
        "bandeiras = df_completo[(df_completo['Bandeira'] == 'RAIZEN')|\\\n",
        "                        (df_completo['Bandeira'] == 'PETROBRAS DISTRIBUIDORA S.A.')|\\\n",
        "                        (df_completo['Bandeira'] == 'IPIRANGA')|\\\n",
        "                        (df_completo['Bandeira'] == 'ALESAT')].groupby(['Regiao','Bandeira'])\n",
        "bandeiras = bandeiras['Valor de Venda'].describe()\n",
        "bandeiras.reset_index(inplace=True)\n",
        "media_nacional = df_completo['Valor de Venda'].mean()\n",
        "bandeiras['mean'] = bandeiras['mean']- media_nacional #fazendo diferença da média nacioal pela média de acordo com a bandeira e região\n",
        "plt.figure(figsize=(10,5)) #determinando o tamanho da figura\n",
        "current_palette_7 = sns.color_palette(\"hls\",4) #usado para colorir o gráfico\n",
        "ax =sns.barplot(x='Regiao',y='mean',hue='Bandeira',data=bandeiras)\n",
        "plt.legend(loc='best',prop={'size':15}) #legenda\n",
        "ax.set_ylabel ( 'Diferença para a media nacional em centavos',fontsize = 13) \n",
        "ax.set_xlabel( xlabel='Regiões',fontsize = 20)\n",
        "plt.xticks(fontsize=15)\n",
        "print()"
      ],
      "metadata": {
        "colab": {
          "base_uri": "https://localhost:8080/",
          "height": 379
        },
        "id": "FcHgr1TLA8Ym",
        "outputId": "91f6b99e-e76c-4bc7-ef6c-f41b89094166"
      },
      "execution_count": null,
      "outputs": [
        {
          "output_type": "stream",
          "name": "stdout",
          "text": [
            "\n"
          ]
        },
        {
          "output_type": "display_data",
          "data": {
            "text/plain": [
              "<Figure size 720x360 with 1 Axes>"
            ],
            "image/png": "[encoded data removed]"
          },
          "metadata": {
            "needs_background": "light"
          }
        }
      ]
    },
    {
      "cell_type": "markdown",
      "source": [
        "com o gráfico acima podemos ver a diferença da média do valor de venda nacional (todas regiões) pela média por região, agrupando por bandeira, conseguimos ver que a bandeira influencia no valor final do produto. As diferenças negativas indicam que a média nacional é maior que a média da região."
      ],
      "metadata": {
        "id": "hAX4NZ0TBH4Y"
      }
    },
    {
      "cell_type": "markdown",
      "source": [
        "*Extra n°1*. **No ultimo mês, qual foi o combustível mais caro e o mais barato ?**"
      ],
      "metadata": {
        "id": "zb1xejb6fCZ9"
      }
    },
    {
      "cell_type": "code",
      "source": [
        "#filtro do ultimo mês\n",
        "filtered_df =df_completo.loc[(df_completo['Data da Coleta'] >= '01/08/2022\t') & (df_completo['Data da Coleta'] < '31/08/2022')]\n",
        "filtered_df"
      ],
      "metadata": {
        "colab": {
          "base_uri": "https://localhost:8080/",
          "height": 659
        },
        "id": "HkmTkjJEfLfX",
        "outputId": "0b57b6eb-c8fa-4689-9b5a-9a7f8b30d4e7"
      },
      "execution_count": null,
      "outputs": [
        {
          "output_type": "execute_result",
          "data": {
            "text/plain": [
              "      Regiao Estado     Municipio  \\\n",
              "4729       N     AC    RIO BRANCO   \n",
              "4730       N     AC    RIO BRANCO   \n",
              "4731       N     AC    RIO BRANCO   \n",
              "4732       N     AC    RIO BRANCO   \n",
              "4733       N     AC    RIO BRANCO   \n",
              "...      ...    ...           ...   \n",
              "57627     SE     MG   DIVINOPOLIS   \n",
              "57628      S     RS  PORTO ALEGRE   \n",
              "57629      S     RS  PORTO ALEGRE   \n",
              "57630     NE     MA        CAXIAS   \n",
              "57631     NE     MA        CAXIAS   \n",
              "\n",
              "                                              Revenda                Bairro  \\\n",
              "4729                          AUTO POSTO ISAURAO LTDA  ESTACAO EXPERIMENTAL   \n",
              "4730                          AUTO POSTO ISAURAO LTDA  ESTACAO EXPERIMENTAL   \n",
              "4731                          AUTO POSTO ISAURAO LTDA  ESTACAO EXPERIMENTAL   \n",
              "4732   COMDEPE COMERCIO DE DERIVADOS DE PETROLEO LTDA               AVIARIO   \n",
              "4733   COMDEPE COMERCIO DE DERIVADOS DE PETROLEO LTDA               AVIARIO   \n",
              "...                                               ...                   ...   \n",
              "57627        AUTO POSTO DE COMBUSTIVEIS ATACADAO LTDA               CATALAO   \n",
              "57628          LUIZ GUSTAVO DI LORENZO GARCIA SCHERER              PARTENON   \n",
              "57629          LUIZ GUSTAVO DI LORENZO GARCIA SCHERER              PARTENON   \n",
              "57630            POSTAO COMERCIO DE COMBUSTIVEIS LTDA         VOLTA REDONDA   \n",
              "57631            POSTAO COMERCIO DE COMBUSTIVEIS LTDA         VOLTA REDONDA   \n",
              "\n",
              "                  Produto Data da Coleta  Valor_de_Venda       Bandeira  \\\n",
              "4729   GASOLINA ADITIVADA     02/08/2022            5.88  VIBRA ENERGIA   \n",
              "4730               ETANOL     02/08/2022            4.99  VIBRA ENERGIA   \n",
              "4731             GASOLINA     02/08/2022            5.85  VIBRA ENERGIA   \n",
              "4732   GASOLINA ADITIVADA     02/08/2022            5.93  VIBRA ENERGIA   \n",
              "4733             GASOLINA     02/08/2022            5.86  VIBRA ENERGIA   \n",
              "...                   ...            ...             ...            ...   \n",
              "57627            GASOLINA     29/07/2022            5.38         BRANCA   \n",
              "57628  GASOLINA ADITIVADA     29/07/2022            5.46         BRANCA   \n",
              "57629            GASOLINA     29/07/2022            5.46         BRANCA   \n",
              "57630  GASOLINA ADITIVADA     29/07/2022            5.68         BRANCA   \n",
              "57631            GASOLINA     29/07/2022            5.68         BRANCA   \n",
              "\n",
              "       Valor de Venda  \n",
              "4729             5.88  \n",
              "4730             4.99  \n",
              "4731             5.85  \n",
              "4732             5.93  \n",
              "4733             5.86  \n",
              "...               ...  \n",
              "57627            5.38  \n",
              "57628            5.46  \n",
              "57629            5.46  \n",
              "57630            5.68  \n",
              "57631            5.68  \n",
              "\n",
              "[115796 rows x 10 columns]"
            ],
            "text/html": [
              "\n",
              "  <div id=\"df-dd1bf32d-4bf3-4608-96e3-2d295d0d3071\">\n",
              "    <div class=\"colab-df-container\">\n",
              "      <div>\n",
              "<style scoped>\n",
              "    .dataframe tbody tr th:only-of-type {\n",
              "        vertical-align: middle;\n",
              "    }\n",
              "\n",
              "    .dataframe tbody tr th {\n",
              "        vertical-align: top;\n",
              "    }\n",
              "\n",
              "    .dataframe thead th {\n",
              "        text-align: right;\n",
              "    }\n",
              "</style>\n",
              "<table border=\"1\" class=\"dataframe\">\n",
              "  <thead>\n",
              "    <tr style=\"text-align: right;\">\n",
              "      <th></th>\n",
              "      <th>Regiao</th>\n",
              "      <th>Estado</th>\n",
              "      <th>Municipio</th>\n",
              "      <th>Revenda</th>\n",
              "      <th>Bairro</th>\n",
              "      <th>Produto</th>\n",
              "      <th>Data da Coleta</th>\n",
              "      <th>Valor_de_Venda</th>\n",
              "      <th>Bandeira</th>\n",
              "      <th>Valor de Venda</th>\n",
              "    </tr>\n",
              "  </thead>\n",
              "  <tbody>\n",
              "    <tr>\n",
              "      <th>4729</th>\n",
              "      <td>N</td>\n",
              "      <td>AC</td>\n",
              "      <td>RIO BRANCO</td>\n",
              "      <td>AUTO POSTO ISAURAO LTDA</td>\n",
              "      <td>ESTACAO EXPERIMENTAL</td>\n",
              "      <td>GASOLINA ADITIVADA</td>\n",
              "      <td>02/08/2022</td>\n",
              "      <td>5.88</td>\n",
              "      <td>VIBRA ENERGIA</td>\n",
              "      <td>5.88</td>\n",
              "    </tr>\n",
              "    <tr>\n",
              "      <th>4730</th>\n",
              "      <td>N</td>\n",
              "      <td>AC</td>\n",
              "      <td>RIO BRANCO</td>\n",
              "      <td>AUTO POSTO ISAURAO LTDA</td>\n",
              "      <td>ESTACAO EXPERIMENTAL</td>\n",
              "      <td>ETANOL</td>\n",
              "      <td>02/08/2022</td>\n",
              "      <td>4.99</td>\n",
              "      <td>VIBRA ENERGIA</td>\n",
              "      <td>4.99</td>\n",
              "    </tr>\n",
              "    <tr>\n",
              "      <th>4731</th>\n",
              "      <td>N</td>\n",
              "      <td>AC</td>\n",
              "      <td>RIO BRANCO</td>\n",
              "      <td>AUTO POSTO ISAURAO LTDA</td>\n",
              "      <td>ESTACAO EXPERIMENTAL</td>\n",
              "      <td>GASOLINA</td>\n",
              "      <td>02/08/2022</td>\n",
              "      <td>5.85</td>\n",
              "      <td>VIBRA ENERGIA</td>\n",
              "      <td>5.85</td>\n",
              "    </tr>\n",
              "    <tr>\n",
              "      <th>4732</th>\n",
              "      <td>N</td>\n",
              "      <td>AC</td>\n",
              "      <td>RIO BRANCO</td>\n",
              "      <td>COMDEPE COMERCIO DE DERIVADOS DE PETROLEO LTDA</td>\n",
              "      <td>AVIARIO</td>\n",
              "      <td>GASOLINA ADITIVADA</td>\n",
              "      <td>02/08/2022</td>\n",
              "      <td>5.93</td>\n",
              "      <td>VIBRA ENERGIA</td>\n",
              "      <td>5.93</td>\n",
              "    </tr>\n",
              "    <tr>\n",
              "      <th>4733</th>\n",
              "      <td>N</td>\n",
              "      <td>AC</td>\n",
              "      <td>RIO BRANCO</td>\n",
              "      <td>COMDEPE COMERCIO DE DERIVADOS DE PETROLEO LTDA</td>\n",
              "      <td>AVIARIO</td>\n",
              "      <td>GASOLINA</td>\n",
              "      <td>02/08/2022</td>\n",
              "      <td>5.86</td>\n",
              "      <td>VIBRA ENERGIA</td>\n",
              "      <td>5.86</td>\n",
              "    </tr>\n",
              "    <tr>\n",
              "      <th>...</th>\n",
              "      <td>...</td>\n",
              "      <td>...</td>\n",
              "      <td>...</td>\n",
              "      <td>...</td>\n",
              "      <td>...</td>\n",
              "      <td>...</td>\n",
              "      <td>...</td>\n",
              "      <td>...</td>\n",
              "      <td>...</td>\n",
              "      <td>...</td>\n",
              "    </tr>\n",
              "    <tr>\n",
              "      <th>57627</th>\n",
              "      <td>SE</td>\n",
              "      <td>MG</td>\n",
              "      <td>DIVINOPOLIS</td>\n",
              "      <td>AUTO POSTO DE COMBUSTIVEIS ATACADAO LTDA</td>\n",
              "      <td>CATALAO</td>\n",
              "      <td>GASOLINA</td>\n",
              "      <td>29/07/2022</td>\n",
              "      <td>5.38</td>\n",
              "      <td>BRANCA</td>\n",
              "      <td>5.38</td>\n",
              "    </tr>\n",
              "    <tr>\n",
              "      <th>57628</th>\n",
              "      <td>S</td>\n",
              "      <td>RS</td>\n",
              "      <td>PORTO ALEGRE</td>\n",
              "      <td>LUIZ GUSTAVO DI LORENZO GARCIA SCHERER</td>\n",
              "      <td>PARTENON</td>\n",
              "      <td>GASOLINA ADITIVADA</td>\n",
              "      <td>29/07/2022</td>\n",
              "      <td>5.46</td>\n",
              "      <td>BRANCA</td>\n",
              "      <td>5.46</td>\n",
              "    </tr>\n",
              "    <tr>\n",
              "      <th>57629</th>\n",
              "      <td>S</td>\n",
              "      <td>RS</td>\n",
              "      <td>PORTO ALEGRE</td>\n",
              "      <td>LUIZ GUSTAVO DI LORENZO GARCIA SCHERER</td>\n",
              "      <td>PARTENON</td>\n",
              "      <td>GASOLINA</td>\n",
              "      <td>29/07/2022</td>\n",
              "      <td>5.46</td>\n",
              "      <td>BRANCA</td>\n",
              "      <td>5.46</td>\n",
              "    </tr>\n",
              "    <tr>\n",
              "      <th>57630</th>\n",
              "      <td>NE</td>\n",
              "      <td>MA</td>\n",
              "      <td>CAXIAS</td>\n",
              "      <td>POSTAO COMERCIO DE COMBUSTIVEIS LTDA</td>\n",
              "      <td>VOLTA REDONDA</td>\n",
              "      <td>GASOLINA ADITIVADA</td>\n",
              "      <td>29/07/2022</td>\n",
              "      <td>5.68</td>\n",
              "      <td>BRANCA</td>\n",
              "      <td>5.68</td>\n",
              "    </tr>\n",
              "    <tr>\n",
              "      <th>57631</th>\n",
              "      <td>NE</td>\n",
              "      <td>MA</td>\n",
              "      <td>CAXIAS</td>\n",
              "      <td>POSTAO COMERCIO DE COMBUSTIVEIS LTDA</td>\n",
              "      <td>VOLTA REDONDA</td>\n",
              "      <td>GASOLINA</td>\n",
              "      <td>29/07/2022</td>\n",
              "      <td>5.68</td>\n",
              "      <td>BRANCA</td>\n",
              "      <td>5.68</td>\n",
              "    </tr>\n",
              "  </tbody>\n",
              "</table>\n",
              "<p>115796 rows × 10 columns</p>\n",
              "</div>\n",
              "      <button class=\"colab-df-convert\" onclick=\"convertToInteractive('df-dd1bf32d-4bf3-4608-96e3-2d295d0d3071')\"\n",
              "              title=\"Convert this dataframe to an interactive table.\"\n",
              "              style=\"display:none;\">\n",
              "        \n",
              "  <svg xmlns=\"http://www.w3.org/2000/svg\" height=\"24px\"viewBox=\"0 0 24 24\"\n",
              "       width=\"24px\">\n",
              "    <path d=\"M0 0h24v24H0V0z\" fill=\"none\"/>\n",
              "    <path d=\"M18.56 5.44l.94 2.06.94-2.06 2.06-.94-2.06-.94-.94-2.06-.94 2.06-2.06.94zm-11 1L8.5 8.5l.94-2.06 2.06-.94-2.06-.94L8.5 2.5l-.94 2.06-2.06.94zm10 10l.94 2.06.94-2.06 2.06-.94-2.06-.94-.94-2.06-.94 2.06-2.06.94z\"/><path d=\"M17.41 7.96l-1.37-1.37c-.4-.4-.92-.59-1.43-.59-.52 0-1.04.2-1.43.59L10.3 9.45l-7.72 7.72c-.78.78-.78 2.05 0 2.83L4 21.41c.39.39.9.59 1.41.59.51 0 1.02-.2 1.41-.59l7.78-7.78 2.81-2.81c.8-.78.8-2.07 0-2.86zM5.41 20L4 18.59l7.72-7.72 1.47 1.35L5.41 20z\"/>\n",
              "  </svg>\n",
              "      </button>\n",
              "      \n",
              "  <style>\n",
              "    .colab-df-container {\n",
              "      display:flex;\n",
              "      flex-wrap:wrap;\n",
              "      gap: 12px;\n",
              "    }\n",
              "\n",
              "    .colab-df-convert {\n",
              "      background-color: #E8F0FE;\n",
              "      border: none;\n",
              "      border-radius: 50%;\n",
              "      cursor: pointer;\n",
              "      display: none;\n",
              "      fill: #1967D2;\n",
              "      height: 32px;\n",
              "      padding: 0 0 0 0;\n",
              "      width: 32px;\n",
              "    }\n",
              "\n",
              "    .colab-df-convert:hover {\n",
              "      background-color: #E2EBFA;\n",
              "      box-shadow: 0px 1px 2px rgba(60, 64, 67, 0.3), 0px 1px 3px 1px rgba(60, 64, 67, 0.15);\n",
              "      fill: #174EA6;\n",
              "    }\n",
              "\n",
              "    [theme=dark] .colab-df-convert {\n",
              "      background-color: #3B4455;\n",
              "      fill: #D2E3FC;\n",
              "    }\n",
              "\n",
              "    [theme=dark] .colab-df-convert:hover {\n",
              "      background-color: #434B5C;\n",
              "      box-shadow: 0px 1px 3px 1px rgba(0, 0, 0, 0.15);\n",
              "      filter: drop-shadow(0px 1px 2px rgba(0, 0, 0, 0.3));\n",
              "      fill: #FFFFFF;\n",
              "    }\n",
              "  </style>\n",
              "\n",
              "      <script>\n",
              "        const buttonEl =\n",
              "          document.querySelector('#df-dd1bf32d-4bf3-4608-96e3-2d295d0d3071 button.colab-df-convert');\n",
              "        buttonEl.style.display =\n",
              "          google.colab.kernel.accessAllowed ? 'block' : 'none';\n",
              "\n",
              "        async function convertToInteractive(key) {\n",
              "          const element = document.querySelector('#df-dd1bf32d-4bf3-4608-96e3-2d295d0d3071');\n",
              "          const dataTable =\n",
              "            await google.colab.kernel.invokeFunction('convertToInteractive',\n",
              "                                                     [key], {});\n",
              "          if (!dataTable) return;\n",
              "\n",
              "          const docLinkHtml = 'Like what you see? Visit the ' +\n",
              "            '<a target=\"_blank\" href=https://colab.research.google.com/notebooks/data_table.ipynb>data table notebook</a>'\n",
              "            + ' to learn more about interactive tables.';\n",
              "          element.innerHTML = '';\n",
              "          dataTable['output_type'] = 'display_data';\n",
              "          await google.colab.output.renderOutput(dataTable, element);\n",
              "          const docLink = document.createElement('div');\n",
              "          docLink.innerHTML = docLinkHtml;\n",
              "          element.appendChild(docLink);\n",
              "        }\n",
              "      </script>\n",
              "    </div>\n",
              "  </div>\n",
              "  "
            ]
          },
          "metadata": {},
          "execution_count": 125
        }
      ]
    },
    {
      "cell_type": "code",
      "source": [
        "# usando o df filtrado do mês de agosto, conseguimos agrupar o valor máximo de cada produto e validar qual o mais caro e mais barato nesse ultimo mês\n",
        "filtered_df.groupby(['Produto'])['Valor_de_Venda'].agg(['max']).plot(kind='bar', figsize=(10,5));"
      ],
      "metadata": {
        "colab": {
          "base_uri": "https://localhost:8080/",
          "height": 432
        },
        "id": "zWVT_sFYhqH0",
        "outputId": "75355941-8426-4908-9262-5b3b5963d0d1"
      },
      "execution_count": null,
      "outputs": [
        {
          "output_type": "display_data",
          "data": {
            "text/plain": [
              "<Figure size 720x360 with 1 Axes>"
            ],
            "image/png": "[encoded data removed]"
          },
          "metadata": {
            "needs_background": "light"
          }
        }
      ]
    },
    {
      "cell_type": "markdown",
      "source": [
        "*Extra n°2*. **Qual o valor maximo e minimo dos combustíveis no período ?**"
      ],
      "metadata": {
        "id": "VW51cYwsh37r"
      }
    },
    {
      "cell_type": "code",
      "source": [
        "df_completo_comb = df_completo\n",
        "df_completo_comb.groupby(['Produto'])['Valor_de_Venda'].agg(['max','min'])"
      ],
      "metadata": {
        "id": "zFnUOD1Oh3hU",
        "outputId": "d7290f04-1fe9-405e-9701-80777f34cf8f",
        "colab": {
          "base_uri": "https://localhost:8080/",
          "height": 175
        }
      },
      "execution_count": 67,
      "outputs": [
        {
          "output_type": "execute_result",
          "data": {
            "text/plain": [
              "                     max   min\n",
              "Produto                       \n",
              "ETANOL              7.36  3.37\n",
              "GASOLINA            7.40  4.13\n",
              "GASOLINA ADITIVADA  7.40  4.13"
            ],
            "text/html": [
              "\n",
              "  <div id=\"df-80f1a736-fa1a-47cb-a015-d292abab96a6\">\n",
              "    <div class=\"colab-df-container\">\n",
              "      <div>\n",
              "<style scoped>\n",
              "    .dataframe tbody tr th:only-of-type {\n",
              "        vertical-align: middle;\n",
              "    }\n",
              "\n",
              "    .dataframe tbody tr th {\n",
              "        vertical-align: top;\n",
              "    }\n",
              "\n",
              "    .dataframe thead th {\n",
              "        text-align: right;\n",
              "    }\n",
              "</style>\n",
              "<table border=\"1\" class=\"dataframe\">\n",
              "  <thead>\n",
              "    <tr style=\"text-align: right;\">\n",
              "      <th></th>\n",
              "      <th>max</th>\n",
              "      <th>min</th>\n",
              "    </tr>\n",
              "    <tr>\n",
              "      <th>Produto</th>\n",
              "      <th></th>\n",
              "      <th></th>\n",
              "    </tr>\n",
              "  </thead>\n",
              "  <tbody>\n",
              "    <tr>\n",
              "      <th>ETANOL</th>\n",
              "      <td>7.36</td>\n",
              "      <td>3.37</td>\n",
              "    </tr>\n",
              "    <tr>\n",
              "      <th>GASOLINA</th>\n",
              "      <td>7.40</td>\n",
              "      <td>4.13</td>\n",
              "    </tr>\n",
              "    <tr>\n",
              "      <th>GASOLINA ADITIVADA</th>\n",
              "      <td>7.40</td>\n",
              "      <td>4.13</td>\n",
              "    </tr>\n",
              "  </tbody>\n",
              "</table>\n",
              "</div>\n",
              "      <button class=\"colab-df-convert\" onclick=\"convertToInteractive('df-80f1a736-fa1a-47cb-a015-d292abab96a6')\"\n",
              "              title=\"Convert this dataframe to an interactive table.\"\n",
              "              style=\"display:none;\">\n",
              "        \n",
              "  <svg xmlns=\"http://www.w3.org/2000/svg\" height=\"24px\"viewBox=\"0 0 24 24\"\n",
              "       width=\"24px\">\n",
              "    <path d=\"M0 0h24v24H0V0z\" fill=\"none\"/>\n",
              "    <path d=\"M18.56 5.44l.94 2.06.94-2.06 2.06-.94-2.06-.94-.94-2.06-.94 2.06-2.06.94zm-11 1L8.5 8.5l.94-2.06 2.06-.94-2.06-.94L8.5 2.5l-.94 2.06-2.06.94zm10 10l.94 2.06.94-2.06 2.06-.94-2.06-.94-.94-2.06-.94 2.06-2.06.94z\"/><path d=\"M17.41 7.96l-1.37-1.37c-.4-.4-.92-.59-1.43-.59-.52 0-1.04.2-1.43.59L10.3 9.45l-7.72 7.72c-.78.78-.78 2.05 0 2.83L4 21.41c.39.39.9.59 1.41.59.51 0 1.02-.2 1.41-.59l7.78-7.78 2.81-2.81c.8-.78.8-2.07 0-2.86zM5.41 20L4 18.59l7.72-7.72 1.47 1.35L5.41 20z\"/>\n",
              "  </svg>\n",
              "      </button>\n",
              "      \n",
              "  <style>\n",
              "    .colab-df-container {\n",
              "      display:flex;\n",
              "      flex-wrap:wrap;\n",
              "      gap: 12px;\n",
              "    }\n",
              "\n",
              "    .colab-df-convert {\n",
              "      background-color: #E8F0FE;\n",
              "      border: none;\n",
              "      border-radius: 50%;\n",
              "      cursor: pointer;\n",
              "      display: none;\n",
              "      fill: #1967D2;\n",
              "      height: 32px;\n",
              "      padding: 0 0 0 0;\n",
              "      width: 32px;\n",
              "    }\n",
              "\n",
              "    .colab-df-convert:hover {\n",
              "      background-color: #E2EBFA;\n",
              "      box-shadow: 0px 1px 2px rgba(60, 64, 67, 0.3), 0px 1px 3px 1px rgba(60, 64, 67, 0.15);\n",
              "      fill: #174EA6;\n",
              "    }\n",
              "\n",
              "    [theme=dark] .colab-df-convert {\n",
              "      background-color: #3B4455;\n",
              "      fill: #D2E3FC;\n",
              "    }\n",
              "\n",
              "    [theme=dark] .colab-df-convert:hover {\n",
              "      background-color: #434B5C;\n",
              "      box-shadow: 0px 1px 3px 1px rgba(0, 0, 0, 0.15);\n",
              "      filter: drop-shadow(0px 1px 2px rgba(0, 0, 0, 0.3));\n",
              "      fill: #FFFFFF;\n",
              "    }\n",
              "  </style>\n",
              "\n",
              "      <script>\n",
              "        const buttonEl =\n",
              "          document.querySelector('#df-80f1a736-fa1a-47cb-a015-d292abab96a6 button.colab-df-convert');\n",
              "        buttonEl.style.display =\n",
              "          google.colab.kernel.accessAllowed ? 'block' : 'none';\n",
              "\n",
              "        async function convertToInteractive(key) {\n",
              "          const element = document.querySelector('#df-80f1a736-fa1a-47cb-a015-d292abab96a6');\n",
              "          const dataTable =\n",
              "            await google.colab.kernel.invokeFunction('convertToInteractive',\n",
              "                                                     [key], {});\n",
              "          if (!dataTable) return;\n",
              "\n",
              "          const docLinkHtml = 'Like what you see? Visit the ' +\n",
              "            '<a target=\"_blank\" href=https://colab.research.google.com/notebooks/data_table.ipynb>data table notebook</a>'\n",
              "            + ' to learn more about interactive tables.';\n",
              "          element.innerHTML = '';\n",
              "          dataTable['output_type'] = 'display_data';\n",
              "          await google.colab.output.renderOutput(dataTable, element);\n",
              "          const docLink = document.createElement('div');\n",
              "          docLink.innerHTML = docLinkHtml;\n",
              "          element.appendChild(docLink);\n",
              "        }\n",
              "      </script>\n",
              "    </div>\n",
              "  </div>\n",
              "  "
            ]
          },
          "metadata": {},
          "execution_count": 67
        }
      ]
    },
    {
      "cell_type": "code",
      "source": [
        "df_completo_comb = df_completo\n",
        "df_completo_comb.groupby(['Produto'])['Valor_de_Venda'].agg(['max','min']).plot(kind='bar', figsize=(20,5));"
      ],
      "metadata": {
        "id": "nwRlUZiZiChf",
        "outputId": "3f6a90e7-fc65-47ef-d0c6-e11ac09b04f0",
        "colab": {
          "base_uri": "https://localhost:8080/",
          "height": 432
        }
      },
      "execution_count": 68,
      "outputs": [
        {
          "output_type": "display_data",
          "data": {
            "text/plain": [
              "<Figure size 1440x360 with 1 Axes>"
            ],
            "image/png": "[encoded data removed]"
          },
          "metadata": {
            "needs_background": "light"
          }
        }
      ]
    }
  ]
}